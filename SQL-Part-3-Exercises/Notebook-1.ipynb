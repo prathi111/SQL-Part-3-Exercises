{
    "metadata": {
        "kernelspec": {
            "name": "SQL",
            "display_name": "SQL",
            "language": "sql"
        },
        "language_info": {
            "name": "sql",
            "version": ""
        },
        "extensions": {
            "azuredatastudio": {
                "version": 1,
                "views": []
            }
        }
    },
    "nbformat_minor": 2,
    "nbformat": 4,
    "cells": [
        {
            "cell_type": "markdown",
            "source": [
                "# SQL Part 3 Exercises Joins\n",
                "\n",
                "This notebook works with the BooksDB dataset.  \n",
                "\n",
                "**Questions 1-4** focus on how joins work in a more general sense.  If you are not sure how to best answer the questions, try manipulating the queries by changing the order of joins, the length of the TOP, or how they are ordered.  \n",
                "\n",
                "> <span style=\"background-color: rgba(127, 127, 127, 0.1);\"><i>Note</i>: If some of the queries are not returning quickly, you can try closing and restarting azure data studio after a few minutes.</span>\n",
                "\n",
                "In **questions 5-8**, you will be asked to join tables to find results about titles, tags, and the books users want to read.\n",
                "\n",
                "As you go through the questions, you will see 'Minimum Desired Output'.  This will provide you with the bare minimum columns needed to answer the questions.  When you write the queries, add as many additional columns as you need to best find your answers."
            ],
            "metadata": {
                "azdata_cell_guid": "db9534a9-c8a7-4c09-8180-bcba0690bb02"
            },
            "attachments": {}
        },
        {
            "cell_type": "markdown",
            "source": [
                "## **QUESTION 1:**  Exploring a LEFT JOIN using the **books** and **to\\_read** tables\n",
                "\n",
                "The code block below has been commented out. To answer this question, you will need to uncomment it by removing the **/\\*** (line 1) and **\\*/** (line 16).\n",
                "\n",
                "**Part A:** Look at Query 1, which table is the 'Left' table and which is the 'Right'?\n",
                "\n",
                "> Your Answer: Books(b) is the left table and to\\_read(tr) is the right table\n",
                "\n",
                "**Part B:** Using table 2, answer the following questions: \n",
                "\n",
                "- When we added a  '**WHERE tr.user\\_id IS NOT NULL'** clause (line 14), how did the table change?  Why?\n",
                "\n",
                "> Your Answer:Only rows with values are filtered and  leaves out the rows where the user\\_id is null"
            ],
            "metadata": {
                "azdata_cell_guid": "660be568-9a70-40ff-a2fa-a78e31e87b6f"
            },
            "attachments": {}
        },
        {
            "cell_type": "code",
            "source": [
                "\n",
                "-- Query 1: LEFT JOIN \n",
                "SELECT TOP 50 b.title, b.average_rating, b.books_count,tr.user_id, tr.book_id\n",
                "FROM BooksDB.dbo.books AS b\n",
                "LEFT JOIN BooksDB.dbo.to_read AS tr\n",
                "ON b.best_book_id = tr.book_id\n",
                "ORDER BY b.average_rating;\n",
                "\n",
                "-- Query 2: LEFT JOIN USING 'IS NOT NULL'\n",
                "SELECT TOP 50 b.title, b.average_rating, b.books_count,tr.user_id, tr.book_id\n",
                "FROM BooksDB.dbo.books AS b\n",
                "LEFT JOIN BooksDB.dbo.to_read AS tr\n",
                "ON b.best_book_id = tr.book_id\n",
                "WHERE tr.user_id IS NOT NULL\n",
                "ORDER BY b.average_rating;\n",
                ""
            ],
            "metadata": {
                "azdata_cell_guid": "25dcd34c-5e5d-4393-9da0-a4c0effb6455",
                "tags": [],
                "language": "sql"
            },
            "outputs": [
                {
                    "output_type": "display_data",
                    "data": {
                        "text/html": "(50 rows affected)"
                    },
                    "metadata": {}
                },
                {
                    "output_type": "display_data",
                    "data": {
                        "text/html": "(50 rows affected)"
                    },
                    "metadata": {}
                },
                {
                    "output_type": "display_data",
                    "data": {
                        "text/html": "Total execution time: 00:00:07.659"
                    },
                    "metadata": {}
                },
                {
                    "output_type": "execute_result",
                    "metadata": {},
                    "execution_count": 6,
                    "data": {
                        "application/vnd.dataresource+json": {
                            "schema": {
                                "fields": [
                                    {
                                        "name": "title"
                                    },
                                    {
                                        "name": "average_rating"
                                    },
                                    {
                                        "name": "books_count"
                                    },
                                    {
                                        "name": "user_id"
                                    },
                                    {
                                        "name": "book_id"
                                    }
                                ]
                            },
                            "data": [
                                {
                                    "0": "One Night at the Call Center",
                                    "1": "2.47",
                                    "2": "25",
                                    "3": "NULL",
                                    "4": "NULL"
                                },
                                {
                                    "0": "The Almost Moon",
                                    "1": "2.67",
                                    "2": "63",
                                    "3": "NULL",
                                    "4": "NULL"
                                },
                                {
                                    "0": "The Finkler Question",
                                    "1": "2.76",
                                    "2": "45",
                                    "3": "NULL",
                                    "4": "NULL"
                                },
                                {
                                    "0": "Four Blondes",
                                    "1": "2.8",
                                    "2": "57",
                                    "3": "449",
                                    "4": "6613"
                                },
                                {
                                    "0": "Four Blondes",
                                    "1": "2.8",
                                    "2": "57",
                                    "3": "1378",
                                    "4": "6613"
                                },
                                {
                                    "0": "Four Blondes",
                                    "1": "2.8",
                                    "2": "57",
                                    "3": "6465",
                                    "4": "6613"
                                },
                                {
                                    "0": "Four Blondes",
                                    "1": "2.8",
                                    "2": "57",
                                    "3": "6700",
                                    "4": "6613"
                                },
                                {
                                    "0": "Four Blondes",
                                    "1": "2.8",
                                    "2": "57",
                                    "3": "7830",
                                    "4": "6613"
                                },
                                {
                                    "0": "Four Blondes",
                                    "1": "2.8",
                                    "2": "57",
                                    "3": "10085",
                                    "4": "6613"
                                },
                                {
                                    "0": "Four Blondes",
                                    "1": "2.8",
                                    "2": "57",
                                    "3": "16298",
                                    "4": "6613"
                                },
                                {
                                    "0": "Four Blondes",
                                    "1": "2.8",
                                    "2": "57",
                                    "3": "16845",
                                    "4": "6613"
                                },
                                {
                                    "0": "Four Blondes",
                                    "1": "2.8",
                                    "2": "57",
                                    "3": "17470",
                                    "4": "6613"
                                },
                                {
                                    "0": "Four Blondes",
                                    "1": "2.8",
                                    "2": "57",
                                    "3": "19763",
                                    "4": "6613"
                                },
                                {
                                    "0": "Four Blondes",
                                    "1": "2.8",
                                    "2": "57",
                                    "3": "21938",
                                    "4": "6613"
                                },
                                {
                                    "0": "Four Blondes",
                                    "1": "2.8",
                                    "2": "57",
                                    "3": "22289",
                                    "4": "6613"
                                },
                                {
                                    "0": "Four Blondes",
                                    "1": "2.8",
                                    "2": "57",
                                    "3": "23758",
                                    "4": "6613"
                                },
                                {
                                    "0": "Four Blondes",
                                    "1": "2.8",
                                    "2": "57",
                                    "3": "27874",
                                    "4": "6613"
                                },
                                {
                                    "0": "Four Blondes",
                                    "1": "2.8",
                                    "2": "57",
                                    "3": "28690",
                                    "4": "6613"
                                },
                                {
                                    "0": "Four Blondes",
                                    "1": "2.8",
                                    "2": "57",
                                    "3": "29023",
                                    "4": "6613"
                                },
                                {
                                    "0": "Four Blondes",
                                    "1": "2.8",
                                    "2": "57",
                                    "3": "29315",
                                    "4": "6613"
                                },
                                {
                                    "0": "Four Blondes",
                                    "1": "2.8",
                                    "2": "57",
                                    "3": "30245",
                                    "4": "6613"
                                },
                                {
                                    "0": "Four Blondes",
                                    "1": "2.8",
                                    "2": "57",
                                    "3": "36128",
                                    "4": "6613"
                                },
                                {
                                    "0": "Four Blondes",
                                    "1": "2.8",
                                    "2": "57",
                                    "3": "36554",
                                    "4": "6613"
                                },
                                {
                                    "0": "Four Blondes",
                                    "1": "2.8",
                                    "2": "57",
                                    "3": "38159",
                                    "4": "6613"
                                },
                                {
                                    "0": "Four Blondes",
                                    "1": "2.8",
                                    "2": "57",
                                    "3": "38800",
                                    "4": "6613"
                                },
                                {
                                    "0": "Four Blondes",
                                    "1": "2.8",
                                    "2": "57",
                                    "3": "40361",
                                    "4": "6613"
                                },
                                {
                                    "0": "Four Blondes",
                                    "1": "2.8",
                                    "2": "57",
                                    "3": "40529",
                                    "4": "6613"
                                },
                                {
                                    "0": "Four Blondes",
                                    "1": "2.8",
                                    "2": "57",
                                    "3": "41485",
                                    "4": "6613"
                                },
                                {
                                    "0": "Four Blondes",
                                    "1": "2.8",
                                    "2": "57",
                                    "3": "42706",
                                    "4": "6613"
                                },
                                {
                                    "0": "Four Blondes",
                                    "1": "2.8",
                                    "2": "57",
                                    "3": "45206",
                                    "4": "6613"
                                },
                                {
                                    "0": "Four Blondes",
                                    "1": "2.8",
                                    "2": "57",
                                    "3": "45689",
                                    "4": "6613"
                                },
                                {
                                    "0": "Four Blondes",
                                    "1": "2.8",
                                    "2": "57",
                                    "3": "49499",
                                    "4": "6613"
                                },
                                {
                                    "0": "Four Blondes",
                                    "1": "2.8",
                                    "2": "57",
                                    "3": "51105",
                                    "4": "6613"
                                },
                                {
                                    "0": "Four Blondes",
                                    "1": "2.8",
                                    "2": "57",
                                    "3": "51671",
                                    "4": "6613"
                                },
                                {
                                    "0": "Four Blondes",
                                    "1": "2.8",
                                    "2": "57",
                                    "3": "52109",
                                    "4": "6613"
                                },
                                {
                                    "0": "Lost",
                                    "1": "2.8",
                                    "2": "18",
                                    "3": "NULL",
                                    "4": "NULL"
                                },
                                {
                                    "0": "Tell-All",
                                    "1": "2.84",
                                    "2": "37",
                                    "3": "NULL",
                                    "4": "NULL"
                                },
                                {
                                    "0": "Revenge Wears Prada: The Devil Returns (The Devil Wears Prada, #2)",
                                    "1": "2.84",
                                    "2": "59",
                                    "3": "NULL",
                                    "4": "NULL"
                                },
                                {
                                    "0": "Among the Ten Thousand Things",
                                    "1": "2.84",
                                    "2": "19",
                                    "3": "NULL",
                                    "4": "NULL"
                                },
                                {
                                    "0": "The Emperor's Children",
                                    "1": "2.93",
                                    "2": "45",
                                    "3": "7860",
                                    "4": "3648"
                                },
                                {
                                    "0": "The Emperor's Children",
                                    "1": "2.93",
                                    "2": "45",
                                    "3": "11320",
                                    "4": "3648"
                                },
                                {
                                    "0": "The Emperor's Children",
                                    "1": "2.93",
                                    "2": "45",
                                    "3": "12686",
                                    "4": "3648"
                                },
                                {
                                    "0": "The Emperor's Children",
                                    "1": "2.93",
                                    "2": "45",
                                    "3": "12729",
                                    "4": "3648"
                                },
                                {
                                    "0": "The Emperor's Children",
                                    "1": "2.93",
                                    "2": "45",
                                    "3": "12891",
                                    "4": "3648"
                                },
                                {
                                    "0": "The Emperor's Children",
                                    "1": "2.93",
                                    "2": "45",
                                    "3": "16933",
                                    "4": "3648"
                                },
                                {
                                    "0": "The Emperor's Children",
                                    "1": "2.93",
                                    "2": "45",
                                    "3": "17093",
                                    "4": "3648"
                                },
                                {
                                    "0": "The Emperor's Children",
                                    "1": "2.93",
                                    "2": "45",
                                    "3": "24036",
                                    "4": "3648"
                                },
                                {
                                    "0": "The Emperor's Children",
                                    "1": "2.93",
                                    "2": "45",
                                    "3": "35122",
                                    "4": "3648"
                                },
                                {
                                    "0": "The Emperor's Children",
                                    "1": "2.93",
                                    "2": "45",
                                    "3": "36022",
                                    "4": "3648"
                                },
                                {
                                    "0": "The Emperor's Children",
                                    "1": "2.93",
                                    "2": "45",
                                    "3": "36952",
                                    "4": "3648"
                                }
                            ]
                        },
                        "text/html": [
                            "<table>",
                            "<tr><th>title</th><th>average_rating</th><th>books_count</th><th>user_id</th><th>book_id</th></tr>",
                            "<tr><td>One Night at the Call Center</td><td>2.47</td><td>25</td><td>NULL</td><td>NULL</td></tr>",
                            "<tr><td>The Almost Moon</td><td>2.67</td><td>63</td><td>NULL</td><td>NULL</td></tr>",
                            "<tr><td>The Finkler Question</td><td>2.76</td><td>45</td><td>NULL</td><td>NULL</td></tr>",
                            "<tr><td>Four Blondes</td><td>2.8</td><td>57</td><td>449</td><td>6613</td></tr>",
                            "<tr><td>Four Blondes</td><td>2.8</td><td>57</td><td>1378</td><td>6613</td></tr>",
                            "<tr><td>Four Blondes</td><td>2.8</td><td>57</td><td>6465</td><td>6613</td></tr>",
                            "<tr><td>Four Blondes</td><td>2.8</td><td>57</td><td>6700</td><td>6613</td></tr>",
                            "<tr><td>Four Blondes</td><td>2.8</td><td>57</td><td>7830</td><td>6613</td></tr>",
                            "<tr><td>Four Blondes</td><td>2.8</td><td>57</td><td>10085</td><td>6613</td></tr>",
                            "<tr><td>Four Blondes</td><td>2.8</td><td>57</td><td>16298</td><td>6613</td></tr>",
                            "<tr><td>Four Blondes</td><td>2.8</td><td>57</td><td>16845</td><td>6613</td></tr>",
                            "<tr><td>Four Blondes</td><td>2.8</td><td>57</td><td>17470</td><td>6613</td></tr>",
                            "<tr><td>Four Blondes</td><td>2.8</td><td>57</td><td>19763</td><td>6613</td></tr>",
                            "<tr><td>Four Blondes</td><td>2.8</td><td>57</td><td>21938</td><td>6613</td></tr>",
                            "<tr><td>Four Blondes</td><td>2.8</td><td>57</td><td>22289</td><td>6613</td></tr>",
                            "<tr><td>Four Blondes</td><td>2.8</td><td>57</td><td>23758</td><td>6613</td></tr>",
                            "<tr><td>Four Blondes</td><td>2.8</td><td>57</td><td>27874</td><td>6613</td></tr>",
                            "<tr><td>Four Blondes</td><td>2.8</td><td>57</td><td>28690</td><td>6613</td></tr>",
                            "<tr><td>Four Blondes</td><td>2.8</td><td>57</td><td>29023</td><td>6613</td></tr>",
                            "<tr><td>Four Blondes</td><td>2.8</td><td>57</td><td>29315</td><td>6613</td></tr>",
                            "<tr><td>Four Blondes</td><td>2.8</td><td>57</td><td>30245</td><td>6613</td></tr>",
                            "<tr><td>Four Blondes</td><td>2.8</td><td>57</td><td>36128</td><td>6613</td></tr>",
                            "<tr><td>Four Blondes</td><td>2.8</td><td>57</td><td>36554</td><td>6613</td></tr>",
                            "<tr><td>Four Blondes</td><td>2.8</td><td>57</td><td>38159</td><td>6613</td></tr>",
                            "<tr><td>Four Blondes</td><td>2.8</td><td>57</td><td>38800</td><td>6613</td></tr>",
                            "<tr><td>Four Blondes</td><td>2.8</td><td>57</td><td>40361</td><td>6613</td></tr>",
                            "<tr><td>Four Blondes</td><td>2.8</td><td>57</td><td>40529</td><td>6613</td></tr>",
                            "<tr><td>Four Blondes</td><td>2.8</td><td>57</td><td>41485</td><td>6613</td></tr>",
                            "<tr><td>Four Blondes</td><td>2.8</td><td>57</td><td>42706</td><td>6613</td></tr>",
                            "<tr><td>Four Blondes</td><td>2.8</td><td>57</td><td>45206</td><td>6613</td></tr>",
                            "<tr><td>Four Blondes</td><td>2.8</td><td>57</td><td>45689</td><td>6613</td></tr>",
                            "<tr><td>Four Blondes</td><td>2.8</td><td>57</td><td>49499</td><td>6613</td></tr>",
                            "<tr><td>Four Blondes</td><td>2.8</td><td>57</td><td>51105</td><td>6613</td></tr>",
                            "<tr><td>Four Blondes</td><td>2.8</td><td>57</td><td>51671</td><td>6613</td></tr>",
                            "<tr><td>Four Blondes</td><td>2.8</td><td>57</td><td>52109</td><td>6613</td></tr>",
                            "<tr><td>Lost</td><td>2.8</td><td>18</td><td>NULL</td><td>NULL</td></tr>",
                            "<tr><td>Tell-All</td><td>2.84</td><td>37</td><td>NULL</td><td>NULL</td></tr>",
                            "<tr><td>Revenge Wears Prada: The Devil Returns (The Devil Wears Prada, #2)</td><td>2.84</td><td>59</td><td>NULL</td><td>NULL</td></tr>",
                            "<tr><td>Among the Ten Thousand Things</td><td>2.84</td><td>19</td><td>NULL</td><td>NULL</td></tr>",
                            "<tr><td>The Emperor's Children</td><td>2.93</td><td>45</td><td>7860</td><td>3648</td></tr>",
                            "<tr><td>The Emperor's Children</td><td>2.93</td><td>45</td><td>11320</td><td>3648</td></tr>",
                            "<tr><td>The Emperor's Children</td><td>2.93</td><td>45</td><td>12686</td><td>3648</td></tr>",
                            "<tr><td>The Emperor's Children</td><td>2.93</td><td>45</td><td>12729</td><td>3648</td></tr>",
                            "<tr><td>The Emperor's Children</td><td>2.93</td><td>45</td><td>12891</td><td>3648</td></tr>",
                            "<tr><td>The Emperor's Children</td><td>2.93</td><td>45</td><td>16933</td><td>3648</td></tr>",
                            "<tr><td>The Emperor's Children</td><td>2.93</td><td>45</td><td>17093</td><td>3648</td></tr>",
                            "<tr><td>The Emperor's Children</td><td>2.93</td><td>45</td><td>24036</td><td>3648</td></tr>",
                            "<tr><td>The Emperor's Children</td><td>2.93</td><td>45</td><td>35122</td><td>3648</td></tr>",
                            "<tr><td>The Emperor's Children</td><td>2.93</td><td>45</td><td>36022</td><td>3648</td></tr>",
                            "<tr><td>The Emperor's Children</td><td>2.93</td><td>45</td><td>36952</td><td>3648</td></tr>",
                            "</table>"
                        ]
                    }
                },
                {
                    "output_type": "execute_result",
                    "metadata": {},
                    "execution_count": 6,
                    "data": {
                        "application/vnd.dataresource+json": {
                            "schema": {
                                "fields": [
                                    {
                                        "name": "title"
                                    },
                                    {
                                        "name": "average_rating"
                                    },
                                    {
                                        "name": "books_count"
                                    },
                                    {
                                        "name": "user_id"
                                    },
                                    {
                                        "name": "book_id"
                                    }
                                ]
                            },
                            "data": [
                                {
                                    "0": "Four Blondes",
                                    "1": "2.8",
                                    "2": "57",
                                    "3": "449",
                                    "4": "6613"
                                },
                                {
                                    "0": "Four Blondes",
                                    "1": "2.8",
                                    "2": "57",
                                    "3": "1378",
                                    "4": "6613"
                                },
                                {
                                    "0": "Four Blondes",
                                    "1": "2.8",
                                    "2": "57",
                                    "3": "6465",
                                    "4": "6613"
                                },
                                {
                                    "0": "Four Blondes",
                                    "1": "2.8",
                                    "2": "57",
                                    "3": "6700",
                                    "4": "6613"
                                },
                                {
                                    "0": "Four Blondes",
                                    "1": "2.8",
                                    "2": "57",
                                    "3": "7830",
                                    "4": "6613"
                                },
                                {
                                    "0": "Four Blondes",
                                    "1": "2.8",
                                    "2": "57",
                                    "3": "10085",
                                    "4": "6613"
                                },
                                {
                                    "0": "Four Blondes",
                                    "1": "2.8",
                                    "2": "57",
                                    "3": "16298",
                                    "4": "6613"
                                },
                                {
                                    "0": "Four Blondes",
                                    "1": "2.8",
                                    "2": "57",
                                    "3": "16845",
                                    "4": "6613"
                                },
                                {
                                    "0": "Four Blondes",
                                    "1": "2.8",
                                    "2": "57",
                                    "3": "17470",
                                    "4": "6613"
                                },
                                {
                                    "0": "Four Blondes",
                                    "1": "2.8",
                                    "2": "57",
                                    "3": "19763",
                                    "4": "6613"
                                },
                                {
                                    "0": "Four Blondes",
                                    "1": "2.8",
                                    "2": "57",
                                    "3": "21938",
                                    "4": "6613"
                                },
                                {
                                    "0": "Four Blondes",
                                    "1": "2.8",
                                    "2": "57",
                                    "3": "22289",
                                    "4": "6613"
                                },
                                {
                                    "0": "Four Blondes",
                                    "1": "2.8",
                                    "2": "57",
                                    "3": "23758",
                                    "4": "6613"
                                },
                                {
                                    "0": "Four Blondes",
                                    "1": "2.8",
                                    "2": "57",
                                    "3": "27874",
                                    "4": "6613"
                                },
                                {
                                    "0": "Four Blondes",
                                    "1": "2.8",
                                    "2": "57",
                                    "3": "28690",
                                    "4": "6613"
                                },
                                {
                                    "0": "Four Blondes",
                                    "1": "2.8",
                                    "2": "57",
                                    "3": "29023",
                                    "4": "6613"
                                },
                                {
                                    "0": "Four Blondes",
                                    "1": "2.8",
                                    "2": "57",
                                    "3": "29315",
                                    "4": "6613"
                                },
                                {
                                    "0": "Four Blondes",
                                    "1": "2.8",
                                    "2": "57",
                                    "3": "30245",
                                    "4": "6613"
                                },
                                {
                                    "0": "Four Blondes",
                                    "1": "2.8",
                                    "2": "57",
                                    "3": "36128",
                                    "4": "6613"
                                },
                                {
                                    "0": "Four Blondes",
                                    "1": "2.8",
                                    "2": "57",
                                    "3": "36554",
                                    "4": "6613"
                                },
                                {
                                    "0": "Four Blondes",
                                    "1": "2.8",
                                    "2": "57",
                                    "3": "38159",
                                    "4": "6613"
                                },
                                {
                                    "0": "Four Blondes",
                                    "1": "2.8",
                                    "2": "57",
                                    "3": "38800",
                                    "4": "6613"
                                },
                                {
                                    "0": "Four Blondes",
                                    "1": "2.8",
                                    "2": "57",
                                    "3": "40361",
                                    "4": "6613"
                                },
                                {
                                    "0": "Four Blondes",
                                    "1": "2.8",
                                    "2": "57",
                                    "3": "40529",
                                    "4": "6613"
                                },
                                {
                                    "0": "Four Blondes",
                                    "1": "2.8",
                                    "2": "57",
                                    "3": "41485",
                                    "4": "6613"
                                },
                                {
                                    "0": "Four Blondes",
                                    "1": "2.8",
                                    "2": "57",
                                    "3": "42706",
                                    "4": "6613"
                                },
                                {
                                    "0": "Four Blondes",
                                    "1": "2.8",
                                    "2": "57",
                                    "3": "45206",
                                    "4": "6613"
                                },
                                {
                                    "0": "Four Blondes",
                                    "1": "2.8",
                                    "2": "57",
                                    "3": "45689",
                                    "4": "6613"
                                },
                                {
                                    "0": "Four Blondes",
                                    "1": "2.8",
                                    "2": "57",
                                    "3": "49499",
                                    "4": "6613"
                                },
                                {
                                    "0": "Four Blondes",
                                    "1": "2.8",
                                    "2": "57",
                                    "3": "51105",
                                    "4": "6613"
                                },
                                {
                                    "0": "Four Blondes",
                                    "1": "2.8",
                                    "2": "57",
                                    "3": "51671",
                                    "4": "6613"
                                },
                                {
                                    "0": "Four Blondes",
                                    "1": "2.8",
                                    "2": "57",
                                    "3": "52109",
                                    "4": "6613"
                                },
                                {
                                    "0": "The Emperor's Children",
                                    "1": "2.93",
                                    "2": "45",
                                    "3": "7860",
                                    "4": "3648"
                                },
                                {
                                    "0": "The Emperor's Children",
                                    "1": "2.93",
                                    "2": "45",
                                    "3": "11320",
                                    "4": "3648"
                                },
                                {
                                    "0": "The Emperor's Children",
                                    "1": "2.93",
                                    "2": "45",
                                    "3": "12686",
                                    "4": "3648"
                                },
                                {
                                    "0": "The Emperor's Children",
                                    "1": "2.93",
                                    "2": "45",
                                    "3": "12729",
                                    "4": "3648"
                                },
                                {
                                    "0": "The Emperor's Children",
                                    "1": "2.93",
                                    "2": "45",
                                    "3": "12891",
                                    "4": "3648"
                                },
                                {
                                    "0": "The Emperor's Children",
                                    "1": "2.93",
                                    "2": "45",
                                    "3": "16933",
                                    "4": "3648"
                                },
                                {
                                    "0": "The Emperor's Children",
                                    "1": "2.93",
                                    "2": "45",
                                    "3": "17093",
                                    "4": "3648"
                                },
                                {
                                    "0": "The Emperor's Children",
                                    "1": "2.93",
                                    "2": "45",
                                    "3": "24036",
                                    "4": "3648"
                                },
                                {
                                    "0": "The Emperor's Children",
                                    "1": "2.93",
                                    "2": "45",
                                    "3": "35122",
                                    "4": "3648"
                                },
                                {
                                    "0": "The Emperor's Children",
                                    "1": "2.93",
                                    "2": "45",
                                    "3": "36022",
                                    "4": "3648"
                                },
                                {
                                    "0": "The Emperor's Children",
                                    "1": "2.93",
                                    "2": "45",
                                    "3": "36952",
                                    "4": "3648"
                                },
                                {
                                    "0": "The Emperor's Children",
                                    "1": "2.93",
                                    "2": "45",
                                    "3": "38430",
                                    "4": "3648"
                                },
                                {
                                    "0": "The Emperor's Children",
                                    "1": "2.93",
                                    "2": "45",
                                    "3": "39414",
                                    "4": "3648"
                                },
                                {
                                    "0": "The Emperor's Children",
                                    "1": "2.93",
                                    "2": "45",
                                    "3": "45261",
                                    "4": "3648"
                                },
                                {
                                    "0": "The Emperor's Children",
                                    "1": "2.93",
                                    "2": "45",
                                    "3": "45497",
                                    "4": "3648"
                                },
                                {
                                    "0": "The Emperor's Children",
                                    "1": "2.93",
                                    "2": "45",
                                    "3": "45747",
                                    "4": "3648"
                                },
                                {
                                    "0": "The Emperor's Children",
                                    "1": "2.93",
                                    "2": "45",
                                    "3": "48502",
                                    "4": "3648"
                                },
                                {
                                    "0": "The Emperor's Children",
                                    "1": "2.93",
                                    "2": "45",
                                    "3": "49233",
                                    "4": "3648"
                                }
                            ]
                        },
                        "text/html": [
                            "<table>",
                            "<tr><th>title</th><th>average_rating</th><th>books_count</th><th>user_id</th><th>book_id</th></tr>",
                            "<tr><td>Four Blondes</td><td>2.8</td><td>57</td><td>449</td><td>6613</td></tr>",
                            "<tr><td>Four Blondes</td><td>2.8</td><td>57</td><td>1378</td><td>6613</td></tr>",
                            "<tr><td>Four Blondes</td><td>2.8</td><td>57</td><td>6465</td><td>6613</td></tr>",
                            "<tr><td>Four Blondes</td><td>2.8</td><td>57</td><td>6700</td><td>6613</td></tr>",
                            "<tr><td>Four Blondes</td><td>2.8</td><td>57</td><td>7830</td><td>6613</td></tr>",
                            "<tr><td>Four Blondes</td><td>2.8</td><td>57</td><td>10085</td><td>6613</td></tr>",
                            "<tr><td>Four Blondes</td><td>2.8</td><td>57</td><td>16298</td><td>6613</td></tr>",
                            "<tr><td>Four Blondes</td><td>2.8</td><td>57</td><td>16845</td><td>6613</td></tr>",
                            "<tr><td>Four Blondes</td><td>2.8</td><td>57</td><td>17470</td><td>6613</td></tr>",
                            "<tr><td>Four Blondes</td><td>2.8</td><td>57</td><td>19763</td><td>6613</td></tr>",
                            "<tr><td>Four Blondes</td><td>2.8</td><td>57</td><td>21938</td><td>6613</td></tr>",
                            "<tr><td>Four Blondes</td><td>2.8</td><td>57</td><td>22289</td><td>6613</td></tr>",
                            "<tr><td>Four Blondes</td><td>2.8</td><td>57</td><td>23758</td><td>6613</td></tr>",
                            "<tr><td>Four Blondes</td><td>2.8</td><td>57</td><td>27874</td><td>6613</td></tr>",
                            "<tr><td>Four Blondes</td><td>2.8</td><td>57</td><td>28690</td><td>6613</td></tr>",
                            "<tr><td>Four Blondes</td><td>2.8</td><td>57</td><td>29023</td><td>6613</td></tr>",
                            "<tr><td>Four Blondes</td><td>2.8</td><td>57</td><td>29315</td><td>6613</td></tr>",
                            "<tr><td>Four Blondes</td><td>2.8</td><td>57</td><td>30245</td><td>6613</td></tr>",
                            "<tr><td>Four Blondes</td><td>2.8</td><td>57</td><td>36128</td><td>6613</td></tr>",
                            "<tr><td>Four Blondes</td><td>2.8</td><td>57</td><td>36554</td><td>6613</td></tr>",
                            "<tr><td>Four Blondes</td><td>2.8</td><td>57</td><td>38159</td><td>6613</td></tr>",
                            "<tr><td>Four Blondes</td><td>2.8</td><td>57</td><td>38800</td><td>6613</td></tr>",
                            "<tr><td>Four Blondes</td><td>2.8</td><td>57</td><td>40361</td><td>6613</td></tr>",
                            "<tr><td>Four Blondes</td><td>2.8</td><td>57</td><td>40529</td><td>6613</td></tr>",
                            "<tr><td>Four Blondes</td><td>2.8</td><td>57</td><td>41485</td><td>6613</td></tr>",
                            "<tr><td>Four Blondes</td><td>2.8</td><td>57</td><td>42706</td><td>6613</td></tr>",
                            "<tr><td>Four Blondes</td><td>2.8</td><td>57</td><td>45206</td><td>6613</td></tr>",
                            "<tr><td>Four Blondes</td><td>2.8</td><td>57</td><td>45689</td><td>6613</td></tr>",
                            "<tr><td>Four Blondes</td><td>2.8</td><td>57</td><td>49499</td><td>6613</td></tr>",
                            "<tr><td>Four Blondes</td><td>2.8</td><td>57</td><td>51105</td><td>6613</td></tr>",
                            "<tr><td>Four Blondes</td><td>2.8</td><td>57</td><td>51671</td><td>6613</td></tr>",
                            "<tr><td>Four Blondes</td><td>2.8</td><td>57</td><td>52109</td><td>6613</td></tr>",
                            "<tr><td>The Emperor's Children</td><td>2.93</td><td>45</td><td>7860</td><td>3648</td></tr>",
                            "<tr><td>The Emperor's Children</td><td>2.93</td><td>45</td><td>11320</td><td>3648</td></tr>",
                            "<tr><td>The Emperor's Children</td><td>2.93</td><td>45</td><td>12686</td><td>3648</td></tr>",
                            "<tr><td>The Emperor's Children</td><td>2.93</td><td>45</td><td>12729</td><td>3648</td></tr>",
                            "<tr><td>The Emperor's Children</td><td>2.93</td><td>45</td><td>12891</td><td>3648</td></tr>",
                            "<tr><td>The Emperor's Children</td><td>2.93</td><td>45</td><td>16933</td><td>3648</td></tr>",
                            "<tr><td>The Emperor's Children</td><td>2.93</td><td>45</td><td>17093</td><td>3648</td></tr>",
                            "<tr><td>The Emperor's Children</td><td>2.93</td><td>45</td><td>24036</td><td>3648</td></tr>",
                            "<tr><td>The Emperor's Children</td><td>2.93</td><td>45</td><td>35122</td><td>3648</td></tr>",
                            "<tr><td>The Emperor's Children</td><td>2.93</td><td>45</td><td>36022</td><td>3648</td></tr>",
                            "<tr><td>The Emperor's Children</td><td>2.93</td><td>45</td><td>36952</td><td>3648</td></tr>",
                            "<tr><td>The Emperor's Children</td><td>2.93</td><td>45</td><td>38430</td><td>3648</td></tr>",
                            "<tr><td>The Emperor's Children</td><td>2.93</td><td>45</td><td>39414</td><td>3648</td></tr>",
                            "<tr><td>The Emperor's Children</td><td>2.93</td><td>45</td><td>45261</td><td>3648</td></tr>",
                            "<tr><td>The Emperor's Children</td><td>2.93</td><td>45</td><td>45497</td><td>3648</td></tr>",
                            "<tr><td>The Emperor's Children</td><td>2.93</td><td>45</td><td>45747</td><td>3648</td></tr>",
                            "<tr><td>The Emperor's Children</td><td>2.93</td><td>45</td><td>48502</td><td>3648</td></tr>",
                            "<tr><td>The Emperor's Children</td><td>2.93</td><td>45</td><td>49233</td><td>3648</td></tr>",
                            "</table>"
                        ]
                    }
                }
            ],
            "execution_count": 6
        },
        {
            "cell_type": "markdown",
            "source": [
                "## **QUESTION 2:** Exploring **RIGHT** joins with the **books** and **to\\_read** tables\n",
                "\n",
                "You will need to uncomment the Query to answer the question.\n",
                "\n",
                "**Part A:** Looking at the query, which table is the 'Left' and which is the 'Right'?\n",
                "\n",
                "> Your Answer:Books is Left table, to\\_read is right table\n",
                "\n",
                "**Part B:** How do the RIGHT-joined tables differ from the LEFT-joined tables in Question 1?  \n",
                "\n",
                "> Your Answer:Right joined tables will have all records from right table and matching records from left table, Left join displays all records from left table and matching records from right table"
            ],
            "metadata": {
                "azdata_cell_guid": "c1e417d9-89d2-4a7d-ab46-b43c8bddc54f"
            },
            "attachments": {}
        },
        {
            "cell_type": "code",
            "source": [
                "-- Query 1: RIGHT JOIN\n",
                "SELECT TOP 300 b.title, b.average_rating, b.books_count, tr.user_id, tr.book_id\n",
                "FROM BooksDB.dbo.books AS b \n",
                "RIGHT JOIN BooksDB.dbo.to_read AS tr\n",
                "ON b.best_book_id = tr.book_id;\n",
                ""
            ],
            "metadata": {
                "azdata_cell_guid": "8cf020b8-2a76-46a6-acff-97eb1acc7fed",
                "tags": [],
                "language": "sql"
            },
            "outputs": [
                {
                    "output_type": "display_data",
                    "data": {
                        "text/html": "(300 rows affected)"
                    },
                    "metadata": {}
                },
                {
                    "output_type": "display_data",
                    "data": {
                        "text/html": "Total execution time: 00:00:00.332"
                    },
                    "metadata": {}
                },
                {
                    "output_type": "execute_result",
                    "metadata": {},
                    "execution_count": 7,
                    "data": {
                        "application/vnd.dataresource+json": {
                            "schema": {
                                "fields": [
                                    {
                                        "name": "title"
                                    },
                                    {
                                        "name": "average_rating"
                                    },
                                    {
                                        "name": "books_count"
                                    },
                                    {
                                        "name": "user_id"
                                    },
                                    {
                                        "name": "book_id"
                                    }
                                ]
                            },
                            "data": [
                                {
                                    "0": "Children of Dune (Dune Chronicles #3)",
                                    "1": "3.9",
                                    "2": "116",
                                    "3": "1",
                                    "4": "112"
                                },
                                {
                                    "0": "NULL",
                                    "1": "NULL",
                                    "2": "NULL",
                                    "3": "1",
                                    "4": "235"
                                },
                                {
                                    "0": "NULL",
                                    "1": "NULL",
                                    "2": "NULL",
                                    "3": "1",
                                    "4": "533"
                                },
                                {
                                    "0": "NULL",
                                    "1": "NULL",
                                    "2": "NULL",
                                    "3": "1",
                                    "4": "1198"
                                },
                                {
                                    "0": "NULL",
                                    "1": "NULL",
                                    "2": "NULL",
                                    "3": "1",
                                    "4": "1874"
                                },
                                {
                                    "0": "NULL",
                                    "1": "NULL",
                                    "2": "NULL",
                                    "3": "1",
                                    "4": "2058"
                                },
                                {
                                    "0": "NULL",
                                    "1": "NULL",
                                    "2": "NULL",
                                    "3": "1",
                                    "4": "3334"
                                },
                                {
                                    "0": "NULL",
                                    "1": "NULL",
                                    "2": "NULL",
                                    "3": "2",
                                    "4": "4"
                                },
                                {
                                    "0": "NULL",
                                    "1": "NULL",
                                    "2": "NULL",
                                    "3": "2",
                                    "4": "11"
                                },
                                {
                                    "0": "The Ultimate Hitchhiker's Guide to the Galaxy",
                                    "1": "4.37",
                                    "2": "32",
                                    "3": "2",
                                    "4": "13"
                                },
                                {
                                    "0": "NULL",
                                    "1": "NULL",
                                    "2": "NULL",
                                    "3": "2",
                                    "4": "16"
                                },
                                {
                                    "0": "NULL",
                                    "1": "NULL",
                                    "2": "NULL",
                                    "3": "2",
                                    "4": "92"
                                },
                                {
                                    "0": "Dune Messiah (Dune Chronicles #2)",
                                    "1": "3.86",
                                    "2": "140",
                                    "3": "2",
                                    "4": "106"
                                },
                                {
                                    "0": "NULL",
                                    "1": "NULL",
                                    "2": "NULL",
                                    "3": "2",
                                    "4": "113"
                                },
                                {
                                    "0": "NULL",
                                    "1": "NULL",
                                    "2": "NULL",
                                    "3": "2",
                                    "4": "233"
                                },
                                {
                                    "0": "NULL",
                                    "1": "NULL",
                                    "2": "NULL",
                                    "3": "2",
                                    "4": "247"
                                },
                                {
                                    "0": "NULL",
                                    "1": "NULL",
                                    "2": "NULL",
                                    "3": "2",
                                    "4": "380"
                                },
                                {
                                    "0": "NULL",
                                    "1": "NULL",
                                    "2": "NULL",
                                    "3": "2",
                                    "4": "408"
                                },
                                {
                                    "0": "NULL",
                                    "1": "NULL",
                                    "2": "NULL",
                                    "3": "2",
                                    "4": "439"
                                },
                                {
                                    "0": "NULL",
                                    "1": "NULL",
                                    "2": "NULL",
                                    "3": "2",
                                    "4": "479"
                                },
                                {
                                    "0": "NULL",
                                    "1": "NULL",
                                    "2": "NULL",
                                    "3": "2",
                                    "4": "516"
                                },
                                {
                                    "0": "NULL",
                                    "1": "NULL",
                                    "2": "NULL",
                                    "3": "2",
                                    "4": "619"
                                },
                                {
                                    "0": "NULL",
                                    "1": "NULL",
                                    "2": "NULL",
                                    "3": "2",
                                    "4": "1069"
                                },
                                {
                                    "0": "The Iliad",
                                    "1": "3.83",
                                    "2": "1726",
                                    "3": "2",
                                    "4": "1371"
                                },
                                {
                                    "0": "NULL",
                                    "1": "NULL",
                                    "2": "NULL",
                                    "3": "2",
                                    "4": "1384"
                                },
                                {
                                    "0": "NULL",
                                    "1": "NULL",
                                    "2": "NULL",
                                    "3": "2",
                                    "4": "1597"
                                },
                                {
                                    "0": "NULL",
                                    "1": "NULL",
                                    "2": "NULL",
                                    "3": "2",
                                    "4": "1926"
                                },
                                {
                                    "0": "NULL",
                                    "1": "NULL",
                                    "2": "NULL",
                                    "3": "2",
                                    "4": "1967"
                                },
                                {
                                    "0": "NULL",
                                    "1": "NULL",
                                    "2": "NULL",
                                    "3": "2",
                                    "4": "1969"
                                },
                                {
                                    "0": "NULL",
                                    "1": "NULL",
                                    "2": "NULL",
                                    "3": "2",
                                    "4": "2220"
                                },
                                {
                                    "0": "NULL",
                                    "1": "NULL",
                                    "2": "NULL",
                                    "3": "2",
                                    "4": "2388"
                                },
                                {
                                    "0": "NULL",
                                    "1": "NULL",
                                    "2": "NULL",
                                    "3": "2",
                                    "4": "3222"
                                },
                                {
                                    "0": "NULL",
                                    "1": "NULL",
                                    "2": "NULL",
                                    "3": "2",
                                    "4": "3227"
                                },
                                {
                                    "0": "NULL",
                                    "1": "NULL",
                                    "2": "NULL",
                                    "3": "2",
                                    "4": "3733"
                                },
                                {
                                    "0": "NULL",
                                    "1": "NULL",
                                    "2": "NULL",
                                    "3": "2",
                                    "4": "5418"
                                },
                                {
                                    "0": "NULL",
                                    "1": "NULL",
                                    "2": "NULL",
                                    "3": "2",
                                    "4": "6937"
                                },
                                {
                                    "0": "NULL",
                                    "1": "NULL",
                                    "2": "NULL",
                                    "3": "2",
                                    "4": "7146"
                                },
                                {
                                    "0": "NULL",
                                    "1": "NULL",
                                    "2": "NULL",
                                    "3": "2",
                                    "4": "7873"
                                },
                                {
                                    "0": "NULL",
                                    "1": "NULL",
                                    "2": "NULL",
                                    "3": "2",
                                    "4": "8417"
                                },
                                {
                                    "0": "Harry Potter Collection (Harry Potter, #1-6)",
                                    "1": "4.73",
                                    "2": "6",
                                    "3": "3",
                                    "4": "10"
                                },
                                {
                                    "0": "NULL",
                                    "1": "NULL",
                                    "2": "NULL",
                                    "3": "3",
                                    "4": "66"
                                },
                                {
                                    "0": "NULL",
                                    "1": "NULL",
                                    "2": "NULL",
                                    "3": "3",
                                    "4": "233"
                                },
                                {
                                    "0": "NULL",
                                    "1": "NULL",
                                    "2": "NULL",
                                    "3": "3",
                                    "4": "726"
                                },
                                {
                                    "0": "NULL",
                                    "1": "NULL",
                                    "2": "NULL",
                                    "3": "3",
                                    "4": "932"
                                },
                                {
                                    "0": "NULL",
                                    "1": "NULL",
                                    "2": "NULL",
                                    "3": "3",
                                    "4": "1146"
                                },
                                {
                                    "0": "NULL",
                                    "1": "NULL",
                                    "2": "NULL",
                                    "3": "3",
                                    "4": "2439"
                                },
                                {
                                    "0": "NULL",
                                    "1": "NULL",
                                    "2": "NULL",
                                    "3": "3",
                                    "4": "3566"
                                },
                                {
                                    "0": "NULL",
                                    "1": "NULL",
                                    "2": "NULL",
                                    "3": "3",
                                    "4": "4582"
                                },
                                {
                                    "0": "NULL",
                                    "1": "NULL",
                                    "2": "NULL",
                                    "3": "3",
                                    "4": "5448"
                                },
                                {
                                    "0": "NULL",
                                    "1": "NULL",
                                    "2": "NULL",
                                    "3": "3",
                                    "4": "5765"
                                },
                                {
                                    "0": "NULL",
                                    "1": "NULL",
                                    "2": "NULL",
                                    "3": "3",
                                    "4": "6274"
                                },
                                {
                                    "0": "NULL",
                                    "1": "NULL",
                                    "2": "NULL",
                                    "3": "3",
                                    "4": "8403"
                                },
                                {
                                    "0": "NULL",
                                    "1": "NULL",
                                    "2": "NULL",
                                    "3": "5",
                                    "4": "31"
                                },
                                {
                                    "0": "The Virtue of Selfishness: A New Concept of Egoism",
                                    "1": "3.47",
                                    "2": "53",
                                    "3": "5",
                                    "4": "665"
                                },
                                {
                                    "0": "NULL",
                                    "1": "NULL",
                                    "2": "NULL",
                                    "3": "5",
                                    "4": "3074"
                                },
                                {
                                    "0": "Sherlock Holmes: The Complete Novels and Stories, Volume I",
                                    "1": "4.45",
                                    "2": "13",
                                    "3": "5",
                                    "4": "3581"
                                },
                                {
                                    "0": "NULL",
                                    "1": "NULL",
                                    "2": "NULL",
                                    "3": "6",
                                    "4": "64"
                                },
                                {
                                    "0": "NULL",
                                    "1": "NULL",
                                    "2": "NULL",
                                    "3": "6",
                                    "4": "459"
                                },
                                {
                                    "0": "NULL",
                                    "1": "NULL",
                                    "2": "NULL",
                                    "3": "6",
                                    "4": "619"
                                },
                                {
                                    "0": "NULL",
                                    "1": "NULL",
                                    "2": "NULL",
                                    "3": "6",
                                    "4": "649"
                                },
                                {
                                    "0": "NULL",
                                    "1": "NULL",
                                    "2": "NULL",
                                    "3": "6",
                                    "4": "687"
                                },
                                {
                                    "0": "NULL",
                                    "1": "NULL",
                                    "2": "NULL",
                                    "3": "6",
                                    "4": "874"
                                },
                                {
                                    "0": "The War of Art: Break Through the Blocks & Win Your Inner Creative Battles",
                                    "1": "4.07",
                                    "2": "29",
                                    "3": "6",
                                    "4": "1319"
                                },
                                {
                                    "0": "NULL",
                                    "1": "NULL",
                                    "2": "NULL",
                                    "3": "6",
                                    "4": "1912"
                                },
                                {
                                    "0": "NULL",
                                    "1": "NULL",
                                    "2": "NULL",
                                    "3": "6",
                                    "4": "5269"
                                },
                                {
                                    "0": "NULL",
                                    "1": "NULL",
                                    "2": "NULL",
                                    "3": "6",
                                    "4": "5537"
                                },
                                {
                                    "0": "NULL",
                                    "1": "NULL",
                                    "2": "NULL",
                                    "3": "6",
                                    "4": "5820"
                                },
                                {
                                    "0": "NULL",
                                    "1": "NULL",
                                    "2": "NULL",
                                    "3": "6",
                                    "4": "6220"
                                },
                                {
                                    "0": "NULL",
                                    "1": "NULL",
                                    "2": "NULL",
                                    "3": "6",
                                    "4": "7480"
                                },
                                {
                                    "0": "Harry Potter Collection (Harry Potter, #1-6)",
                                    "1": "4.73",
                                    "2": "6",
                                    "3": "7",
                                    "4": "10"
                                },
                                {
                                    "0": "NULL",
                                    "1": "NULL",
                                    "2": "NULL",
                                    "3": "7",
                                    "4": "215"
                                },
                                {
                                    "0": "NULL",
                                    "1": "NULL",
                                    "2": "NULL",
                                    "3": "7",
                                    "4": "225"
                                },
                                {
                                    "0": "NULL",
                                    "1": "NULL",
                                    "2": "NULL",
                                    "3": "7",
                                    "4": "233"
                                },
                                {
                                    "0": "NULL",
                                    "1": "NULL",
                                    "2": "NULL",
                                    "3": "7",
                                    "4": "1322"
                                },
                                {
                                    "0": "NULL",
                                    "1": "NULL",
                                    "2": "NULL",
                                    "3": "7",
                                    "4": "3552"
                                },
                                {
                                    "0": "NULL",
                                    "1": "NULL",
                                    "2": "NULL",
                                    "3": "7",
                                    "4": "3720"
                                },
                                {
                                    "0": "NULL",
                                    "1": "NULL",
                                    "2": "NULL",
                                    "3": "7",
                                    "4": "4468"
                                },
                                {
                                    "0": "NULL",
                                    "1": "NULL",
                                    "2": "NULL",
                                    "3": "8",
                                    "4": "19"
                                },
                                {
                                    "0": "NULL",
                                    "1": "NULL",
                                    "2": "NULL",
                                    "3": "8",
                                    "4": "498"
                                },
                                {
                                    "0": "NULL",
                                    "1": "NULL",
                                    "2": "NULL",
                                    "3": "8",
                                    "4": "1357"
                                },
                                {
                                    "0": "NULL",
                                    "1": "NULL",
                                    "2": "NULL",
                                    "3": "8",
                                    "4": "2177"
                                },
                                {
                                    "0": "NULL",
                                    "1": "NULL",
                                    "2": "NULL",
                                    "3": "8",
                                    "4": "3930"
                                },
                                {
                                    "0": "The Pilgrimage",
                                    "1": "3.64",
                                    "2": "171",
                                    "3": "8",
                                    "4": "4004"
                                },
                                {
                                    "0": "NULL",
                                    "1": "NULL",
                                    "2": "NULL",
                                    "3": "8",
                                    "4": "8792"
                                },
                                {
                                    "0": "NULL",
                                    "1": "NULL",
                                    "2": "NULL",
                                    "3": "8",
                                    "4": "9304"
                                },
                                {
                                    "0": "Harry Potter Boxed Set, Books 1-5 (Harry Potter, #1-5)",
                                    "1": "4.77",
                                    "2": "11",
                                    "3": "9",
                                    "4": "8"
                                },
                                {
                                    "0": "Children of Dune (Dune Chronicles #3)",
                                    "1": "3.9",
                                    "2": "116",
                                    "3": "9",
                                    "4": "112"
                                },
                                {
                                    "0": "NULL",
                                    "1": "NULL",
                                    "2": "NULL",
                                    "3": "9",
                                    "4": "139"
                                },
                                {
                                    "0": "NULL",
                                    "1": "NULL",
                                    "2": "NULL",
                                    "3": "9",
                                    "4": "230"
                                },
                                {
                                    "0": "NULL",
                                    "1": "NULL",
                                    "2": "NULL",
                                    "3": "9",
                                    "4": "233"
                                },
                                {
                                    "0": "NULL",
                                    "1": "NULL",
                                    "2": "NULL",
                                    "3": "9",
                                    "4": "473"
                                },
                                {
                                    "0": "NULL",
                                    "1": "NULL",
                                    "2": "NULL",
                                    "3": "9",
                                    "4": "638"
                                },
                                {
                                    "0": "NULL",
                                    "1": "NULL",
                                    "2": "NULL",
                                    "3": "9",
                                    "4": "653"
                                },
                                {
                                    "0": "NULL",
                                    "1": "NULL",
                                    "2": "NULL",
                                    "3": "9",
                                    "4": "672"
                                },
                                {
                                    "0": "NULL",
                                    "1": "NULL",
                                    "2": "NULL",
                                    "3": "9",
                                    "4": "701"
                                },
                                {
                                    "0": "NULL",
                                    "1": "NULL",
                                    "2": "NULL",
                                    "3": "9",
                                    "4": "736"
                                },
                                {
                                    "0": "NULL",
                                    "1": "NULL",
                                    "2": "NULL",
                                    "3": "9",
                                    "4": "883"
                                },
                                {
                                    "0": "NULL",
                                    "1": "NULL",
                                    "2": "NULL",
                                    "3": "9",
                                    "4": "895"
                                },
                                {
                                    "0": "NULL",
                                    "1": "NULL",
                                    "2": "NULL",
                                    "3": "9",
                                    "4": "1467"
                                },
                                {
                                    "0": "NULL",
                                    "1": "NULL",
                                    "2": "NULL",
                                    "3": "9",
                                    "4": "1582"
                                },
                                {
                                    "0": "NULL",
                                    "1": "NULL",
                                    "2": "NULL",
                                    "3": "9",
                                    "4": "1873"
                                },
                                {
                                    "0": "NULL",
                                    "1": "NULL",
                                    "2": "NULL",
                                    "3": "9",
                                    "4": "2516"
                                },
                                {
                                    "0": "NULL",
                                    "1": "NULL",
                                    "2": "NULL",
                                    "3": "9",
                                    "4": "2630"
                                },
                                {
                                    "0": "NULL",
                                    "1": "NULL",
                                    "2": "NULL",
                                    "3": "9",
                                    "4": "3210"
                                },
                                {
                                    "0": "Icy Sparks",
                                    "1": "3.68",
                                    "2": "27",
                                    "3": "9",
                                    "4": "3476"
                                },
                                {
                                    "0": "NULL",
                                    "1": "NULL",
                                    "2": "NULL",
                                    "3": "9",
                                    "4": "3560"
                                },
                                {
                                    "0": "NULL",
                                    "1": "NULL",
                                    "2": "NULL",
                                    "3": "9",
                                    "4": "3650"
                                },
                                {
                                    "0": "NULL",
                                    "1": "NULL",
                                    "2": "NULL",
                                    "3": "9",
                                    "4": "5286"
                                },
                                {
                                    "0": "NULL",
                                    "1": "NULL",
                                    "2": "NULL",
                                    "3": "9",
                                    "4": "6636"
                                },
                                {
                                    "0": "Harry Potter and the Goblet of Fire (Harry Potter, #4)",
                                    "1": "4.53",
                                    "2": "332",
                                    "3": "10",
                                    "4": "6"
                                },
                                {
                                    "0": "NULL",
                                    "1": "NULL",
                                    "2": "NULL",
                                    "3": "10",
                                    "4": "385"
                                },
                                {
                                    "0": "Atlas Shrugged",
                                    "1": "3.68",
                                    "2": "147",
                                    "3": "10",
                                    "4": "662"
                                },
                                {
                                    "0": "NULL",
                                    "1": "NULL",
                                    "2": "NULL",
                                    "3": "10",
                                    "4": "896"
                                },
                                {
                                    "0": "NULL",
                                    "1": "NULL",
                                    "2": "NULL",
                                    "3": "10",
                                    "4": "1076"
                                },
                                {
                                    "0": "NULL",
                                    "1": "NULL",
                                    "2": "NULL",
                                    "3": "10",
                                    "4": "1082"
                                },
                                {
                                    "0": "NULL",
                                    "1": "NULL",
                                    "2": "NULL",
                                    "3": "10",
                                    "4": "1220"
                                },
                                {
                                    "0": "NULL",
                                    "1": "NULL",
                                    "2": "NULL",
                                    "3": "10",
                                    "4": "1281"
                                },
                                {
                                    "0": "NULL",
                                    "1": "NULL",
                                    "2": "NULL",
                                    "3": "10",
                                    "4": "1439"
                                },
                                {
                                    "0": "NULL",
                                    "1": "NULL",
                                    "2": "NULL",
                                    "3": "10",
                                    "4": "1851"
                                },
                                {
                                    "0": "NULL",
                                    "1": "NULL",
                                    "2": "NULL",
                                    "3": "10",
                                    "4": "1920"
                                },
                                {
                                    "0": "NULL",
                                    "1": "NULL",
                                    "2": "NULL",
                                    "3": "10",
                                    "4": "2441"
                                },
                                {
                                    "0": "NULL",
                                    "1": "NULL",
                                    "2": "NULL",
                                    "3": "10",
                                    "4": "2570"
                                },
                                {
                                    "0": "NULL",
                                    "1": "NULL",
                                    "2": "NULL",
                                    "3": "10",
                                    "4": "2616"
                                },
                                {
                                    "0": "NULL",
                                    "1": "NULL",
                                    "2": "NULL",
                                    "3": "10",
                                    "4": "3059"
                                },
                                {
                                    "0": "NULL",
                                    "1": "NULL",
                                    "2": "NULL",
                                    "3": "10",
                                    "4": "3545"
                                },
                                {
                                    "0": "NULL",
                                    "1": "NULL",
                                    "2": "NULL",
                                    "3": "10",
                                    "4": "3961"
                                },
                                {
                                    "0": "NULL",
                                    "1": "NULL",
                                    "2": "NULL",
                                    "3": "10",
                                    "4": "4369"
                                },
                                {
                                    "0": "NULL",
                                    "1": "NULL",
                                    "2": "NULL",
                                    "3": "10",
                                    "4": "4510"
                                },
                                {
                                    "0": "NULL",
                                    "1": "NULL",
                                    "2": "NULL",
                                    "3": "10",
                                    "4": "5104"
                                },
                                {
                                    "0": "NULL",
                                    "1": "NULL",
                                    "2": "NULL",
                                    "3": "10",
                                    "4": "5254"
                                },
                                {
                                    "0": "NULL",
                                    "1": "NULL",
                                    "2": "NULL",
                                    "3": "10",
                                    "4": "5556"
                                },
                                {
                                    "0": "NULL",
                                    "1": "NULL",
                                    "2": "NULL",
                                    "3": "10",
                                    "4": "6114"
                                },
                                {
                                    "0": "NULL",
                                    "1": "NULL",
                                    "2": "NULL",
                                    "3": "10",
                                    "4": "6917"
                                },
                                {
                                    "0": "NULL",
                                    "1": "NULL",
                                    "2": "NULL",
                                    "3": "10",
                                    "4": "7545"
                                },
                                {
                                    "0": "NULL",
                                    "1": "NULL",
                                    "2": "NULL",
                                    "3": "10",
                                    "4": "7842"
                                },
                                {
                                    "0": "NULL",
                                    "1": "NULL",
                                    "2": "NULL",
                                    "3": "11",
                                    "4": "3643"
                                },
                                {
                                    "0": "Harry Potter and the Half-Blood Prince (Harry Potter, #6)",
                                    "1": "4.54",
                                    "2": "275",
                                    "3": "12",
                                    "4": "1"
                                },
                                {
                                    "0": "NULL",
                                    "1": "NULL",
                                    "2": "NULL",
                                    "3": "12",
                                    "4": "124"
                                },
                                {
                                    "0": "NULL",
                                    "1": "NULL",
                                    "2": "NULL",
                                    "3": "12",
                                    "4": "1471"
                                },
                                {
                                    "0": "NULL",
                                    "1": "NULL",
                                    "2": "NULL",
                                    "3": "12",
                                    "4": "2893"
                                },
                                {
                                    "0": "NULL",
                                    "1": "NULL",
                                    "2": "NULL",
                                    "3": "13",
                                    "4": "81"
                                },
                                {
                                    "0": "NULL",
                                    "1": "NULL",
                                    "2": "NULL",
                                    "3": "13",
                                    "4": "277"
                                },
                                {
                                    "0": "NULL",
                                    "1": "NULL",
                                    "2": "NULL",
                                    "3": "13",
                                    "4": "318"
                                },
                                {
                                    "0": "NULL",
                                    "1": "NULL",
                                    "2": "NULL",
                                    "3": "13",
                                    "4": "430"
                                },
                                {
                                    "0": "NULL",
                                    "1": "NULL",
                                    "2": "NULL",
                                    "3": "13",
                                    "4": "437"
                                },
                                {
                                    "0": "NULL",
                                    "1": "NULL",
                                    "2": "NULL",
                                    "3": "13",
                                    "4": "551"
                                },
                                {
                                    "0": "NULL",
                                    "1": "NULL",
                                    "2": "NULL",
                                    "3": "13",
                                    "4": "560"
                                },
                                {
                                    "0": "NULL",
                                    "1": "NULL",
                                    "2": "NULL",
                                    "3": "13",
                                    "4": "610"
                                },
                                {
                                    "0": "NULL",
                                    "1": "NULL",
                                    "2": "NULL",
                                    "3": "13",
                                    "4": "678"
                                },
                                {
                                    "0": "NULL",
                                    "1": "NULL",
                                    "2": "NULL",
                                    "3": "13",
                                    "4": "979"
                                },
                                {
                                    "0": "NULL",
                                    "1": "NULL",
                                    "2": "NULL",
                                    "3": "13",
                                    "4": "1082"
                                },
                                {
                                    "0": "NULL",
                                    "1": "NULL",
                                    "2": "NULL",
                                    "3": "13",
                                    "4": "1464"
                                },
                                {
                                    "0": "NULL",
                                    "1": "NULL",
                                    "2": "NULL",
                                    "3": "13",
                                    "4": "1577"
                                },
                                {
                                    "0": "NULL",
                                    "1": "NULL",
                                    "2": "NULL",
                                    "3": "13",
                                    "4": "2018"
                                },
                                {
                                    "0": "NULL",
                                    "1": "NULL",
                                    "2": "NULL",
                                    "3": "13",
                                    "4": "2418"
                                },
                                {
                                    "0": "NULL",
                                    "1": "NULL",
                                    "2": "NULL",
                                    "3": "13",
                                    "4": "3257"
                                },
                                {
                                    "0": "NULL",
                                    "1": "NULL",
                                    "2": "NULL",
                                    "3": "13",
                                    "4": "4212"
                                },
                                {
                                    "0": "NULL",
                                    "1": "NULL",
                                    "2": "NULL",
                                    "3": "13",
                                    "4": "4635"
                                },
                                {
                                    "0": "NULL",
                                    "1": "NULL",
                                    "2": "NULL",
                                    "3": "13",
                                    "4": "4704"
                                },
                                {
                                    "0": "NULL",
                                    "1": "NULL",
                                    "2": "NULL",
                                    "3": "13",
                                    "4": "4734"
                                },
                                {
                                    "0": "NULL",
                                    "1": "NULL",
                                    "2": "NULL",
                                    "3": "13",
                                    "4": "4841"
                                },
                                {
                                    "0": "NULL",
                                    "1": "NULL",
                                    "2": "NULL",
                                    "3": "13",
                                    "4": "4848"
                                },
                                {
                                    "0": "NULL",
                                    "1": "NULL",
                                    "2": "NULL",
                                    "3": "13",
                                    "4": "4856"
                                },
                                {
                                    "0": "NULL",
                                    "1": "NULL",
                                    "2": "NULL",
                                    "3": "13",
                                    "4": "4928"
                                },
                                {
                                    "0": "NULL",
                                    "1": "NULL",
                                    "2": "NULL",
                                    "3": "13",
                                    "4": "6114"
                                },
                                {
                                    "0": "NULL",
                                    "1": "NULL",
                                    "2": "NULL",
                                    "3": "13",
                                    "4": "6793"
                                },
                                {
                                    "0": "NULL",
                                    "1": "NULL",
                                    "2": "NULL",
                                    "3": "13",
                                    "4": "6962"
                                },
                                {
                                    "0": "NULL",
                                    "1": "NULL",
                                    "2": "NULL",
                                    "3": "13",
                                    "4": "8717"
                                },
                                {
                                    "0": "NULL",
                                    "1": "NULL",
                                    "2": "NULL",
                                    "3": "14",
                                    "4": "493"
                                },
                                {
                                    "0": "NULL",
                                    "1": "NULL",
                                    "2": "NULL",
                                    "3": "14",
                                    "4": "1179"
                                },
                                {
                                    "0": "NULL",
                                    "1": "NULL",
                                    "2": "NULL",
                                    "3": "14",
                                    "4": "2693"
                                },
                                {
                                    "0": "Sherlock Holmes: The Complete Novels and Stories, Volume I",
                                    "1": "4.45",
                                    "2": "13",
                                    "3": "14",
                                    "4": "3581"
                                },
                                {
                                    "0": "NULL",
                                    "1": "NULL",
                                    "2": "NULL",
                                    "3": "14",
                                    "4": "3683"
                                },
                                {
                                    "0": "NULL",
                                    "1": "NULL",
                                    "2": "NULL",
                                    "3": "14",
                                    "4": "3953"
                                },
                                {
                                    "0": "NULL",
                                    "1": "NULL",
                                    "2": "NULL",
                                    "3": "14",
                                    "4": "4220"
                                },
                                {
                                    "0": "NULL",
                                    "1": "NULL",
                                    "2": "NULL",
                                    "3": "14",
                                    "4": "5076"
                                },
                                {
                                    "0": "NULL",
                                    "1": "NULL",
                                    "2": "NULL",
                                    "3": "14",
                                    "4": "5537"
                                },
                                {
                                    "0": "NULL",
                                    "1": "NULL",
                                    "2": "NULL",
                                    "3": "14",
                                    "4": "7777"
                                },
                                {
                                    "0": "NULL",
                                    "1": "NULL",
                                    "2": "NULL",
                                    "3": "15",
                                    "4": "191"
                                },
                                {
                                    "0": "The Lover",
                                    "1": "3.76",
                                    "2": "148",
                                    "3": "15",
                                    "4": "275"
                                },
                                {
                                    "0": "NULL",
                                    "1": "NULL",
                                    "2": "NULL",
                                    "3": "15",
                                    "4": "398"
                                },
                                {
                                    "0": "NULL",
                                    "1": "NULL",
                                    "2": "NULL",
                                    "3": "15",
                                    "4": "666"
                                },
                                {
                                    "0": "NULL",
                                    "1": "NULL",
                                    "2": "NULL",
                                    "3": "15",
                                    "4": "1491"
                                },
                                {
                                    "0": "NULL",
                                    "1": "NULL",
                                    "2": "NULL",
                                    "3": "15",
                                    "4": "5210"
                                },
                                {
                                    "0": "NULL",
                                    "1": "NULL",
                                    "2": "NULL",
                                    "3": "17",
                                    "4": "1344"
                                },
                                {
                                    "0": "The Good Soldier",
                                    "1": "3.72",
                                    "2": "362",
                                    "3": "20",
                                    "4": "7628"
                                },
                                {
                                    "0": "NULL",
                                    "1": "NULL",
                                    "2": "NULL",
                                    "3": "22",
                                    "4": "653"
                                },
                                {
                                    "0": "NULL",
                                    "1": "NULL",
                                    "2": "NULL",
                                    "3": "22",
                                    "4": "1403"
                                },
                                {
                                    "0": "NULL",
                                    "1": "NULL",
                                    "2": "NULL",
                                    "3": "22",
                                    "4": "1405"
                                },
                                {
                                    "0": "NULL",
                                    "1": "NULL",
                                    "2": "NULL",
                                    "3": "22",
                                    "4": "1645"
                                },
                                {
                                    "0": "NULL",
                                    "1": "NULL",
                                    "2": "NULL",
                                    "3": "22",
                                    "4": "2500"
                                },
                                {
                                    "0": "NULL",
                                    "1": "NULL",
                                    "2": "NULL",
                                    "3": "22",
                                    "4": "2691"
                                },
                                {
                                    "0": "NULL",
                                    "1": "NULL",
                                    "2": "NULL",
                                    "3": "22",
                                    "4": "4995"
                                },
                                {
                                    "0": "NULL",
                                    "1": "NULL",
                                    "2": "NULL",
                                    "3": "23",
                                    "4": "273"
                                },
                                {
                                    "0": "NULL",
                                    "1": "NULL",
                                    "2": "NULL",
                                    "3": "23",
                                    "4": "459"
                                },
                                {
                                    "0": "NULL",
                                    "1": "NULL",
                                    "2": "NULL",
                                    "3": "23",
                                    "4": "791"
                                },
                                {
                                    "0": "NULL",
                                    "1": "NULL",
                                    "2": "NULL",
                                    "3": "23",
                                    "4": "886"
                                },
                                {
                                    "0": "NULL",
                                    "1": "NULL",
                                    "2": "NULL",
                                    "3": "23",
                                    "4": "925"
                                },
                                {
                                    "0": "NULL",
                                    "1": "NULL",
                                    "2": "NULL",
                                    "3": "23",
                                    "4": "1198"
                                },
                                {
                                    "0": "NULL",
                                    "1": "NULL",
                                    "2": "NULL",
                                    "3": "23",
                                    "4": "1597"
                                },
                                {
                                    "0": "NULL",
                                    "1": "NULL",
                                    "2": "NULL",
                                    "3": "23",
                                    "4": "1688"
                                },
                                {
                                    "0": "NULL",
                                    "1": "NULL",
                                    "2": "NULL",
                                    "3": "23",
                                    "4": "2251"
                                },
                                {
                                    "0": "NULL",
                                    "1": "NULL",
                                    "2": "NULL",
                                    "3": "23",
                                    "4": "2350"
                                },
                                {
                                    "0": "NULL",
                                    "1": "NULL",
                                    "2": "NULL",
                                    "3": "23",
                                    "4": "2613"
                                },
                                {
                                    "0": "NULL",
                                    "1": "NULL",
                                    "2": "NULL",
                                    "3": "23",
                                    "4": "3312"
                                },
                                {
                                    "0": "NULL",
                                    "1": "NULL",
                                    "2": "NULL",
                                    "3": "23",
                                    "4": "3343"
                                },
                                {
                                    "0": "NULL",
                                    "1": "NULL",
                                    "2": "NULL",
                                    "3": "24",
                                    "4": "61"
                                },
                                {
                                    "0": "NULL",
                                    "1": "NULL",
                                    "2": "NULL",
                                    "3": "24",
                                    "4": "143"
                                },
                                {
                                    "0": "NULL",
                                    "1": "NULL",
                                    "2": "NULL",
                                    "3": "24",
                                    "4": "421"
                                },
                                {
                                    "0": "NULL",
                                    "1": "NULL",
                                    "2": "NULL",
                                    "3": "24",
                                    "4": "467"
                                },
                                {
                                    "0": "NULL",
                                    "1": "NULL",
                                    "2": "NULL",
                                    "3": "24",
                                    "4": "974"
                                },
                                {
                                    "0": "NULL",
                                    "1": "NULL",
                                    "2": "NULL",
                                    "3": "26",
                                    "4": "508"
                                },
                                {
                                    "0": "NULL",
                                    "1": "NULL",
                                    "2": "NULL",
                                    "3": "26",
                                    "4": "1796"
                                },
                                {
                                    "0": "NULL",
                                    "1": "NULL",
                                    "2": "NULL",
                                    "3": "26",
                                    "4": "2257"
                                },
                                {
                                    "0": "NULL",
                                    "1": "NULL",
                                    "2": "NULL",
                                    "3": "26",
                                    "4": "2314"
                                },
                                {
                                    "0": "NULL",
                                    "1": "NULL",
                                    "2": "NULL",
                                    "3": "26",
                                    "4": "2357"
                                },
                                {
                                    "0": "NULL",
                                    "1": "NULL",
                                    "2": "NULL",
                                    "3": "26",
                                    "4": "2738"
                                },
                                {
                                    "0": "NULL",
                                    "1": "NULL",
                                    "2": "NULL",
                                    "3": "26",
                                    "4": "2810"
                                },
                                {
                                    "0": "NULL",
                                    "1": "NULL",
                                    "2": "NULL",
                                    "3": "26",
                                    "4": "3207"
                                },
                                {
                                    "0": "The Thorn Birds",
                                    "1": "4.22",
                                    "2": "201",
                                    "3": "26",
                                    "4": "3412"
                                },
                                {
                                    "0": "The Complete Sherlock Holmes, Vol 2",
                                    "1": "4.46",
                                    "2": "117",
                                    "3": "26",
                                    "4": "3586"
                                },
                                {
                                    "0": "The Dark Tower (The Dark Tower, #7)",
                                    "1": "4.27",
                                    "2": "105",
                                    "3": "26",
                                    "4": "5091"
                                },
                                {
                                    "0": "NULL",
                                    "1": "NULL",
                                    "2": "NULL",
                                    "3": "26",
                                    "4": "5550"
                                },
                                {
                                    "0": "NULL",
                                    "1": "NULL",
                                    "2": "NULL",
                                    "3": "26",
                                    "4": "6877"
                                },
                                {
                                    "0": "NULL",
                                    "1": "NULL",
                                    "2": "NULL",
                                    "3": "26",
                                    "4": "7970"
                                },
                                {
                                    "0": "NULL",
                                    "1": "NULL",
                                    "2": "NULL",
                                    "3": "28",
                                    "4": "265"
                                },
                                {
                                    "0": "NULL",
                                    "1": "NULL",
                                    "2": "NULL",
                                    "3": "28",
                                    "4": "587"
                                },
                                {
                                    "0": "NULL",
                                    "1": "NULL",
                                    "2": "NULL",
                                    "3": "28",
                                    "4": "3543"
                                },
                                {
                                    "0": "NULL",
                                    "1": "NULL",
                                    "2": "NULL",
                                    "3": "28",
                                    "4": "5215"
                                },
                                {
                                    "0": "NULL",
                                    "1": "NULL",
                                    "2": "NULL",
                                    "3": "28",
                                    "4": "7496"
                                },
                                {
                                    "0": "NULL",
                                    "1": "NULL",
                                    "2": "NULL",
                                    "3": "28",
                                    "4": "8654"
                                },
                                {
                                    "0": "NULL",
                                    "1": "NULL",
                                    "2": "NULL",
                                    "3": "29",
                                    "4": "31"
                                },
                                {
                                    "0": "NULL",
                                    "1": "NULL",
                                    "2": "NULL",
                                    "3": "29",
                                    "4": "32"
                                },
                                {
                                    "0": "The Lord of the Rings: Weapons and Warfare",
                                    "1": "4.53",
                                    "2": "12",
                                    "3": "29",
                                    "4": "36"
                                },
                                {
                                    "0": "NULL",
                                    "1": "NULL",
                                    "2": "NULL",
                                    "3": "29",
                                    "4": "45"
                                },
                                {
                                    "0": "NULL",
                                    "1": "NULL",
                                    "2": "NULL",
                                    "3": "29",
                                    "4": "65"
                                },
                                {
                                    "0": "NULL",
                                    "1": "NULL",
                                    "2": "NULL",
                                    "3": "29",
                                    "4": "87"
                                },
                                {
                                    "0": "NULL",
                                    "1": "NULL",
                                    "2": "NULL",
                                    "3": "29",
                                    "4": "115"
                                },
                                {
                                    "0": "NULL",
                                    "1": "NULL",
                                    "2": "NULL",
                                    "3": "29",
                                    "4": "121"
                                },
                                {
                                    "0": "NULL",
                                    "1": "NULL",
                                    "2": "NULL",
                                    "3": "29",
                                    "4": "131"
                                },
                                {
                                    "0": "NULL",
                                    "1": "NULL",
                                    "2": "NULL",
                                    "3": "29",
                                    "4": "178"
                                },
                                {
                                    "0": "NULL",
                                    "1": "NULL",
                                    "2": "NULL",
                                    "3": "29",
                                    "4": "256"
                                },
                                {
                                    "0": "NULL",
                                    "1": "NULL",
                                    "2": "NULL",
                                    "3": "29",
                                    "4": "323"
                                },
                                {
                                    "0": "Slouching Towards Bethlehem",
                                    "1": "4.24",
                                    "2": "34",
                                    "3": "29",
                                    "4": "424"
                                },
                                {
                                    "0": "NULL",
                                    "1": "NULL",
                                    "2": "NULL",
                                    "3": "29",
                                    "4": "467"
                                },
                                {
                                    "0": "NULL",
                                    "1": "NULL",
                                    "2": "NULL",
                                    "3": "29",
                                    "4": "550"
                                },
                                {
                                    "0": "NULL",
                                    "1": "NULL",
                                    "2": "NULL",
                                    "3": "29",
                                    "4": "618"
                                },
                                {
                                    "0": "Atlas Shrugged",
                                    "1": "3.68",
                                    "2": "147",
                                    "3": "29",
                                    "4": "662"
                                },
                                {
                                    "0": "NULL",
                                    "1": "NULL",
                                    "2": "NULL",
                                    "3": "29",
                                    "4": "709"
                                },
                                {
                                    "0": "NULL",
                                    "1": "NULL",
                                    "2": "NULL",
                                    "3": "29",
                                    "4": "730"
                                },
                                {
                                    "0": "NULL",
                                    "1": "NULL",
                                    "2": "NULL",
                                    "3": "29",
                                    "4": "771"
                                },
                                {
                                    "0": "NULL",
                                    "1": "NULL",
                                    "2": "NULL",
                                    "3": "29",
                                    "4": "809"
                                },
                                {
                                    "0": "NULL",
                                    "1": "NULL",
                                    "2": "NULL",
                                    "3": "29",
                                    "4": "934"
                                },
                                {
                                    "0": "NULL",
                                    "1": "NULL",
                                    "2": "NULL",
                                    "3": "29",
                                    "4": "1084"
                                },
                                {
                                    "0": "NULL",
                                    "1": "NULL",
                                    "2": "NULL",
                                    "3": "29",
                                    "4": "1364"
                                },
                                {
                                    "0": "NULL",
                                    "1": "NULL",
                                    "2": "NULL",
                                    "3": "29",
                                    "4": "1642"
                                },
                                {
                                    "0": "NULL",
                                    "1": "NULL",
                                    "2": "NULL",
                                    "3": "29",
                                    "4": "1695"
                                },
                                {
                                    "0": "NULL",
                                    "1": "NULL",
                                    "2": "NULL",
                                    "3": "29",
                                    "4": "2259"
                                },
                                {
                                    "0": "NULL",
                                    "1": "NULL",
                                    "2": "NULL",
                                    "3": "29",
                                    "4": "2284"
                                },
                                {
                                    "0": "NULL",
                                    "1": "NULL",
                                    "2": "NULL",
                                    "3": "29",
                                    "4": "2304"
                                },
                                {
                                    "0": "NULL",
                                    "1": "NULL",
                                    "2": "NULL",
                                    "3": "29",
                                    "4": "2967"
                                },
                                {
                                    "0": "NULL",
                                    "1": "NULL",
                                    "2": "NULL",
                                    "3": "29",
                                    "4": "3508"
                                },
                                {
                                    "0": "NULL",
                                    "1": "NULL",
                                    "2": "NULL",
                                    "3": "29",
                                    "4": "4359"
                                },
                                {
                                    "0": "NULL",
                                    "1": "NULL",
                                    "2": "NULL",
                                    "3": "29",
                                    "4": "4394"
                                },
                                {
                                    "0": "NULL",
                                    "1": "NULL",
                                    "2": "NULL",
                                    "3": "29",
                                    "4": "4475"
                                },
                                {
                                    "0": "NULL",
                                    "1": "NULL",
                                    "2": "NULL",
                                    "3": "29",
                                    "4": "4629"
                                },
                                {
                                    "0": "NULL",
                                    "1": "NULL",
                                    "2": "NULL",
                                    "3": "29",
                                    "4": "5090"
                                },
                                {
                                    "0": "NULL",
                                    "1": "NULL",
                                    "2": "NULL",
                                    "3": "29",
                                    "4": "5596"
                                },
                                {
                                    "0": "NULL",
                                    "1": "NULL",
                                    "2": "NULL",
                                    "3": "29",
                                    "4": "5851"
                                },
                                {
                                    "0": "NULL",
                                    "1": "NULL",
                                    "2": "NULL",
                                    "3": "29",
                                    "4": "6104"
                                },
                                {
                                    "0": "NULL",
                                    "1": "NULL",
                                    "2": "NULL",
                                    "3": "30",
                                    "4": "47"
                                },
                                {
                                    "0": "The Known World",
                                    "1": "3.82",
                                    "2": "42",
                                    "3": "30",
                                    "4": "67"
                                },
                                {
                                    "0": "NULL",
                                    "1": "NULL",
                                    "2": "NULL",
                                    "3": "30",
                                    "4": "82"
                                },
                                {
                                    "0": "NULL",
                                    "1": "NULL",
                                    "2": "NULL",
                                    "3": "30",
                                    "4": "121"
                                },
                                {
                                    "0": "NULL",
                                    "1": "NULL",
                                    "2": "NULL",
                                    "3": "30",
                                    "4": "177"
                                },
                                {
                                    "0": "Tropic of Cancer",
                                    "1": "3.71",
                                    "2": "205",
                                    "3": "30",
                                    "4": "249"
                                },
                                {
                                    "0": "NULL",
                                    "1": "NULL",
                                    "2": "NULL",
                                    "3": "30",
                                    "4": "297"
                                },
                                {
                                    "0": "NULL",
                                    "1": "NULL",
                                    "2": "NULL",
                                    "3": "30",
                                    "4": "407"
                                },
                                {
                                    "0": "NULL",
                                    "1": "NULL",
                                    "2": "NULL",
                                    "3": "30",
                                    "4": "426"
                                },
                                {
                                    "0": "NULL",
                                    "1": "NULL",
                                    "2": "NULL",
                                    "3": "30",
                                    "4": "430"
                                },
                                {
                                    "0": "NULL",
                                    "1": "NULL",
                                    "2": "NULL",
                                    "3": "30",
                                    "4": "442"
                                },
                                {
                                    "0": "NULL",
                                    "1": "NULL",
                                    "2": "NULL",
                                    "3": "30",
                                    "4": "516"
                                },
                                {
                                    "0": "NULL",
                                    "1": "NULL",
                                    "2": "NULL",
                                    "3": "30",
                                    "4": "658"
                                },
                                {
                                    "0": "NULL",
                                    "1": "NULL",
                                    "2": "NULL",
                                    "3": "30",
                                    "4": "895"
                                },
                                {
                                    "0": "NULL",
                                    "1": "NULL",
                                    "2": "NULL",
                                    "3": "30",
                                    "4": "1039"
                                },
                                {
                                    "0": "NULL",
                                    "1": "NULL",
                                    "2": "NULL",
                                    "3": "30",
                                    "4": "1094"
                                },
                                {
                                    "0": "The Odyssey",
                                    "1": "3.73",
                                    "2": "1703",
                                    "3": "30",
                                    "4": "1381"
                                },
                                {
                                    "0": "NULL",
                                    "1": "NULL",
                                    "2": "NULL",
                                    "3": "30",
                                    "4": "2117"
                                },
                                {
                                    "0": "NULL",
                                    "1": "NULL",
                                    "2": "NULL",
                                    "3": "30",
                                    "4": "2426"
                                },
                                {
                                    "0": "NULL",
                                    "1": "NULL",
                                    "2": "NULL",
                                    "3": "30",
                                    "4": "3444"
                                },
                                {
                                    "0": "The Pilgrimage",
                                    "1": "3.64",
                                    "2": "171",
                                    "3": "30",
                                    "4": "4004"
                                },
                                {
                                    "0": "NULL",
                                    "1": "NULL",
                                    "2": "NULL",
                                    "3": "30",
                                    "4": "4202"
                                },
                                {
                                    "0": "NULL",
                                    "1": "NULL",
                                    "2": "NULL",
                                    "3": "30",
                                    "4": "4509"
                                },
                                {
                                    "0": "NULL",
                                    "1": "NULL",
                                    "2": "NULL",
                                    "3": "30",
                                    "4": "5880"
                                },
                                {
                                    "0": "The Hobbit",
                                    "1": "4.25",
                                    "2": "969",
                                    "3": "30",
                                    "4": "5907"
                                },
                                {
                                    "0": "NULL",
                                    "1": "NULL",
                                    "2": "NULL",
                                    "3": "30",
                                    "4": "6828"
                                },
                                {
                                    "0": "NULL",
                                    "1": "NULL",
                                    "2": "NULL",
                                    "3": "30",
                                    "4": "7563"
                                },
                                {
                                    "0": "NULL",
                                    "1": "NULL",
                                    "2": "NULL",
                                    "3": "30",
                                    "4": "8737"
                                },
                                {
                                    "0": "NULL",
                                    "1": "NULL",
                                    "2": "NULL",
                                    "3": "31",
                                    "4": "94"
                                },
                                {
                                    "0": "NULL",
                                    "1": "NULL",
                                    "2": "NULL",
                                    "3": "31",
                                    "4": "584"
                                }
                            ]
                        },
                        "text/html": [
                            "<table>",
                            "<tr><th>title</th><th>average_rating</th><th>books_count</th><th>user_id</th><th>book_id</th></tr>",
                            "<tr><td>Children of Dune (Dune Chronicles #3)</td><td>3.9</td><td>116</td><td>1</td><td>112</td></tr>",
                            "<tr><td>NULL</td><td>NULL</td><td>NULL</td><td>1</td><td>235</td></tr>",
                            "<tr><td>NULL</td><td>NULL</td><td>NULL</td><td>1</td><td>533</td></tr>",
                            "<tr><td>NULL</td><td>NULL</td><td>NULL</td><td>1</td><td>1198</td></tr>",
                            "<tr><td>NULL</td><td>NULL</td><td>NULL</td><td>1</td><td>1874</td></tr>",
                            "<tr><td>NULL</td><td>NULL</td><td>NULL</td><td>1</td><td>2058</td></tr>",
                            "<tr><td>NULL</td><td>NULL</td><td>NULL</td><td>1</td><td>3334</td></tr>",
                            "<tr><td>NULL</td><td>NULL</td><td>NULL</td><td>2</td><td>4</td></tr>",
                            "<tr><td>NULL</td><td>NULL</td><td>NULL</td><td>2</td><td>11</td></tr>",
                            "<tr><td>The Ultimate Hitchhiker's Guide to the Galaxy</td><td>4.37</td><td>32</td><td>2</td><td>13</td></tr>",
                            "<tr><td>NULL</td><td>NULL</td><td>NULL</td><td>2</td><td>16</td></tr>",
                            "<tr><td>NULL</td><td>NULL</td><td>NULL</td><td>2</td><td>92</td></tr>",
                            "<tr><td>Dune Messiah (Dune Chronicles #2)</td><td>3.86</td><td>140</td><td>2</td><td>106</td></tr>",
                            "<tr><td>NULL</td><td>NULL</td><td>NULL</td><td>2</td><td>113</td></tr>",
                            "<tr><td>NULL</td><td>NULL</td><td>NULL</td><td>2</td><td>233</td></tr>",
                            "<tr><td>NULL</td><td>NULL</td><td>NULL</td><td>2</td><td>247</td></tr>",
                            "<tr><td>NULL</td><td>NULL</td><td>NULL</td><td>2</td><td>380</td></tr>",
                            "<tr><td>NULL</td><td>NULL</td><td>NULL</td><td>2</td><td>408</td></tr>",
                            "<tr><td>NULL</td><td>NULL</td><td>NULL</td><td>2</td><td>439</td></tr>",
                            "<tr><td>NULL</td><td>NULL</td><td>NULL</td><td>2</td><td>479</td></tr>",
                            "<tr><td>NULL</td><td>NULL</td><td>NULL</td><td>2</td><td>516</td></tr>",
                            "<tr><td>NULL</td><td>NULL</td><td>NULL</td><td>2</td><td>619</td></tr>",
                            "<tr><td>NULL</td><td>NULL</td><td>NULL</td><td>2</td><td>1069</td></tr>",
                            "<tr><td>The Iliad</td><td>3.83</td><td>1726</td><td>2</td><td>1371</td></tr>",
                            "<tr><td>NULL</td><td>NULL</td><td>NULL</td><td>2</td><td>1384</td></tr>",
                            "<tr><td>NULL</td><td>NULL</td><td>NULL</td><td>2</td><td>1597</td></tr>",
                            "<tr><td>NULL</td><td>NULL</td><td>NULL</td><td>2</td><td>1926</td></tr>",
                            "<tr><td>NULL</td><td>NULL</td><td>NULL</td><td>2</td><td>1967</td></tr>",
                            "<tr><td>NULL</td><td>NULL</td><td>NULL</td><td>2</td><td>1969</td></tr>",
                            "<tr><td>NULL</td><td>NULL</td><td>NULL</td><td>2</td><td>2220</td></tr>",
                            "<tr><td>NULL</td><td>NULL</td><td>NULL</td><td>2</td><td>2388</td></tr>",
                            "<tr><td>NULL</td><td>NULL</td><td>NULL</td><td>2</td><td>3222</td></tr>",
                            "<tr><td>NULL</td><td>NULL</td><td>NULL</td><td>2</td><td>3227</td></tr>",
                            "<tr><td>NULL</td><td>NULL</td><td>NULL</td><td>2</td><td>3733</td></tr>",
                            "<tr><td>NULL</td><td>NULL</td><td>NULL</td><td>2</td><td>5418</td></tr>",
                            "<tr><td>NULL</td><td>NULL</td><td>NULL</td><td>2</td><td>6937</td></tr>",
                            "<tr><td>NULL</td><td>NULL</td><td>NULL</td><td>2</td><td>7146</td></tr>",
                            "<tr><td>NULL</td><td>NULL</td><td>NULL</td><td>2</td><td>7873</td></tr>",
                            "<tr><td>NULL</td><td>NULL</td><td>NULL</td><td>2</td><td>8417</td></tr>",
                            "<tr><td>Harry Potter Collection (Harry Potter, #1-6)</td><td>4.73</td><td>6</td><td>3</td><td>10</td></tr>",
                            "<tr><td>NULL</td><td>NULL</td><td>NULL</td><td>3</td><td>66</td></tr>",
                            "<tr><td>NULL</td><td>NULL</td><td>NULL</td><td>3</td><td>233</td></tr>",
                            "<tr><td>NULL</td><td>NULL</td><td>NULL</td><td>3</td><td>726</td></tr>",
                            "<tr><td>NULL</td><td>NULL</td><td>NULL</td><td>3</td><td>932</td></tr>",
                            "<tr><td>NULL</td><td>NULL</td><td>NULL</td><td>3</td><td>1146</td></tr>",
                            "<tr><td>NULL</td><td>NULL</td><td>NULL</td><td>3</td><td>2439</td></tr>",
                            "<tr><td>NULL</td><td>NULL</td><td>NULL</td><td>3</td><td>3566</td></tr>",
                            "<tr><td>NULL</td><td>NULL</td><td>NULL</td><td>3</td><td>4582</td></tr>",
                            "<tr><td>NULL</td><td>NULL</td><td>NULL</td><td>3</td><td>5448</td></tr>",
                            "<tr><td>NULL</td><td>NULL</td><td>NULL</td><td>3</td><td>5765</td></tr>",
                            "<tr><td>NULL</td><td>NULL</td><td>NULL</td><td>3</td><td>6274</td></tr>",
                            "<tr><td>NULL</td><td>NULL</td><td>NULL</td><td>3</td><td>8403</td></tr>",
                            "<tr><td>NULL</td><td>NULL</td><td>NULL</td><td>5</td><td>31</td></tr>",
                            "<tr><td>The Virtue of Selfishness: A New Concept of Egoism</td><td>3.47</td><td>53</td><td>5</td><td>665</td></tr>",
                            "<tr><td>NULL</td><td>NULL</td><td>NULL</td><td>5</td><td>3074</td></tr>",
                            "<tr><td>Sherlock Holmes: The Complete Novels and Stories, Volume I</td><td>4.45</td><td>13</td><td>5</td><td>3581</td></tr>",
                            "<tr><td>NULL</td><td>NULL</td><td>NULL</td><td>6</td><td>64</td></tr>",
                            "<tr><td>NULL</td><td>NULL</td><td>NULL</td><td>6</td><td>459</td></tr>",
                            "<tr><td>NULL</td><td>NULL</td><td>NULL</td><td>6</td><td>619</td></tr>",
                            "<tr><td>NULL</td><td>NULL</td><td>NULL</td><td>6</td><td>649</td></tr>",
                            "<tr><td>NULL</td><td>NULL</td><td>NULL</td><td>6</td><td>687</td></tr>",
                            "<tr><td>NULL</td><td>NULL</td><td>NULL</td><td>6</td><td>874</td></tr>",
                            "<tr><td>The War of Art: Break Through the Blocks &amp; Win Your Inner Creative Battles</td><td>4.07</td><td>29</td><td>6</td><td>1319</td></tr>",
                            "<tr><td>NULL</td><td>NULL</td><td>NULL</td><td>6</td><td>1912</td></tr>",
                            "<tr><td>NULL</td><td>NULL</td><td>NULL</td><td>6</td><td>5269</td></tr>",
                            "<tr><td>NULL</td><td>NULL</td><td>NULL</td><td>6</td><td>5537</td></tr>",
                            "<tr><td>NULL</td><td>NULL</td><td>NULL</td><td>6</td><td>5820</td></tr>",
                            "<tr><td>NULL</td><td>NULL</td><td>NULL</td><td>6</td><td>6220</td></tr>",
                            "<tr><td>NULL</td><td>NULL</td><td>NULL</td><td>6</td><td>7480</td></tr>",
                            "<tr><td>Harry Potter Collection (Harry Potter, #1-6)</td><td>4.73</td><td>6</td><td>7</td><td>10</td></tr>",
                            "<tr><td>NULL</td><td>NULL</td><td>NULL</td><td>7</td><td>215</td></tr>",
                            "<tr><td>NULL</td><td>NULL</td><td>NULL</td><td>7</td><td>225</td></tr>",
                            "<tr><td>NULL</td><td>NULL</td><td>NULL</td><td>7</td><td>233</td></tr>",
                            "<tr><td>NULL</td><td>NULL</td><td>NULL</td><td>7</td><td>1322</td></tr>",
                            "<tr><td>NULL</td><td>NULL</td><td>NULL</td><td>7</td><td>3552</td></tr>",
                            "<tr><td>NULL</td><td>NULL</td><td>NULL</td><td>7</td><td>3720</td></tr>",
                            "<tr><td>NULL</td><td>NULL</td><td>NULL</td><td>7</td><td>4468</td></tr>",
                            "<tr><td>NULL</td><td>NULL</td><td>NULL</td><td>8</td><td>19</td></tr>",
                            "<tr><td>NULL</td><td>NULL</td><td>NULL</td><td>8</td><td>498</td></tr>",
                            "<tr><td>NULL</td><td>NULL</td><td>NULL</td><td>8</td><td>1357</td></tr>",
                            "<tr><td>NULL</td><td>NULL</td><td>NULL</td><td>8</td><td>2177</td></tr>",
                            "<tr><td>NULL</td><td>NULL</td><td>NULL</td><td>8</td><td>3930</td></tr>",
                            "<tr><td>The Pilgrimage</td><td>3.64</td><td>171</td><td>8</td><td>4004</td></tr>",
                            "<tr><td>NULL</td><td>NULL</td><td>NULL</td><td>8</td><td>8792</td></tr>",
                            "<tr><td>NULL</td><td>NULL</td><td>NULL</td><td>8</td><td>9304</td></tr>",
                            "<tr><td>Harry Potter Boxed Set, Books 1-5 (Harry Potter, #1-5)</td><td>4.77</td><td>11</td><td>9</td><td>8</td></tr>",
                            "<tr><td>Children of Dune (Dune Chronicles #3)</td><td>3.9</td><td>116</td><td>9</td><td>112</td></tr>",
                            "<tr><td>NULL</td><td>NULL</td><td>NULL</td><td>9</td><td>139</td></tr>",
                            "<tr><td>NULL</td><td>NULL</td><td>NULL</td><td>9</td><td>230</td></tr>",
                            "<tr><td>NULL</td><td>NULL</td><td>NULL</td><td>9</td><td>233</td></tr>",
                            "<tr><td>NULL</td><td>NULL</td><td>NULL</td><td>9</td><td>473</td></tr>",
                            "<tr><td>NULL</td><td>NULL</td><td>NULL</td><td>9</td><td>638</td></tr>",
                            "<tr><td>NULL</td><td>NULL</td><td>NULL</td><td>9</td><td>653</td></tr>",
                            "<tr><td>NULL</td><td>NULL</td><td>NULL</td><td>9</td><td>672</td></tr>",
                            "<tr><td>NULL</td><td>NULL</td><td>NULL</td><td>9</td><td>701</td></tr>",
                            "<tr><td>NULL</td><td>NULL</td><td>NULL</td><td>9</td><td>736</td></tr>",
                            "<tr><td>NULL</td><td>NULL</td><td>NULL</td><td>9</td><td>883</td></tr>",
                            "<tr><td>NULL</td><td>NULL</td><td>NULL</td><td>9</td><td>895</td></tr>",
                            "<tr><td>NULL</td><td>NULL</td><td>NULL</td><td>9</td><td>1467</td></tr>",
                            "<tr><td>NULL</td><td>NULL</td><td>NULL</td><td>9</td><td>1582</td></tr>",
                            "<tr><td>NULL</td><td>NULL</td><td>NULL</td><td>9</td><td>1873</td></tr>",
                            "<tr><td>NULL</td><td>NULL</td><td>NULL</td><td>9</td><td>2516</td></tr>",
                            "<tr><td>NULL</td><td>NULL</td><td>NULL</td><td>9</td><td>2630</td></tr>",
                            "<tr><td>NULL</td><td>NULL</td><td>NULL</td><td>9</td><td>3210</td></tr>",
                            "<tr><td>Icy Sparks</td><td>3.68</td><td>27</td><td>9</td><td>3476</td></tr>",
                            "<tr><td>NULL</td><td>NULL</td><td>NULL</td><td>9</td><td>3560</td></tr>",
                            "<tr><td>NULL</td><td>NULL</td><td>NULL</td><td>9</td><td>3650</td></tr>",
                            "<tr><td>NULL</td><td>NULL</td><td>NULL</td><td>9</td><td>5286</td></tr>",
                            "<tr><td>NULL</td><td>NULL</td><td>NULL</td><td>9</td><td>6636</td></tr>",
                            "<tr><td>Harry Potter and the Goblet of Fire (Harry Potter, #4)</td><td>4.53</td><td>332</td><td>10</td><td>6</td></tr>",
                            "<tr><td>NULL</td><td>NULL</td><td>NULL</td><td>10</td><td>385</td></tr>",
                            "<tr><td>Atlas Shrugged</td><td>3.68</td><td>147</td><td>10</td><td>662</td></tr>",
                            "<tr><td>NULL</td><td>NULL</td><td>NULL</td><td>10</td><td>896</td></tr>",
                            "<tr><td>NULL</td><td>NULL</td><td>NULL</td><td>10</td><td>1076</td></tr>",
                            "<tr><td>NULL</td><td>NULL</td><td>NULL</td><td>10</td><td>1082</td></tr>",
                            "<tr><td>NULL</td><td>NULL</td><td>NULL</td><td>10</td><td>1220</td></tr>",
                            "<tr><td>NULL</td><td>NULL</td><td>NULL</td><td>10</td><td>1281</td></tr>",
                            "<tr><td>NULL</td><td>NULL</td><td>NULL</td><td>10</td><td>1439</td></tr>",
                            "<tr><td>NULL</td><td>NULL</td><td>NULL</td><td>10</td><td>1851</td></tr>",
                            "<tr><td>NULL</td><td>NULL</td><td>NULL</td><td>10</td><td>1920</td></tr>",
                            "<tr><td>NULL</td><td>NULL</td><td>NULL</td><td>10</td><td>2441</td></tr>",
                            "<tr><td>NULL</td><td>NULL</td><td>NULL</td><td>10</td><td>2570</td></tr>",
                            "<tr><td>NULL</td><td>NULL</td><td>NULL</td><td>10</td><td>2616</td></tr>",
                            "<tr><td>NULL</td><td>NULL</td><td>NULL</td><td>10</td><td>3059</td></tr>",
                            "<tr><td>NULL</td><td>NULL</td><td>NULL</td><td>10</td><td>3545</td></tr>",
                            "<tr><td>NULL</td><td>NULL</td><td>NULL</td><td>10</td><td>3961</td></tr>",
                            "<tr><td>NULL</td><td>NULL</td><td>NULL</td><td>10</td><td>4369</td></tr>",
                            "<tr><td>NULL</td><td>NULL</td><td>NULL</td><td>10</td><td>4510</td></tr>",
                            "<tr><td>NULL</td><td>NULL</td><td>NULL</td><td>10</td><td>5104</td></tr>",
                            "<tr><td>NULL</td><td>NULL</td><td>NULL</td><td>10</td><td>5254</td></tr>",
                            "<tr><td>NULL</td><td>NULL</td><td>NULL</td><td>10</td><td>5556</td></tr>",
                            "<tr><td>NULL</td><td>NULL</td><td>NULL</td><td>10</td><td>6114</td></tr>",
                            "<tr><td>NULL</td><td>NULL</td><td>NULL</td><td>10</td><td>6917</td></tr>",
                            "<tr><td>NULL</td><td>NULL</td><td>NULL</td><td>10</td><td>7545</td></tr>",
                            "<tr><td>NULL</td><td>NULL</td><td>NULL</td><td>10</td><td>7842</td></tr>",
                            "<tr><td>NULL</td><td>NULL</td><td>NULL</td><td>11</td><td>3643</td></tr>",
                            "<tr><td>Harry Potter and the Half-Blood Prince (Harry Potter, #6)</td><td>4.54</td><td>275</td><td>12</td><td>1</td></tr>",
                            "<tr><td>NULL</td><td>NULL</td><td>NULL</td><td>12</td><td>124</td></tr>",
                            "<tr><td>NULL</td><td>NULL</td><td>NULL</td><td>12</td><td>1471</td></tr>",
                            "<tr><td>NULL</td><td>NULL</td><td>NULL</td><td>12</td><td>2893</td></tr>",
                            "<tr><td>NULL</td><td>NULL</td><td>NULL</td><td>13</td><td>81</td></tr>",
                            "<tr><td>NULL</td><td>NULL</td><td>NULL</td><td>13</td><td>277</td></tr>",
                            "<tr><td>NULL</td><td>NULL</td><td>NULL</td><td>13</td><td>318</td></tr>",
                            "<tr><td>NULL</td><td>NULL</td><td>NULL</td><td>13</td><td>430</td></tr>",
                            "<tr><td>NULL</td><td>NULL</td><td>NULL</td><td>13</td><td>437</td></tr>",
                            "<tr><td>NULL</td><td>NULL</td><td>NULL</td><td>13</td><td>551</td></tr>",
                            "<tr><td>NULL</td><td>NULL</td><td>NULL</td><td>13</td><td>560</td></tr>",
                            "<tr><td>NULL</td><td>NULL</td><td>NULL</td><td>13</td><td>610</td></tr>",
                            "<tr><td>NULL</td><td>NULL</td><td>NULL</td><td>13</td><td>678</td></tr>",
                            "<tr><td>NULL</td><td>NULL</td><td>NULL</td><td>13</td><td>979</td></tr>",
                            "<tr><td>NULL</td><td>NULL</td><td>NULL</td><td>13</td><td>1082</td></tr>",
                            "<tr><td>NULL</td><td>NULL</td><td>NULL</td><td>13</td><td>1464</td></tr>",
                            "<tr><td>NULL</td><td>NULL</td><td>NULL</td><td>13</td><td>1577</td></tr>",
                            "<tr><td>NULL</td><td>NULL</td><td>NULL</td><td>13</td><td>2018</td></tr>",
                            "<tr><td>NULL</td><td>NULL</td><td>NULL</td><td>13</td><td>2418</td></tr>",
                            "<tr><td>NULL</td><td>NULL</td><td>NULL</td><td>13</td><td>3257</td></tr>",
                            "<tr><td>NULL</td><td>NULL</td><td>NULL</td><td>13</td><td>4212</td></tr>",
                            "<tr><td>NULL</td><td>NULL</td><td>NULL</td><td>13</td><td>4635</td></tr>",
                            "<tr><td>NULL</td><td>NULL</td><td>NULL</td><td>13</td><td>4704</td></tr>",
                            "<tr><td>NULL</td><td>NULL</td><td>NULL</td><td>13</td><td>4734</td></tr>",
                            "<tr><td>NULL</td><td>NULL</td><td>NULL</td><td>13</td><td>4841</td></tr>",
                            "<tr><td>NULL</td><td>NULL</td><td>NULL</td><td>13</td><td>4848</td></tr>",
                            "<tr><td>NULL</td><td>NULL</td><td>NULL</td><td>13</td><td>4856</td></tr>",
                            "<tr><td>NULL</td><td>NULL</td><td>NULL</td><td>13</td><td>4928</td></tr>",
                            "<tr><td>NULL</td><td>NULL</td><td>NULL</td><td>13</td><td>6114</td></tr>",
                            "<tr><td>NULL</td><td>NULL</td><td>NULL</td><td>13</td><td>6793</td></tr>",
                            "<tr><td>NULL</td><td>NULL</td><td>NULL</td><td>13</td><td>6962</td></tr>",
                            "<tr><td>NULL</td><td>NULL</td><td>NULL</td><td>13</td><td>8717</td></tr>",
                            "<tr><td>NULL</td><td>NULL</td><td>NULL</td><td>14</td><td>493</td></tr>",
                            "<tr><td>NULL</td><td>NULL</td><td>NULL</td><td>14</td><td>1179</td></tr>",
                            "<tr><td>NULL</td><td>NULL</td><td>NULL</td><td>14</td><td>2693</td></tr>",
                            "<tr><td>Sherlock Holmes: The Complete Novels and Stories, Volume I</td><td>4.45</td><td>13</td><td>14</td><td>3581</td></tr>",
                            "<tr><td>NULL</td><td>NULL</td><td>NULL</td><td>14</td><td>3683</td></tr>",
                            "<tr><td>NULL</td><td>NULL</td><td>NULL</td><td>14</td><td>3953</td></tr>",
                            "<tr><td>NULL</td><td>NULL</td><td>NULL</td><td>14</td><td>4220</td></tr>",
                            "<tr><td>NULL</td><td>NULL</td><td>NULL</td><td>14</td><td>5076</td></tr>",
                            "<tr><td>NULL</td><td>NULL</td><td>NULL</td><td>14</td><td>5537</td></tr>",
                            "<tr><td>NULL</td><td>NULL</td><td>NULL</td><td>14</td><td>7777</td></tr>",
                            "<tr><td>NULL</td><td>NULL</td><td>NULL</td><td>15</td><td>191</td></tr>",
                            "<tr><td>The Lover</td><td>3.76</td><td>148</td><td>15</td><td>275</td></tr>",
                            "<tr><td>NULL</td><td>NULL</td><td>NULL</td><td>15</td><td>398</td></tr>",
                            "<tr><td>NULL</td><td>NULL</td><td>NULL</td><td>15</td><td>666</td></tr>",
                            "<tr><td>NULL</td><td>NULL</td><td>NULL</td><td>15</td><td>1491</td></tr>",
                            "<tr><td>NULL</td><td>NULL</td><td>NULL</td><td>15</td><td>5210</td></tr>",
                            "<tr><td>NULL</td><td>NULL</td><td>NULL</td><td>17</td><td>1344</td></tr>",
                            "<tr><td>The Good Soldier</td><td>3.72</td><td>362</td><td>20</td><td>7628</td></tr>",
                            "<tr><td>NULL</td><td>NULL</td><td>NULL</td><td>22</td><td>653</td></tr>",
                            "<tr><td>NULL</td><td>NULL</td><td>NULL</td><td>22</td><td>1403</td></tr>",
                            "<tr><td>NULL</td><td>NULL</td><td>NULL</td><td>22</td><td>1405</td></tr>",
                            "<tr><td>NULL</td><td>NULL</td><td>NULL</td><td>22</td><td>1645</td></tr>",
                            "<tr><td>NULL</td><td>NULL</td><td>NULL</td><td>22</td><td>2500</td></tr>",
                            "<tr><td>NULL</td><td>NULL</td><td>NULL</td><td>22</td><td>2691</td></tr>",
                            "<tr><td>NULL</td><td>NULL</td><td>NULL</td><td>22</td><td>4995</td></tr>",
                            "<tr><td>NULL</td><td>NULL</td><td>NULL</td><td>23</td><td>273</td></tr>",
                            "<tr><td>NULL</td><td>NULL</td><td>NULL</td><td>23</td><td>459</td></tr>",
                            "<tr><td>NULL</td><td>NULL</td><td>NULL</td><td>23</td><td>791</td></tr>",
                            "<tr><td>NULL</td><td>NULL</td><td>NULL</td><td>23</td><td>886</td></tr>",
                            "<tr><td>NULL</td><td>NULL</td><td>NULL</td><td>23</td><td>925</td></tr>",
                            "<tr><td>NULL</td><td>NULL</td><td>NULL</td><td>23</td><td>1198</td></tr>",
                            "<tr><td>NULL</td><td>NULL</td><td>NULL</td><td>23</td><td>1597</td></tr>",
                            "<tr><td>NULL</td><td>NULL</td><td>NULL</td><td>23</td><td>1688</td></tr>",
                            "<tr><td>NULL</td><td>NULL</td><td>NULL</td><td>23</td><td>2251</td></tr>",
                            "<tr><td>NULL</td><td>NULL</td><td>NULL</td><td>23</td><td>2350</td></tr>",
                            "<tr><td>NULL</td><td>NULL</td><td>NULL</td><td>23</td><td>2613</td></tr>",
                            "<tr><td>NULL</td><td>NULL</td><td>NULL</td><td>23</td><td>3312</td></tr>",
                            "<tr><td>NULL</td><td>NULL</td><td>NULL</td><td>23</td><td>3343</td></tr>",
                            "<tr><td>NULL</td><td>NULL</td><td>NULL</td><td>24</td><td>61</td></tr>",
                            "<tr><td>NULL</td><td>NULL</td><td>NULL</td><td>24</td><td>143</td></tr>",
                            "<tr><td>NULL</td><td>NULL</td><td>NULL</td><td>24</td><td>421</td></tr>",
                            "<tr><td>NULL</td><td>NULL</td><td>NULL</td><td>24</td><td>467</td></tr>",
                            "<tr><td>NULL</td><td>NULL</td><td>NULL</td><td>24</td><td>974</td></tr>",
                            "<tr><td>NULL</td><td>NULL</td><td>NULL</td><td>26</td><td>508</td></tr>",
                            "<tr><td>NULL</td><td>NULL</td><td>NULL</td><td>26</td><td>1796</td></tr>",
                            "<tr><td>NULL</td><td>NULL</td><td>NULL</td><td>26</td><td>2257</td></tr>",
                            "<tr><td>NULL</td><td>NULL</td><td>NULL</td><td>26</td><td>2314</td></tr>",
                            "<tr><td>NULL</td><td>NULL</td><td>NULL</td><td>26</td><td>2357</td></tr>",
                            "<tr><td>NULL</td><td>NULL</td><td>NULL</td><td>26</td><td>2738</td></tr>",
                            "<tr><td>NULL</td><td>NULL</td><td>NULL</td><td>26</td><td>2810</td></tr>",
                            "<tr><td>NULL</td><td>NULL</td><td>NULL</td><td>26</td><td>3207</td></tr>",
                            "<tr><td>The Thorn Birds</td><td>4.22</td><td>201</td><td>26</td><td>3412</td></tr>",
                            "<tr><td>The Complete Sherlock Holmes, Vol 2</td><td>4.46</td><td>117</td><td>26</td><td>3586</td></tr>",
                            "<tr><td>The Dark Tower (The Dark Tower, #7)</td><td>4.27</td><td>105</td><td>26</td><td>5091</td></tr>",
                            "<tr><td>NULL</td><td>NULL</td><td>NULL</td><td>26</td><td>5550</td></tr>",
                            "<tr><td>NULL</td><td>NULL</td><td>NULL</td><td>26</td><td>6877</td></tr>",
                            "<tr><td>NULL</td><td>NULL</td><td>NULL</td><td>26</td><td>7970</td></tr>",
                            "<tr><td>NULL</td><td>NULL</td><td>NULL</td><td>28</td><td>265</td></tr>",
                            "<tr><td>NULL</td><td>NULL</td><td>NULL</td><td>28</td><td>587</td></tr>",
                            "<tr><td>NULL</td><td>NULL</td><td>NULL</td><td>28</td><td>3543</td></tr>",
                            "<tr><td>NULL</td><td>NULL</td><td>NULL</td><td>28</td><td>5215</td></tr>",
                            "<tr><td>NULL</td><td>NULL</td><td>NULL</td><td>28</td><td>7496</td></tr>",
                            "<tr><td>NULL</td><td>NULL</td><td>NULL</td><td>28</td><td>8654</td></tr>",
                            "<tr><td>NULL</td><td>NULL</td><td>NULL</td><td>29</td><td>31</td></tr>",
                            "<tr><td>NULL</td><td>NULL</td><td>NULL</td><td>29</td><td>32</td></tr>",
                            "<tr><td>The Lord of the Rings: Weapons and Warfare</td><td>4.53</td><td>12</td><td>29</td><td>36</td></tr>",
                            "<tr><td>NULL</td><td>NULL</td><td>NULL</td><td>29</td><td>45</td></tr>",
                            "<tr><td>NULL</td><td>NULL</td><td>NULL</td><td>29</td><td>65</td></tr>",
                            "<tr><td>NULL</td><td>NULL</td><td>NULL</td><td>29</td><td>87</td></tr>",
                            "<tr><td>NULL</td><td>NULL</td><td>NULL</td><td>29</td><td>115</td></tr>",
                            "<tr><td>NULL</td><td>NULL</td><td>NULL</td><td>29</td><td>121</td></tr>",
                            "<tr><td>NULL</td><td>NULL</td><td>NULL</td><td>29</td><td>131</td></tr>",
                            "<tr><td>NULL</td><td>NULL</td><td>NULL</td><td>29</td><td>178</td></tr>",
                            "<tr><td>NULL</td><td>NULL</td><td>NULL</td><td>29</td><td>256</td></tr>",
                            "<tr><td>NULL</td><td>NULL</td><td>NULL</td><td>29</td><td>323</td></tr>",
                            "<tr><td>Slouching Towards Bethlehem</td><td>4.24</td><td>34</td><td>29</td><td>424</td></tr>",
                            "<tr><td>NULL</td><td>NULL</td><td>NULL</td><td>29</td><td>467</td></tr>",
                            "<tr><td>NULL</td><td>NULL</td><td>NULL</td><td>29</td><td>550</td></tr>",
                            "<tr><td>NULL</td><td>NULL</td><td>NULL</td><td>29</td><td>618</td></tr>",
                            "<tr><td>Atlas Shrugged</td><td>3.68</td><td>147</td><td>29</td><td>662</td></tr>",
                            "<tr><td>NULL</td><td>NULL</td><td>NULL</td><td>29</td><td>709</td></tr>",
                            "<tr><td>NULL</td><td>NULL</td><td>NULL</td><td>29</td><td>730</td></tr>",
                            "<tr><td>NULL</td><td>NULL</td><td>NULL</td><td>29</td><td>771</td></tr>",
                            "<tr><td>NULL</td><td>NULL</td><td>NULL</td><td>29</td><td>809</td></tr>",
                            "<tr><td>NULL</td><td>NULL</td><td>NULL</td><td>29</td><td>934</td></tr>",
                            "<tr><td>NULL</td><td>NULL</td><td>NULL</td><td>29</td><td>1084</td></tr>",
                            "<tr><td>NULL</td><td>NULL</td><td>NULL</td><td>29</td><td>1364</td></tr>",
                            "<tr><td>NULL</td><td>NULL</td><td>NULL</td><td>29</td><td>1642</td></tr>",
                            "<tr><td>NULL</td><td>NULL</td><td>NULL</td><td>29</td><td>1695</td></tr>",
                            "<tr><td>NULL</td><td>NULL</td><td>NULL</td><td>29</td><td>2259</td></tr>",
                            "<tr><td>NULL</td><td>NULL</td><td>NULL</td><td>29</td><td>2284</td></tr>",
                            "<tr><td>NULL</td><td>NULL</td><td>NULL</td><td>29</td><td>2304</td></tr>",
                            "<tr><td>NULL</td><td>NULL</td><td>NULL</td><td>29</td><td>2967</td></tr>",
                            "<tr><td>NULL</td><td>NULL</td><td>NULL</td><td>29</td><td>3508</td></tr>",
                            "<tr><td>NULL</td><td>NULL</td><td>NULL</td><td>29</td><td>4359</td></tr>",
                            "<tr><td>NULL</td><td>NULL</td><td>NULL</td><td>29</td><td>4394</td></tr>",
                            "<tr><td>NULL</td><td>NULL</td><td>NULL</td><td>29</td><td>4475</td></tr>",
                            "<tr><td>NULL</td><td>NULL</td><td>NULL</td><td>29</td><td>4629</td></tr>",
                            "<tr><td>NULL</td><td>NULL</td><td>NULL</td><td>29</td><td>5090</td></tr>",
                            "<tr><td>NULL</td><td>NULL</td><td>NULL</td><td>29</td><td>5596</td></tr>",
                            "<tr><td>NULL</td><td>NULL</td><td>NULL</td><td>29</td><td>5851</td></tr>",
                            "<tr><td>NULL</td><td>NULL</td><td>NULL</td><td>29</td><td>6104</td></tr>",
                            "<tr><td>NULL</td><td>NULL</td><td>NULL</td><td>30</td><td>47</td></tr>",
                            "<tr><td>The Known World</td><td>3.82</td><td>42</td><td>30</td><td>67</td></tr>",
                            "<tr><td>NULL</td><td>NULL</td><td>NULL</td><td>30</td><td>82</td></tr>",
                            "<tr><td>NULL</td><td>NULL</td><td>NULL</td><td>30</td><td>121</td></tr>",
                            "<tr><td>NULL</td><td>NULL</td><td>NULL</td><td>30</td><td>177</td></tr>",
                            "<tr><td>Tropic of Cancer</td><td>3.71</td><td>205</td><td>30</td><td>249</td></tr>",
                            "<tr><td>NULL</td><td>NULL</td><td>NULL</td><td>30</td><td>297</td></tr>",
                            "<tr><td>NULL</td><td>NULL</td><td>NULL</td><td>30</td><td>407</td></tr>",
                            "<tr><td>NULL</td><td>NULL</td><td>NULL</td><td>30</td><td>426</td></tr>",
                            "<tr><td>NULL</td><td>NULL</td><td>NULL</td><td>30</td><td>430</td></tr>",
                            "<tr><td>NULL</td><td>NULL</td><td>NULL</td><td>30</td><td>442</td></tr>",
                            "<tr><td>NULL</td><td>NULL</td><td>NULL</td><td>30</td><td>516</td></tr>",
                            "<tr><td>NULL</td><td>NULL</td><td>NULL</td><td>30</td><td>658</td></tr>",
                            "<tr><td>NULL</td><td>NULL</td><td>NULL</td><td>30</td><td>895</td></tr>",
                            "<tr><td>NULL</td><td>NULL</td><td>NULL</td><td>30</td><td>1039</td></tr>",
                            "<tr><td>NULL</td><td>NULL</td><td>NULL</td><td>30</td><td>1094</td></tr>",
                            "<tr><td>The Odyssey</td><td>3.73</td><td>1703</td><td>30</td><td>1381</td></tr>",
                            "<tr><td>NULL</td><td>NULL</td><td>NULL</td><td>30</td><td>2117</td></tr>",
                            "<tr><td>NULL</td><td>NULL</td><td>NULL</td><td>30</td><td>2426</td></tr>",
                            "<tr><td>NULL</td><td>NULL</td><td>NULL</td><td>30</td><td>3444</td></tr>",
                            "<tr><td>The Pilgrimage</td><td>3.64</td><td>171</td><td>30</td><td>4004</td></tr>",
                            "<tr><td>NULL</td><td>NULL</td><td>NULL</td><td>30</td><td>4202</td></tr>",
                            "<tr><td>NULL</td><td>NULL</td><td>NULL</td><td>30</td><td>4509</td></tr>",
                            "<tr><td>NULL</td><td>NULL</td><td>NULL</td><td>30</td><td>5880</td></tr>",
                            "<tr><td>The Hobbit</td><td>4.25</td><td>969</td><td>30</td><td>5907</td></tr>",
                            "<tr><td>NULL</td><td>NULL</td><td>NULL</td><td>30</td><td>6828</td></tr>",
                            "<tr><td>NULL</td><td>NULL</td><td>NULL</td><td>30</td><td>7563</td></tr>",
                            "<tr><td>NULL</td><td>NULL</td><td>NULL</td><td>30</td><td>8737</td></tr>",
                            "<tr><td>NULL</td><td>NULL</td><td>NULL</td><td>31</td><td>94</td></tr>",
                            "<tr><td>NULL</td><td>NULL</td><td>NULL</td><td>31</td><td>584</td></tr>",
                            "</table>"
                        ]
                    }
                }
            ],
            "execution_count": 7
        },
        {
            "cell_type": "markdown",
            "source": [
                "## **QUESTION 3:** Exploring FULL JOINS with the **books** and **to\\_read** tables\n",
                "\n",
                "You will need to uncomment the Query to answer the question.\n",
                "\n",
                "**Part A:**  Look at the table and explore how it was populated.  Try manipulating the query to better understand how this table works.  Try adding a WHERE clause, or ORDER BY a column on the **books** table.  Based on your exploration, can you think of when you might want a FULL join rather than a LEFT, RIGHT, or INNER?\n",
                "\n",
                "> Your Answer: \n",
                "> \n",
                "> Full join r<span style=\"color: rgb(0, 0, 0); font-family: &quot;Helvetica Neue&quot;; font-size: 13px; background-color: rgb(255, 255, 254);\">eturns all records when there is a match in either left or right table. This would be useful if we need records for both tables when there is a match</span>"
            ],
            "metadata": {
                "azdata_cell_guid": "8f6b8f22-3e5a-4b87-a2f2-07279f1deb94"
            },
            "attachments": {}
        },
        {
            "cell_type": "code",
            "source": [
                "\n",
                "-- FULL JOIN\n",
                "SELECT TOP 30 b.title, b.average_rating, b.books_count,tr.user_id, tr.book_id\n",
                "FROM BooksDB.dbo.books AS b\n",
                "FULL JOIN BooksDB.dbo.to_read AS tr\n",
                "ON b.book_id = tr.book_id\n",
                "WHERE b.BOOKS_COUNT IS NOT NULL\n",
                "ORDER BY b.average_rating "
            ],
            "metadata": {
                "azdata_cell_guid": "7c2a3dff-ef55-4222-aef0-7c0ab4f942eb",
                "tags": [],
                "language": "sql"
            },
            "outputs": [
                {
                    "output_type": "display_data",
                    "data": {
                        "text/html": "(30 rows affected)"
                    },
                    "metadata": {}
                },
                {
                    "output_type": "display_data",
                    "data": {
                        "text/html": "Total execution time: 00:00:02.739"
                    },
                    "metadata": {}
                },
                {
                    "output_type": "execute_result",
                    "metadata": {},
                    "execution_count": 12,
                    "data": {
                        "application/vnd.dataresource+json": {
                            "schema": {
                                "fields": [
                                    {
                                        "name": "title"
                                    },
                                    {
                                        "name": "average_rating"
                                    },
                                    {
                                        "name": "books_count"
                                    },
                                    {
                                        "name": "user_id"
                                    },
                                    {
                                        "name": "book_id"
                                    }
                                ]
                            },
                            "data": [
                                {
                                    "0": "One Night at the Call Center",
                                    "1": "2.47",
                                    "2": "25",
                                    "3": "NULL",
                                    "4": "NULL"
                                },
                                {
                                    "0": "The Almost Moon",
                                    "1": "2.67",
                                    "2": "63",
                                    "3": "NULL",
                                    "4": "NULL"
                                },
                                {
                                    "0": "The Finkler Question",
                                    "1": "2.76",
                                    "2": "45",
                                    "3": "NULL",
                                    "4": "NULL"
                                },
                                {
                                    "0": "Four Blondes",
                                    "1": "2.8",
                                    "2": "57",
                                    "3": "449",
                                    "4": "6613"
                                },
                                {
                                    "0": "Four Blondes",
                                    "1": "2.8",
                                    "2": "57",
                                    "3": "1378",
                                    "4": "6613"
                                },
                                {
                                    "0": "Four Blondes",
                                    "1": "2.8",
                                    "2": "57",
                                    "3": "6465",
                                    "4": "6613"
                                },
                                {
                                    "0": "Four Blondes",
                                    "1": "2.8",
                                    "2": "57",
                                    "3": "6700",
                                    "4": "6613"
                                },
                                {
                                    "0": "Four Blondes",
                                    "1": "2.8",
                                    "2": "57",
                                    "3": "7830",
                                    "4": "6613"
                                },
                                {
                                    "0": "Four Blondes",
                                    "1": "2.8",
                                    "2": "57",
                                    "3": "10085",
                                    "4": "6613"
                                },
                                {
                                    "0": "Four Blondes",
                                    "1": "2.8",
                                    "2": "57",
                                    "3": "16298",
                                    "4": "6613"
                                },
                                {
                                    "0": "Four Blondes",
                                    "1": "2.8",
                                    "2": "57",
                                    "3": "16845",
                                    "4": "6613"
                                },
                                {
                                    "0": "Four Blondes",
                                    "1": "2.8",
                                    "2": "57",
                                    "3": "17470",
                                    "4": "6613"
                                },
                                {
                                    "0": "Four Blondes",
                                    "1": "2.8",
                                    "2": "57",
                                    "3": "19763",
                                    "4": "6613"
                                },
                                {
                                    "0": "Four Blondes",
                                    "1": "2.8",
                                    "2": "57",
                                    "3": "21938",
                                    "4": "6613"
                                },
                                {
                                    "0": "Four Blondes",
                                    "1": "2.8",
                                    "2": "57",
                                    "3": "22289",
                                    "4": "6613"
                                },
                                {
                                    "0": "Four Blondes",
                                    "1": "2.8",
                                    "2": "57",
                                    "3": "23758",
                                    "4": "6613"
                                },
                                {
                                    "0": "Four Blondes",
                                    "1": "2.8",
                                    "2": "57",
                                    "3": "27874",
                                    "4": "6613"
                                },
                                {
                                    "0": "Four Blondes",
                                    "1": "2.8",
                                    "2": "57",
                                    "3": "28690",
                                    "4": "6613"
                                },
                                {
                                    "0": "Four Blondes",
                                    "1": "2.8",
                                    "2": "57",
                                    "3": "29023",
                                    "4": "6613"
                                },
                                {
                                    "0": "Four Blondes",
                                    "1": "2.8",
                                    "2": "57",
                                    "3": "29315",
                                    "4": "6613"
                                },
                                {
                                    "0": "Four Blondes",
                                    "1": "2.8",
                                    "2": "57",
                                    "3": "30245",
                                    "4": "6613"
                                },
                                {
                                    "0": "Four Blondes",
                                    "1": "2.8",
                                    "2": "57",
                                    "3": "36128",
                                    "4": "6613"
                                },
                                {
                                    "0": "Four Blondes",
                                    "1": "2.8",
                                    "2": "57",
                                    "3": "36554",
                                    "4": "6613"
                                },
                                {
                                    "0": "Four Blondes",
                                    "1": "2.8",
                                    "2": "57",
                                    "3": "38159",
                                    "4": "6613"
                                },
                                {
                                    "0": "Four Blondes",
                                    "1": "2.8",
                                    "2": "57",
                                    "3": "38800",
                                    "4": "6613"
                                },
                                {
                                    "0": "Four Blondes",
                                    "1": "2.8",
                                    "2": "57",
                                    "3": "40361",
                                    "4": "6613"
                                },
                                {
                                    "0": "Four Blondes",
                                    "1": "2.8",
                                    "2": "57",
                                    "3": "40529",
                                    "4": "6613"
                                },
                                {
                                    "0": "Four Blondes",
                                    "1": "2.8",
                                    "2": "57",
                                    "3": "41485",
                                    "4": "6613"
                                },
                                {
                                    "0": "Four Blondes",
                                    "1": "2.8",
                                    "2": "57",
                                    "3": "42706",
                                    "4": "6613"
                                },
                                {
                                    "0": "Four Blondes",
                                    "1": "2.8",
                                    "2": "57",
                                    "3": "45206",
                                    "4": "6613"
                                }
                            ]
                        },
                        "text/html": [
                            "<table>",
                            "<tr><th>title</th><th>average_rating</th><th>books_count</th><th>user_id</th><th>book_id</th></tr>",
                            "<tr><td>One Night at the Call Center</td><td>2.47</td><td>25</td><td>NULL</td><td>NULL</td></tr>",
                            "<tr><td>The Almost Moon</td><td>2.67</td><td>63</td><td>NULL</td><td>NULL</td></tr>",
                            "<tr><td>The Finkler Question</td><td>2.76</td><td>45</td><td>NULL</td><td>NULL</td></tr>",
                            "<tr><td>Four Blondes</td><td>2.8</td><td>57</td><td>449</td><td>6613</td></tr>",
                            "<tr><td>Four Blondes</td><td>2.8</td><td>57</td><td>1378</td><td>6613</td></tr>",
                            "<tr><td>Four Blondes</td><td>2.8</td><td>57</td><td>6465</td><td>6613</td></tr>",
                            "<tr><td>Four Blondes</td><td>2.8</td><td>57</td><td>6700</td><td>6613</td></tr>",
                            "<tr><td>Four Blondes</td><td>2.8</td><td>57</td><td>7830</td><td>6613</td></tr>",
                            "<tr><td>Four Blondes</td><td>2.8</td><td>57</td><td>10085</td><td>6613</td></tr>",
                            "<tr><td>Four Blondes</td><td>2.8</td><td>57</td><td>16298</td><td>6613</td></tr>",
                            "<tr><td>Four Blondes</td><td>2.8</td><td>57</td><td>16845</td><td>6613</td></tr>",
                            "<tr><td>Four Blondes</td><td>2.8</td><td>57</td><td>17470</td><td>6613</td></tr>",
                            "<tr><td>Four Blondes</td><td>2.8</td><td>57</td><td>19763</td><td>6613</td></tr>",
                            "<tr><td>Four Blondes</td><td>2.8</td><td>57</td><td>21938</td><td>6613</td></tr>",
                            "<tr><td>Four Blondes</td><td>2.8</td><td>57</td><td>22289</td><td>6613</td></tr>",
                            "<tr><td>Four Blondes</td><td>2.8</td><td>57</td><td>23758</td><td>6613</td></tr>",
                            "<tr><td>Four Blondes</td><td>2.8</td><td>57</td><td>27874</td><td>6613</td></tr>",
                            "<tr><td>Four Blondes</td><td>2.8</td><td>57</td><td>28690</td><td>6613</td></tr>",
                            "<tr><td>Four Blondes</td><td>2.8</td><td>57</td><td>29023</td><td>6613</td></tr>",
                            "<tr><td>Four Blondes</td><td>2.8</td><td>57</td><td>29315</td><td>6613</td></tr>",
                            "<tr><td>Four Blondes</td><td>2.8</td><td>57</td><td>30245</td><td>6613</td></tr>",
                            "<tr><td>Four Blondes</td><td>2.8</td><td>57</td><td>36128</td><td>6613</td></tr>",
                            "<tr><td>Four Blondes</td><td>2.8</td><td>57</td><td>36554</td><td>6613</td></tr>",
                            "<tr><td>Four Blondes</td><td>2.8</td><td>57</td><td>38159</td><td>6613</td></tr>",
                            "<tr><td>Four Blondes</td><td>2.8</td><td>57</td><td>38800</td><td>6613</td></tr>",
                            "<tr><td>Four Blondes</td><td>2.8</td><td>57</td><td>40361</td><td>6613</td></tr>",
                            "<tr><td>Four Blondes</td><td>2.8</td><td>57</td><td>40529</td><td>6613</td></tr>",
                            "<tr><td>Four Blondes</td><td>2.8</td><td>57</td><td>41485</td><td>6613</td></tr>",
                            "<tr><td>Four Blondes</td><td>2.8</td><td>57</td><td>42706</td><td>6613</td></tr>",
                            "<tr><td>Four Blondes</td><td>2.8</td><td>57</td><td>45206</td><td>6613</td></tr>",
                            "</table>"
                        ]
                    }
                }
            ],
            "execution_count": 12
        },
        {
            "cell_type": "markdown",
            "source": [
                "## **QUESTION 4:** Exploring INNER Joins with the **books** and **to\\_read** tables\n",
                "\n",
                "You will need to uncomment the Query to answer the question.\n",
                "\n",
                "**Part A:**  What does an inner join do?\n",
                "\n",
                "> <span style=\"background-color: rgba(127, 127, 127, 0.1); font-family: -apple-system, BlinkMacSystemFont, sans-serif;\">Your Answer:</span>\n",
                "> \n",
                "> The INNER JOIN keyword **selects all rows from both tables as long as there is a match between the columns**\n",
                "\n",
                "<span style=\"background-color: rgba(127, 127, 127, 0.1); font-family: -apple-system, BlinkMacSystemFont, sans-serif;\"><b>Part B:</b>&nbsp;Currently this table has an <b>'IS NOT NULL'</b> in the <b>WHERE</b> clause.&nbsp; Is this necessary for this table?&nbsp; Why or Why not?&nbsp;</span>   \n",
                "\n",
                "> Your Answer:No, not necessary as the title is a not null column and hence the where is not null is not necessary\n",
                "\n",
                "**Part C:**  When using SQL, you are usually returning much larger tables so every line of code will add to the compilation and return time.  Rewrite this inner join query so that it contains no redundant code.   \n",
                "\n",
                "> Your Answer:  Update the query in the code box below."
            ],
            "metadata": {
                "azdata_cell_guid": "4dab11ce-7995-4444-92dd-4cb2c0bc02c8"
            },
            "attachments": {}
        },
        {
            "cell_type": "code",
            "source": [
                "\n",
                "-- INNER JOIN\n",
                "SELECT TOP 30 b.title, b.average_rating, b.books_count,tr.user_id, tr.book_id\n",
                "FROM BooksDB.dbo.books AS b\n",
                "INNER JOIN BooksDB.dbo.to_read AS tr\n",
                "ON b.book_id = tr.book_id\n",
                "--ORDER BY tr.book_id;\n",
                ""
            ],
            "metadata": {
                "azdata_cell_guid": "66d430ab-18aa-4a29-a32d-0585445e417c",
                "tags": [],
                "language": "sql"
            },
            "outputs": [
                {
                    "output_type": "display_data",
                    "data": {
                        "text/html": "(30 rows affected)"
                    },
                    "metadata": {}
                },
                {
                    "output_type": "display_data",
                    "data": {
                        "text/html": "Total execution time: 00:00:00.079"
                    },
                    "metadata": {}
                },
                {
                    "output_type": "execute_result",
                    "metadata": {},
                    "execution_count": 21,
                    "data": {
                        "application/vnd.dataresource+json": {
                            "schema": {
                                "fields": [
                                    {
                                        "name": "title"
                                    },
                                    {
                                        "name": "average_rating"
                                    },
                                    {
                                        "name": "books_count"
                                    },
                                    {
                                        "name": "user_id"
                                    },
                                    {
                                        "name": "book_id"
                                    }
                                ]
                            },
                            "data": [
                                {
                                    "0": "Children of Dune (Dune Chronicles #3)",
                                    "1": "3.9",
                                    "2": "116",
                                    "3": "1",
                                    "4": "112"
                                },
                                {
                                    "0": "The Hitchhiker's Guide to the Galaxy (Hitchhiker's Guide to the Galaxy, #1)",
                                    "1": "4.2",
                                    "2": "257",
                                    "3": "2",
                                    "4": "11"
                                },
                                {
                                    "0": "The Ultimate Hitchhiker's Guide to the Galaxy",
                                    "1": "4.37",
                                    "2": "32",
                                    "3": "2",
                                    "4": "13"
                                },
                                {
                                    "0": "Dune Messiah (Dune Chronicles #2)",
                                    "1": "3.86",
                                    "2": "140",
                                    "3": "2",
                                    "4": "106"
                                },
                                {
                                    "0": "The Iliad",
                                    "1": "3.83",
                                    "2": "1726",
                                    "3": "2",
                                    "4": "1371"
                                },
                                {
                                    "0": "Harry Potter Collection (Harry Potter, #1-6)",
                                    "1": "4.73",
                                    "2": "6",
                                    "3": "3",
                                    "4": "10"
                                },
                                {
                                    "0": "The Virtue of Selfishness: A New Concept of Egoism",
                                    "1": "3.47",
                                    "2": "53",
                                    "3": "5",
                                    "4": "665"
                                },
                                {
                                    "0": "Sherlock Holmes: The Complete Novels and Stories, Volume I",
                                    "1": "4.45",
                                    "2": "13",
                                    "3": "5",
                                    "4": "3581"
                                },
                                {
                                    "0": "The War of Art: Break Through the Blocks & Win Your Inner Creative Battles",
                                    "1": "4.07",
                                    "2": "29",
                                    "3": "6",
                                    "4": "1319"
                                },
                                {
                                    "0": "Harry Potter Collection (Harry Potter, #1-6)",
                                    "1": "4.73",
                                    "2": "6",
                                    "3": "7",
                                    "4": "10"
                                },
                                {
                                    "0": "The Pilgrimage",
                                    "1": "3.64",
                                    "2": "171",
                                    "3": "8",
                                    "4": "4004"
                                },
                                {
                                    "0": "Harry Potter Boxed Set, Books 1-5 (Harry Potter, #1-5)",
                                    "1": "4.77",
                                    "2": "11",
                                    "3": "9",
                                    "4": "8"
                                },
                                {
                                    "0": "Children of Dune (Dune Chronicles #3)",
                                    "1": "3.9",
                                    "2": "116",
                                    "3": "9",
                                    "4": "112"
                                },
                                {
                                    "0": "Icy Sparks",
                                    "1": "3.68",
                                    "2": "27",
                                    "3": "9",
                                    "4": "3476"
                                },
                                {
                                    "0": "Harry Potter and the Goblet of Fire (Harry Potter, #4)",
                                    "1": "4.53",
                                    "2": "332",
                                    "3": "10",
                                    "4": "6"
                                },
                                {
                                    "0": "Atlas Shrugged",
                                    "1": "3.68",
                                    "2": "147",
                                    "3": "10",
                                    "4": "662"
                                },
                                {
                                    "0": "Harry Potter and the Half-Blood Prince (Harry Potter, #6)",
                                    "1": "4.54",
                                    "2": "275",
                                    "3": "12",
                                    "4": "1"
                                },
                                {
                                    "0": "Sherlock Holmes: The Complete Novels and Stories, Volume I",
                                    "1": "4.45",
                                    "2": "13",
                                    "3": "14",
                                    "4": "3581"
                                },
                                {
                                    "0": "The Lover",
                                    "1": "3.76",
                                    "2": "148",
                                    "3": "15",
                                    "4": "275"
                                },
                                {
                                    "0": "The Good Soldier",
                                    "1": "3.72",
                                    "2": "362",
                                    "3": "20",
                                    "4": "7628"
                                },
                                {
                                    "0": "The Thorn Birds",
                                    "1": "4.22",
                                    "2": "201",
                                    "3": "26",
                                    "4": "3412"
                                },
                                {
                                    "0": "The Complete Sherlock Holmes, Vol 2",
                                    "1": "4.46",
                                    "2": "117",
                                    "3": "26",
                                    "4": "3586"
                                },
                                {
                                    "0": "The Dark Tower (The Dark Tower, #7)",
                                    "1": "4.27",
                                    "2": "105",
                                    "3": "26",
                                    "4": "5091"
                                },
                                {
                                    "0": "The Lord of the Rings: Weapons and Warfare",
                                    "1": "4.53",
                                    "2": "12",
                                    "3": "29",
                                    "4": "36"
                                },
                                {
                                    "0": "Slouching Towards Bethlehem",
                                    "1": "4.24",
                                    "2": "34",
                                    "3": "29",
                                    "4": "424"
                                },
                                {
                                    "0": "Atlas Shrugged",
                                    "1": "3.68",
                                    "2": "147",
                                    "3": "29",
                                    "4": "662"
                                },
                                {
                                    "0": "The Elegant Universe: Superstrings, Hidden Dimensions, and the Quest for the Ultimate Theory",
                                    "1": "4.06",
                                    "2": "75",
                                    "3": "29",
                                    "4": "771"
                                },
                                {
                                    "0": "The Known World",
                                    "1": "3.82",
                                    "2": "42",
                                    "3": "30",
                                    "4": "67"
                                },
                                {
                                    "0": "Tropic of Cancer",
                                    "1": "3.71",
                                    "2": "205",
                                    "3": "30",
                                    "4": "249"
                                },
                                {
                                    "0": "The Odyssey",
                                    "1": "3.73",
                                    "2": "1703",
                                    "3": "30",
                                    "4": "1381"
                                }
                            ]
                        },
                        "text/html": [
                            "<table>",
                            "<tr><th>title</th><th>average_rating</th><th>books_count</th><th>user_id</th><th>book_id</th></tr>",
                            "<tr><td>Children of Dune (Dune Chronicles #3)</td><td>3.9</td><td>116</td><td>1</td><td>112</td></tr>",
                            "<tr><td>The Hitchhiker's Guide to the Galaxy (Hitchhiker's Guide to the Galaxy, #1)</td><td>4.2</td><td>257</td><td>2</td><td>11</td></tr>",
                            "<tr><td>The Ultimate Hitchhiker's Guide to the Galaxy</td><td>4.37</td><td>32</td><td>2</td><td>13</td></tr>",
                            "<tr><td>Dune Messiah (Dune Chronicles #2)</td><td>3.86</td><td>140</td><td>2</td><td>106</td></tr>",
                            "<tr><td>The Iliad</td><td>3.83</td><td>1726</td><td>2</td><td>1371</td></tr>",
                            "<tr><td>Harry Potter Collection (Harry Potter, #1-6)</td><td>4.73</td><td>6</td><td>3</td><td>10</td></tr>",
                            "<tr><td>The Virtue of Selfishness: A New Concept of Egoism</td><td>3.47</td><td>53</td><td>5</td><td>665</td></tr>",
                            "<tr><td>Sherlock Holmes: The Complete Novels and Stories, Volume I</td><td>4.45</td><td>13</td><td>5</td><td>3581</td></tr>",
                            "<tr><td>The War of Art: Break Through the Blocks &amp; Win Your Inner Creative Battles</td><td>4.07</td><td>29</td><td>6</td><td>1319</td></tr>",
                            "<tr><td>Harry Potter Collection (Harry Potter, #1-6)</td><td>4.73</td><td>6</td><td>7</td><td>10</td></tr>",
                            "<tr><td>The Pilgrimage</td><td>3.64</td><td>171</td><td>8</td><td>4004</td></tr>",
                            "<tr><td>Harry Potter Boxed Set, Books 1-5 (Harry Potter, #1-5)</td><td>4.77</td><td>11</td><td>9</td><td>8</td></tr>",
                            "<tr><td>Children of Dune (Dune Chronicles #3)</td><td>3.9</td><td>116</td><td>9</td><td>112</td></tr>",
                            "<tr><td>Icy Sparks</td><td>3.68</td><td>27</td><td>9</td><td>3476</td></tr>",
                            "<tr><td>Harry Potter and the Goblet of Fire (Harry Potter, #4)</td><td>4.53</td><td>332</td><td>10</td><td>6</td></tr>",
                            "<tr><td>Atlas Shrugged</td><td>3.68</td><td>147</td><td>10</td><td>662</td></tr>",
                            "<tr><td>Harry Potter and the Half-Blood Prince (Harry Potter, #6)</td><td>4.54</td><td>275</td><td>12</td><td>1</td></tr>",
                            "<tr><td>Sherlock Holmes: The Complete Novels and Stories, Volume I</td><td>4.45</td><td>13</td><td>14</td><td>3581</td></tr>",
                            "<tr><td>The Lover</td><td>3.76</td><td>148</td><td>15</td><td>275</td></tr>",
                            "<tr><td>The Good Soldier</td><td>3.72</td><td>362</td><td>20</td><td>7628</td></tr>",
                            "<tr><td>The Thorn Birds</td><td>4.22</td><td>201</td><td>26</td><td>3412</td></tr>",
                            "<tr><td>The Complete Sherlock Holmes, Vol 2</td><td>4.46</td><td>117</td><td>26</td><td>3586</td></tr>",
                            "<tr><td>The Dark Tower (The Dark Tower, #7)</td><td>4.27</td><td>105</td><td>26</td><td>5091</td></tr>",
                            "<tr><td>The Lord of the Rings: Weapons and Warfare</td><td>4.53</td><td>12</td><td>29</td><td>36</td></tr>",
                            "<tr><td>Slouching Towards Bethlehem</td><td>4.24</td><td>34</td><td>29</td><td>424</td></tr>",
                            "<tr><td>Atlas Shrugged</td><td>3.68</td><td>147</td><td>29</td><td>662</td></tr>",
                            "<tr><td>The Elegant Universe: Superstrings, Hidden Dimensions, and the Quest for the Ultimate Theory</td><td>4.06</td><td>75</td><td>29</td><td>771</td></tr>",
                            "<tr><td>The Known World</td><td>3.82</td><td>42</td><td>30</td><td>67</td></tr>",
                            "<tr><td>Tropic of Cancer</td><td>3.71</td><td>205</td><td>30</td><td>249</td></tr>",
                            "<tr><td>The Odyssey</td><td>3.73</td><td>1703</td><td>30</td><td>1381</td></tr>",
                            "</table>"
                        ]
                    }
                }
            ],
            "execution_count": 21
        },
        {
            "cell_type": "markdown",
            "source": [
                "## **QUESTION 5:**  Using joins to find the most tagged book and the most popular tag\n",
                "\n",
                "We will be writing 3 queries to find both the most tagged book and that book's most popular tag.\n",
                "\n",
                "**Part A:**  What is the most tagged book?\n",
                "\n",
                "> <span style=\"background-color: rgba(127, 127, 127, 0.1); font-family: -apple-system, BlinkMacSystemFont, sans-serif;\">Start by joining the </span> **books** <span style=\"background-color: rgba(127, 127, 127, 0.1); font-family: -apple-system, BlinkMacSystemFont, sans-serif;\">and </span> **book\\_tags**      <span style=\"background-color: rgba(127, 127, 127, 0.1); font-family: -apple-system, BlinkMacSystemFont, sans-serif;\">&nbsp;tables ON the books.best_book_id and book_tags.goodreads_book_id.&nbsp;&nbsp;<br></span>          <span style=\"background-color: rgba(127, 127, 127, 0.1); font-family: -apple-system, BlinkMacSystemFont, sans-serif;\">We want the <i>most popular</i> book, so think about ordering the table in a way that will display both the book title and the number of times a book tag has been used.</span>\n",
                "> \n",
                "> _MInimum Desired output:_  The title of the most tagged book, and the number of times the book has been tagged.\n",
                "> \n",
                "> **Title:**\n",
                "> \n",
                "> <span style=\"background-color: rgba(127, 127, 127, 0.1);\"><b>Harry Potter and the Sorcerer's Stone (Harry Potter, #1)- 786374</b></span>\n",
                "> \n",
                "> **Part B:** <span style=\"background-color: rgb(255, 255, 254); font-family: -apple-system, BlinkMacSystemFont, sans-serif;\">How many different tags have been used for the most tagged book?</span>\n",
                "\n",
                "> <span style=\"font-family: -apple-system, BlinkMacSystemFont, sans-serif; background-color: rgba(127, 127, 127, 0.1);\">Start by joining the&nbsp;</span>      **books** <span style=\"font-family: -apple-system, BlinkMacSystemFont, sans-serif; background-color: rgba(127, 127, 127, 0.1);\">and&nbsp;</span>      **book\\_tags**      <span style=\"font-family: -apple-system, BlinkMacSystemFont, sans-serif; background-color: rgba(127, 127, 127, 0.1);\">&nbsp;tables ON the books.best_book_id and book_tags.goodreads_book_id.&nbsp;&nbsp;<br></span>          We want to find the _most popular_ tag id, so think about ordering in a way that will display the most popular tag id.\n",
                "> \n",
                "> <span style=\"font-family: -apple-system, BlinkMacSystemFont, sans-serif; background-color: rgba(127, 127, 127, 0.1);\"><i>Minimum Desired Output:</i> The tag id for the most popular tag used for the most tagged book.&nbsp;</span>     \n",
                "> \n",
                "> <span style=\"font-family: -apple-system, BlinkMacSystemFont, sans-serif; background-color: rgba(127, 127, 127, 0.1);\"><b>Tag Id:30574</b></span>\n",
                "\n",
                "<span style=\"font-family: -apple-system, BlinkMacSystemFont, sans-serif; background-color: rgba(127, 127, 127, 0.1);\"><b>Part C: </b>What is this particular tag?</span>\n",
                "\n",
                "> You may return this answer with a simple query.\n",
                "\n",
                "> <span style=\"font-family: -apple-system, BlinkMacSystemFont, sans-serif; background-color: rgba(127, 127, 127, 0.1);\"><i>Minimum Desired Output:</i>&nbsp;The tag name for the most popular tag used for the most tagged book.&nbsp;</span>     \n",
                "> \n",
                "> <span style=\"font-family: -apple-system, BlinkMacSystemFont, sans-serif; background-color: rgba(127, 127, 127, 0.1);\"><b>Tag Name:to_read</b></span>"
            ],
            "metadata": {
                "azdata_cell_guid": "a685e9cc-2ae2-40e8-8cc1-022c8064d66d"
            },
            "attachments": {}
        },
        {
            "cell_type": "code",
            "source": [
                "-- Code Here:\n",
                "SELECT b.title,sum(bt.count) as total_tag_used\n",
                "FROM BooksDB.dbo.books AS b\n",
                "JOIN BooksDB.dbo.book_tags AS bt\n",
                "ON b.best_book_id = bt.goodreads_book_id\n",
                "GROUP by b.title\n",
                "order by total_tag_used desc"
            ],
            "metadata": {
                "azdata_cell_guid": "de3ac253-6b47-4740-8c6e-5f9d1b0ce36b",
                "language": "sql",
                "tags": []
            },
            "outputs": [
                {
                    "output_type": "display_data",
                    "data": {
                        "text/html": "(50 rows affected)"
                    },
                    "metadata": {}
                },
                {
                    "output_type": "display_data",
                    "data": {
                        "text/html": "Total execution time: 00:00:00.069"
                    },
                    "metadata": {}
                },
                {
                    "output_type": "execute_result",
                    "metadata": {},
                    "execution_count": 33,
                    "data": {
                        "application/vnd.dataresource+json": {
                            "schema": {
                                "fields": [
                                    {
                                        "name": "title"
                                    },
                                    {
                                        "name": "best_book_id"
                                    },
                                    {
                                        "name": "tag_id"
                                    },
                                    {
                                        "name": "average_rating"
                                    },
                                    {
                                        "name": "goodreads_book_id"
                                    },
                                    {
                                        "name": "count"
                                    }
                                ]
                            },
                            "data": [
                                {
                                    "0": "Harry Potter and the Half-Blood Prince (Harry Potter, #6)",
                                    "1": "1",
                                    "2": "30574",
                                    "3": "4.54",
                                    "4": "1",
                                    "5": "167697"
                                },
                                {
                                    "0": "Harry Potter and the Half-Blood Prince (Harry Potter, #6)",
                                    "1": "1",
                                    "2": "11305",
                                    "3": "4.54",
                                    "4": "1",
                                    "5": "37174"
                                },
                                {
                                    "0": "Harry Potter and the Half-Blood Prince (Harry Potter, #6)",
                                    "1": "1",
                                    "2": "11557",
                                    "3": "4.54",
                                    "4": "1",
                                    "5": "34173"
                                },
                                {
                                    "0": "Harry Potter and the Half-Blood Prince (Harry Potter, #6)",
                                    "1": "1",
                                    "2": "8717",
                                    "3": "4.54",
                                    "4": "1",
                                    "5": "12986"
                                },
                                {
                                    "0": "Harry Potter and the Half-Blood Prince (Harry Potter, #6)",
                                    "1": "1",
                                    "2": "33114",
                                    "3": "4.54",
                                    "4": "1",
                                    "5": "12716"
                                },
                                {
                                    "0": "Harry Potter and the Half-Blood Prince (Harry Potter, #6)",
                                    "1": "1",
                                    "2": "11743",
                                    "3": "4.54",
                                    "4": "1",
                                    "5": "9954"
                                },
                                {
                                    "0": "Harry Potter and the Half-Blood Prince (Harry Potter, #6)",
                                    "1": "1",
                                    "2": "14017",
                                    "3": "4.54",
                                    "4": "1",
                                    "5": "7169"
                                },
                                {
                                    "0": "Harry Potter and the Half-Blood Prince (Harry Potter, #6)",
                                    "1": "1",
                                    "2": "5207",
                                    "3": "4.54",
                                    "4": "1",
                                    "5": "6221"
                                },
                                {
                                    "0": "Harry Potter and the Half-Blood Prince (Harry Potter, #6)",
                                    "1": "1",
                                    "2": "22743",
                                    "3": "4.54",
                                    "4": "1",
                                    "5": "4974"
                                },
                                {
                                    "0": "Harry Potter and the Half-Blood Prince (Harry Potter, #6)",
                                    "1": "1",
                                    "2": "32989",
                                    "3": "4.54",
                                    "4": "1",
                                    "5": "4364"
                                },
                                {
                                    "0": "Harry Potter and the Half-Blood Prince (Harry Potter, #6)",
                                    "1": "1",
                                    "2": "27199",
                                    "3": "4.54",
                                    "4": "1",
                                    "5": "3857"
                                },
                                {
                                    "0": "Harry Potter and the Half-Blood Prince (Harry Potter, #6)",
                                    "1": "1",
                                    "2": "11590",
                                    "3": "4.54",
                                    "4": "1",
                                    "5": "3456"
                                },
                                {
                                    "0": "Harry Potter and the Half-Blood Prince (Harry Potter, #6)",
                                    "1": "1",
                                    "2": "18886",
                                    "3": "4.54",
                                    "4": "1",
                                    "5": "3374"
                                },
                                {
                                    "0": "Harry Potter and the Half-Blood Prince (Harry Potter, #6)",
                                    "1": "1",
                                    "2": "6953",
                                    "3": "4.54",
                                    "4": "1",
                                    "5": "2408"
                                },
                                {
                                    "0": "Harry Potter and the Half-Blood Prince (Harry Potter, #6)",
                                    "1": "1",
                                    "2": "22753",
                                    "3": "4.54",
                                    "4": "1",
                                    "5": "1881"
                                },
                                {
                                    "0": "Harry Potter and the Half-Blood Prince (Harry Potter, #6)",
                                    "1": "1",
                                    "2": "24960",
                                    "3": "4.54",
                                    "4": "1",
                                    "5": "1821"
                                },
                                {
                                    "0": "Harry Potter and the Half-Blood Prince (Harry Potter, #6)",
                                    "1": "1",
                                    "2": "1691",
                                    "3": "4.54",
                                    "4": "1",
                                    "5": "1742"
                                },
                                {
                                    "0": "Harry Potter and the Half-Blood Prince (Harry Potter, #6)",
                                    "1": "1",
                                    "2": "6857",
                                    "3": "4.54",
                                    "4": "1",
                                    "5": "1560"
                                },
                                {
                                    "0": "Harry Potter and the Half-Blood Prince (Harry Potter, #6)",
                                    "1": "1",
                                    "2": "15965",
                                    "3": "4.54",
                                    "4": "1",
                                    "5": "1309"
                                },
                                {
                                    "0": "Harry Potter and the Half-Blood Prince (Harry Potter, #6)",
                                    "1": "1",
                                    "2": "6888",
                                    "3": "4.54",
                                    "4": "1",
                                    "5": "1095"
                                },
                                {
                                    "0": "Harry Potter and the Half-Blood Prince (Harry Potter, #6)",
                                    "1": "1",
                                    "2": "26785",
                                    "3": "4.54",
                                    "4": "1",
                                    "5": "1093"
                                },
                                {
                                    "0": "Harry Potter and the Half-Blood Prince (Harry Potter, #6)",
                                    "1": "1",
                                    "2": "6828",
                                    "3": "4.54",
                                    "4": "1",
                                    "5": "1027"
                                },
                                {
                                    "0": "Harry Potter and the Half-Blood Prince (Harry Potter, #6)",
                                    "1": "1",
                                    "2": "2104",
                                    "3": "4.54",
                                    "4": "1",
                                    "5": "1022"
                                },
                                {
                                    "0": "Harry Potter and the Half-Blood Prince (Harry Potter, #6)",
                                    "1": "1",
                                    "2": "9221",
                                    "3": "4.54",
                                    "4": "1",
                                    "5": "987"
                                },
                                {
                                    "0": "Harry Potter and the Half-Blood Prince (Harry Potter, #6)",
                                    "1": "1",
                                    "2": "20774",
                                    "3": "4.54",
                                    "4": "1",
                                    "5": "984"
                                },
                                {
                                    "0": "Harry Potter and the Half-Blood Prince (Harry Potter, #6)",
                                    "1": "1",
                                    "2": "7457",
                                    "3": "4.54",
                                    "4": "1",
                                    "5": "958"
                                },
                                {
                                    "0": "Harry Potter and the Half-Blood Prince (Harry Potter, #6)",
                                    "1": "1",
                                    "2": "25765",
                                    "3": "4.54",
                                    "4": "1",
                                    "5": "858"
                                },
                                {
                                    "0": "Harry Potter and the Half-Blood Prince (Harry Potter, #6)",
                                    "1": "1",
                                    "2": "15169",
                                    "3": "4.54",
                                    "4": "1",
                                    "5": "853"
                                },
                                {
                                    "0": "Harry Potter and the Half-Blood Prince (Harry Potter, #6)",
                                    "1": "1",
                                    "2": "3389",
                                    "3": "4.54",
                                    "4": "1",
                                    "5": "836"
                                },
                                {
                                    "0": "Harry Potter and the Half-Blood Prince (Harry Potter, #6)",
                                    "1": "1",
                                    "2": "1128",
                                    "3": "4.54",
                                    "4": "1",
                                    "5": "828"
                                },
                                {
                                    "0": "Harry Potter and the Half-Blood Prince (Harry Potter, #6)",
                                    "1": "1",
                                    "2": "6895",
                                    "3": "4.54",
                                    "4": "1",
                                    "5": "798"
                                },
                                {
                                    "0": "Harry Potter and the Half-Blood Prince (Harry Potter, #6)",
                                    "1": "1",
                                    "2": "11505",
                                    "3": "4.54",
                                    "4": "1",
                                    "5": "792"
                                },
                                {
                                    "0": "Harry Potter and the Half-Blood Prince (Harry Potter, #6)",
                                    "1": "1",
                                    "2": "17124",
                                    "3": "4.54",
                                    "4": "1",
                                    "5": "748"
                                },
                                {
                                    "0": "Harry Potter and the Half-Blood Prince (Harry Potter, #6)",
                                    "1": "1",
                                    "2": "22034",
                                    "3": "4.54",
                                    "4": "1",
                                    "5": "744"
                                },
                                {
                                    "0": "Harry Potter and the Half-Blood Prince (Harry Potter, #6)",
                                    "1": "1",
                                    "2": "11370",
                                    "3": "4.54",
                                    "4": "1",
                                    "5": "738"
                                },
                                {
                                    "0": "Harry Potter and the Half-Blood Prince (Harry Potter, #6)",
                                    "1": "1",
                                    "2": "11497",
                                    "3": "4.54",
                                    "4": "1",
                                    "5": "730"
                                },
                                {
                                    "0": "Harry Potter and the Half-Blood Prince (Harry Potter, #6)",
                                    "1": "1",
                                    "2": "19974",
                                    "3": "4.54",
                                    "4": "1",
                                    "5": "718"
                                },
                                {
                                    "0": "Harry Potter and the Half-Blood Prince (Harry Potter, #6)",
                                    "1": "1",
                                    "2": "3392",
                                    "3": "4.54",
                                    "4": "1",
                                    "5": "701"
                                },
                                {
                                    "0": "Harry Potter and the Half-Blood Prince (Harry Potter, #6)",
                                    "1": "1",
                                    "2": "22973",
                                    "3": "4.54",
                                    "4": "1",
                                    "5": "673"
                                },
                                {
                                    "0": "Harry Potter and the Half-Blood Prince (Harry Potter, #6)",
                                    "1": "1",
                                    "2": "25234",
                                    "3": "4.54",
                                    "4": "1",
                                    "5": "659"
                                },
                                {
                                    "0": "Harry Potter and the Half-Blood Prince (Harry Potter, #6)",
                                    "1": "1",
                                    "2": "20849",
                                    "3": "4.54",
                                    "4": "1",
                                    "5": "653"
                                },
                                {
                                    "0": "Harry Potter and the Half-Blood Prince (Harry Potter, #6)",
                                    "1": "1",
                                    "2": "33009",
                                    "3": "4.54",
                                    "4": "1",
                                    "5": "612"
                                },
                                {
                                    "0": "Harry Potter and the Half-Blood Prince (Harry Potter, #6)",
                                    "1": "1",
                                    "2": "29452",
                                    "3": "4.54",
                                    "4": "1",
                                    "5": "600"
                                },
                                {
                                    "0": "Harry Potter and the Half-Blood Prince (Harry Potter, #6)",
                                    "1": "1",
                                    "2": "32623",
                                    "3": "4.54",
                                    "4": "1",
                                    "5": "552"
                                },
                                {
                                    "0": "Harry Potter and the Half-Blood Prince (Harry Potter, #6)",
                                    "1": "1",
                                    "2": "10644",
                                    "3": "4.54",
                                    "4": "1",
                                    "5": "552"
                                },
                                {
                                    "0": "Harry Potter and the Half-Blood Prince (Harry Potter, #6)",
                                    "1": "1",
                                    "2": "31617",
                                    "3": "4.54",
                                    "4": "1",
                                    "5": "547"
                                },
                                {
                                    "0": "Harry Potter and the Half-Blood Prince (Harry Potter, #6)",
                                    "1": "1",
                                    "2": "5751",
                                    "3": "4.54",
                                    "4": "1",
                                    "5": "534"
                                },
                                {
                                    "0": "Harry Potter and the Half-Blood Prince (Harry Potter, #6)",
                                    "1": "1",
                                    "2": "16427",
                                    "3": "4.54",
                                    "4": "1",
                                    "5": "532"
                                },
                                {
                                    "0": "Harry Potter and the Half-Blood Prince (Harry Potter, #6)",
                                    "1": "1",
                                    "2": "5090",
                                    "3": "4.54",
                                    "4": "1",
                                    "5": "522"
                                },
                                {
                                    "0": "Harry Potter and the Half-Blood Prince (Harry Potter, #6)",
                                    "1": "1",
                                    "2": "25152",
                                    "3": "4.54",
                                    "4": "1",
                                    "5": "505"
                                }
                            ]
                        },
                        "text/html": [
                            "<table>",
                            "<tr><th>title</th><th>best_book_id</th><th>tag_id</th><th>average_rating</th><th>goodreads_book_id</th><th>count</th></tr>",
                            "<tr><td>Harry Potter and the Half-Blood Prince (Harry Potter, #6)</td><td>1</td><td>30574</td><td>4.54</td><td>1</td><td>167697</td></tr>",
                            "<tr><td>Harry Potter and the Half-Blood Prince (Harry Potter, #6)</td><td>1</td><td>11305</td><td>4.54</td><td>1</td><td>37174</td></tr>",
                            "<tr><td>Harry Potter and the Half-Blood Prince (Harry Potter, #6)</td><td>1</td><td>11557</td><td>4.54</td><td>1</td><td>34173</td></tr>",
                            "<tr><td>Harry Potter and the Half-Blood Prince (Harry Potter, #6)</td><td>1</td><td>8717</td><td>4.54</td><td>1</td><td>12986</td></tr>",
                            "<tr><td>Harry Potter and the Half-Blood Prince (Harry Potter, #6)</td><td>1</td><td>33114</td><td>4.54</td><td>1</td><td>12716</td></tr>",
                            "<tr><td>Harry Potter and the Half-Blood Prince (Harry Potter, #6)</td><td>1</td><td>11743</td><td>4.54</td><td>1</td><td>9954</td></tr>",
                            "<tr><td>Harry Potter and the Half-Blood Prince (Harry Potter, #6)</td><td>1</td><td>14017</td><td>4.54</td><td>1</td><td>7169</td></tr>",
                            "<tr><td>Harry Potter and the Half-Blood Prince (Harry Potter, #6)</td><td>1</td><td>5207</td><td>4.54</td><td>1</td><td>6221</td></tr>",
                            "<tr><td>Harry Potter and the Half-Blood Prince (Harry Potter, #6)</td><td>1</td><td>22743</td><td>4.54</td><td>1</td><td>4974</td></tr>",
                            "<tr><td>Harry Potter and the Half-Blood Prince (Harry Potter, #6)</td><td>1</td><td>32989</td><td>4.54</td><td>1</td><td>4364</td></tr>",
                            "<tr><td>Harry Potter and the Half-Blood Prince (Harry Potter, #6)</td><td>1</td><td>27199</td><td>4.54</td><td>1</td><td>3857</td></tr>",
                            "<tr><td>Harry Potter and the Half-Blood Prince (Harry Potter, #6)</td><td>1</td><td>11590</td><td>4.54</td><td>1</td><td>3456</td></tr>",
                            "<tr><td>Harry Potter and the Half-Blood Prince (Harry Potter, #6)</td><td>1</td><td>18886</td><td>4.54</td><td>1</td><td>3374</td></tr>",
                            "<tr><td>Harry Potter and the Half-Blood Prince (Harry Potter, #6)</td><td>1</td><td>6953</td><td>4.54</td><td>1</td><td>2408</td></tr>",
                            "<tr><td>Harry Potter and the Half-Blood Prince (Harry Potter, #6)</td><td>1</td><td>22753</td><td>4.54</td><td>1</td><td>1881</td></tr>",
                            "<tr><td>Harry Potter and the Half-Blood Prince (Harry Potter, #6)</td><td>1</td><td>24960</td><td>4.54</td><td>1</td><td>1821</td></tr>",
                            "<tr><td>Harry Potter and the Half-Blood Prince (Harry Potter, #6)</td><td>1</td><td>1691</td><td>4.54</td><td>1</td><td>1742</td></tr>",
                            "<tr><td>Harry Potter and the Half-Blood Prince (Harry Potter, #6)</td><td>1</td><td>6857</td><td>4.54</td><td>1</td><td>1560</td></tr>",
                            "<tr><td>Harry Potter and the Half-Blood Prince (Harry Potter, #6)</td><td>1</td><td>15965</td><td>4.54</td><td>1</td><td>1309</td></tr>",
                            "<tr><td>Harry Potter and the Half-Blood Prince (Harry Potter, #6)</td><td>1</td><td>6888</td><td>4.54</td><td>1</td><td>1095</td></tr>",
                            "<tr><td>Harry Potter and the Half-Blood Prince (Harry Potter, #6)</td><td>1</td><td>26785</td><td>4.54</td><td>1</td><td>1093</td></tr>",
                            "<tr><td>Harry Potter and the Half-Blood Prince (Harry Potter, #6)</td><td>1</td><td>6828</td><td>4.54</td><td>1</td><td>1027</td></tr>",
                            "<tr><td>Harry Potter and the Half-Blood Prince (Harry Potter, #6)</td><td>1</td><td>2104</td><td>4.54</td><td>1</td><td>1022</td></tr>",
                            "<tr><td>Harry Potter and the Half-Blood Prince (Harry Potter, #6)</td><td>1</td><td>9221</td><td>4.54</td><td>1</td><td>987</td></tr>",
                            "<tr><td>Harry Potter and the Half-Blood Prince (Harry Potter, #6)</td><td>1</td><td>20774</td><td>4.54</td><td>1</td><td>984</td></tr>",
                            "<tr><td>Harry Potter and the Half-Blood Prince (Harry Potter, #6)</td><td>1</td><td>7457</td><td>4.54</td><td>1</td><td>958</td></tr>",
                            "<tr><td>Harry Potter and the Half-Blood Prince (Harry Potter, #6)</td><td>1</td><td>25765</td><td>4.54</td><td>1</td><td>858</td></tr>",
                            "<tr><td>Harry Potter and the Half-Blood Prince (Harry Potter, #6)</td><td>1</td><td>15169</td><td>4.54</td><td>1</td><td>853</td></tr>",
                            "<tr><td>Harry Potter and the Half-Blood Prince (Harry Potter, #6)</td><td>1</td><td>3389</td><td>4.54</td><td>1</td><td>836</td></tr>",
                            "<tr><td>Harry Potter and the Half-Blood Prince (Harry Potter, #6)</td><td>1</td><td>1128</td><td>4.54</td><td>1</td><td>828</td></tr>",
                            "<tr><td>Harry Potter and the Half-Blood Prince (Harry Potter, #6)</td><td>1</td><td>6895</td><td>4.54</td><td>1</td><td>798</td></tr>",
                            "<tr><td>Harry Potter and the Half-Blood Prince (Harry Potter, #6)</td><td>1</td><td>11505</td><td>4.54</td><td>1</td><td>792</td></tr>",
                            "<tr><td>Harry Potter and the Half-Blood Prince (Harry Potter, #6)</td><td>1</td><td>17124</td><td>4.54</td><td>1</td><td>748</td></tr>",
                            "<tr><td>Harry Potter and the Half-Blood Prince (Harry Potter, #6)</td><td>1</td><td>22034</td><td>4.54</td><td>1</td><td>744</td></tr>",
                            "<tr><td>Harry Potter and the Half-Blood Prince (Harry Potter, #6)</td><td>1</td><td>11370</td><td>4.54</td><td>1</td><td>738</td></tr>",
                            "<tr><td>Harry Potter and the Half-Blood Prince (Harry Potter, #6)</td><td>1</td><td>11497</td><td>4.54</td><td>1</td><td>730</td></tr>",
                            "<tr><td>Harry Potter and the Half-Blood Prince (Harry Potter, #6)</td><td>1</td><td>19974</td><td>4.54</td><td>1</td><td>718</td></tr>",
                            "<tr><td>Harry Potter and the Half-Blood Prince (Harry Potter, #6)</td><td>1</td><td>3392</td><td>4.54</td><td>1</td><td>701</td></tr>",
                            "<tr><td>Harry Potter and the Half-Blood Prince (Harry Potter, #6)</td><td>1</td><td>22973</td><td>4.54</td><td>1</td><td>673</td></tr>",
                            "<tr><td>Harry Potter and the Half-Blood Prince (Harry Potter, #6)</td><td>1</td><td>25234</td><td>4.54</td><td>1</td><td>659</td></tr>",
                            "<tr><td>Harry Potter and the Half-Blood Prince (Harry Potter, #6)</td><td>1</td><td>20849</td><td>4.54</td><td>1</td><td>653</td></tr>",
                            "<tr><td>Harry Potter and the Half-Blood Prince (Harry Potter, #6)</td><td>1</td><td>33009</td><td>4.54</td><td>1</td><td>612</td></tr>",
                            "<tr><td>Harry Potter and the Half-Blood Prince (Harry Potter, #6)</td><td>1</td><td>29452</td><td>4.54</td><td>1</td><td>600</td></tr>",
                            "<tr><td>Harry Potter and the Half-Blood Prince (Harry Potter, #6)</td><td>1</td><td>32623</td><td>4.54</td><td>1</td><td>552</td></tr>",
                            "<tr><td>Harry Potter and the Half-Blood Prince (Harry Potter, #6)</td><td>1</td><td>10644</td><td>4.54</td><td>1</td><td>552</td></tr>",
                            "<tr><td>Harry Potter and the Half-Blood Prince (Harry Potter, #6)</td><td>1</td><td>31617</td><td>4.54</td><td>1</td><td>547</td></tr>",
                            "<tr><td>Harry Potter and the Half-Blood Prince (Harry Potter, #6)</td><td>1</td><td>5751</td><td>4.54</td><td>1</td><td>534</td></tr>",
                            "<tr><td>Harry Potter and the Half-Blood Prince (Harry Potter, #6)</td><td>1</td><td>16427</td><td>4.54</td><td>1</td><td>532</td></tr>",
                            "<tr><td>Harry Potter and the Half-Blood Prince (Harry Potter, #6)</td><td>1</td><td>5090</td><td>4.54</td><td>1</td><td>522</td></tr>",
                            "<tr><td>Harry Potter and the Half-Blood Prince (Harry Potter, #6)</td><td>1</td><td>25152</td><td>4.54</td><td>1</td><td>505</td></tr>",
                            "</table>"
                        ]
                    }
                }
            ],
            "execution_count": 33
        },
        {
            "cell_type": "code",
            "source": [
                "SELECT b.title,bt.tag_id,t.tag_name,sum(bt.count) as total_tag_used\n",
                "FROM BooksDB.dbo.books AS b\n",
                "JOIN BooksDB.dbo.book_tags AS bt\n",
                "ON b.best_book_id = bt.goodreads_book_id\n",
                "inner join BooksDB.dbo.tags as t\n",
                "ON bt.tag_id=t.tag_id\n",
                "where b.book_id='1'\n",
                "group by bt.tag_id,b.title,t.tag_name\n",
                "order by total_tag_used DESC\n",
                ""
            ],
            "metadata": {
                "azdata_cell_guid": "e77dd761-ea98-438d-ab7a-96e6730f5227",
                "language": "sql",
                "tags": []
            },
            "outputs": [
                {
                    "output_type": "display_data",
                    "data": {
                        "text/html": "(100 rows affected)"
                    },
                    "metadata": {}
                },
                {
                    "output_type": "display_data",
                    "data": {
                        "text/html": "Total execution time: 00:00:00.172"
                    },
                    "metadata": {}
                },
                {
                    "output_type": "execute_result",
                    "metadata": {},
                    "execution_count": 49,
                    "data": {
                        "application/vnd.dataresource+json": {
                            "schema": {
                                "fields": [
                                    {
                                        "name": "title"
                                    },
                                    {
                                        "name": "tag_id"
                                    },
                                    {
                                        "name": "tag_name"
                                    },
                                    {
                                        "name": "total_tag_used"
                                    }
                                ]
                            },
                            "data": [
                                {
                                    "0": "Harry Potter and the Half-Blood Prince (Harry Potter, #6)",
                                    "1": "30574",
                                    "2": "to-read",
                                    "3": "167697"
                                },
                                {
                                    "0": "Harry Potter and the Half-Blood Prince (Harry Potter, #6)",
                                    "1": "11305",
                                    "2": "fantasy",
                                    "3": "37174"
                                },
                                {
                                    "0": "Harry Potter and the Half-Blood Prince (Harry Potter, #6)",
                                    "1": "11557",
                                    "2": "favorites",
                                    "3": "34173"
                                },
                                {
                                    "0": "Harry Potter and the Half-Blood Prince (Harry Potter, #6)",
                                    "1": "8717",
                                    "2": "currently-reading",
                                    "3": "12986"
                                },
                                {
                                    "0": "Harry Potter and the Half-Blood Prince (Harry Potter, #6)",
                                    "1": "33114",
                                    "2": "young-adult",
                                    "3": "12716"
                                },
                                {
                                    "0": "Harry Potter and the Half-Blood Prince (Harry Potter, #6)",
                                    "1": "11743",
                                    "2": "fiction",
                                    "3": "9954"
                                },
                                {
                                    "0": "Harry Potter and the Half-Blood Prince (Harry Potter, #6)",
                                    "1": "14017",
                                    "2": "harry-potter",
                                    "3": "7169"
                                },
                                {
                                    "0": "Harry Potter and the Half-Blood Prince (Harry Potter, #6)",
                                    "1": "5207",
                                    "2": "books-i-own",
                                    "3": "6221"
                                },
                                {
                                    "0": "Harry Potter and the Half-Blood Prince (Harry Potter, #6)",
                                    "1": "22743",
                                    "2": "owned",
                                    "3": "4974"
                                },
                                {
                                    "0": "Harry Potter and the Half-Blood Prince (Harry Potter, #6)",
                                    "1": "32989",
                                    "2": "ya",
                                    "3": "4364"
                                },
                                {
                                    "0": "Harry Potter and the Half-Blood Prince (Harry Potter, #6)",
                                    "1": "27199",
                                    "2": "series",
                                    "3": "3857"
                                },
                                {
                                    "0": "Harry Potter and the Half-Blood Prince (Harry Potter, #6)",
                                    "1": "11590",
                                    "2": "favourites",
                                    "3": "3456"
                                },
                                {
                                    "0": "Harry Potter and the Half-Blood Prince (Harry Potter, #6)",
                                    "1": "18886",
                                    "2": "magic",
                                    "3": "3374"
                                },
                                {
                                    "0": "Harry Potter and the Half-Blood Prince (Harry Potter, #6)",
                                    "1": "6953",
                                    "2": "childrens",
                                    "3": "2408"
                                },
                                {
                                    "0": "Harry Potter and the Half-Blood Prince (Harry Potter, #6)",
                                    "1": "22753",
                                    "2": "owned-books",
                                    "3": "1881"
                                },
                                {
                                    "0": "Harry Potter and the Half-Blood Prince (Harry Potter, #6)",
                                    "1": "24960",
                                    "2": "re-read",
                                    "3": "1821"
                                },
                                {
                                    "0": "Harry Potter and the Half-Blood Prince (Harry Potter, #6)",
                                    "1": "1691",
                                    "2": "adventure",
                                    "3": "1742"
                                },
                                {
                                    "0": "Harry Potter and the Half-Blood Prince (Harry Potter, #6)",
                                    "1": "6857",
                                    "2": "children",
                                    "3": "1560"
                                },
                                {
                                    "0": "Harry Potter and the Half-Blood Prince (Harry Potter, #6)",
                                    "1": "15965",
                                    "2": "j-k-rowling",
                                    "3": "1309"
                                },
                                {
                                    "0": "Harry Potter and the Half-Blood Prince (Harry Potter, #6)",
                                    "1": "6888",
                                    "2": "children-s",
                                    "3": "1095"
                                },
                                {
                                    "0": "Harry Potter and the Half-Blood Prince (Harry Potter, #6)",
                                    "1": "26785",
                                    "2": "sci-fi-fantasy",
                                    "3": "1093"
                                },
                                {
                                    "0": "Harry Potter and the Half-Blood Prince (Harry Potter, #6)",
                                    "1": "6828",
                                    "2": "childhood",
                                    "3": "1027"
                                },
                                {
                                    "0": "Harry Potter and the Half-Blood Prince (Harry Potter, #6)",
                                    "1": "2104",
                                    "2": "all-time-favorites",
                                    "3": "1022"
                                },
                                {
                                    "0": "Harry Potter and the Half-Blood Prince (Harry Potter, #6)",
                                    "1": "9221",
                                    "2": "default",
                                    "3": "987"
                                },
                                {
                                    "0": "Harry Potter and the Half-Blood Prince (Harry Potter, #6)",
                                    "1": "20774",
                                    "2": "my-books",
                                    "3": "984"
                                },
                                {
                                    "0": "Harry Potter and the Half-Blood Prince (Harry Potter, #6)",
                                    "1": "7457",
                                    "2": "classics",
                                    "3": "958"
                                },
                                {
                                    "0": "Harry Potter and the Half-Blood Prince (Harry Potter, #6)",
                                    "1": "25765",
                                    "2": "reread",
                                    "3": "858"
                                },
                                {
                                    "0": "Harry Potter and the Half-Blood Prince (Harry Potter, #6)",
                                    "1": "15169",
                                    "2": "i-own",
                                    "3": "853"
                                },
                                {
                                    "0": "Harry Potter and the Half-Blood Prince (Harry Potter, #6)",
                                    "1": "3389",
                                    "2": "audiobook",
                                    "3": "836"
                                },
                                {
                                    "0": "Harry Potter and the Half-Blood Prince (Harry Potter, #6)",
                                    "1": "1128",
                                    "2": "5-stars",
                                    "3": "828"
                                },
                                {
                                    "0": "Harry Potter and the Half-Blood Prince (Harry Potter, #6)",
                                    "1": "6895",
                                    "2": "children-s-books",
                                    "3": "798"
                                },
                                {
                                    "0": "Harry Potter and the Half-Blood Prince (Harry Potter, #6)",
                                    "1": "11505",
                                    "2": "favorite-books",
                                    "3": "792"
                                },
                                {
                                    "0": "Harry Potter and the Half-Blood Prince (Harry Potter, #6)",
                                    "1": "17124",
                                    "2": "kids",
                                    "3": "748"
                                },
                                {
                                    "0": "Harry Potter and the Half-Blood Prince (Harry Potter, #6)",
                                    "1": "22034",
                                    "2": "novels",
                                    "3": "744"
                                },
                                {
                                    "0": "Harry Potter and the Half-Blood Prince (Harry Potter, #6)",
                                    "1": "11370",
                                    "2": "fantasy-sci-fi",
                                    "3": "738"
                                },
                                {
                                    "0": "Harry Potter and the Half-Blood Prince (Harry Potter, #6)",
                                    "1": "11497",
                                    "2": "favorite",
                                    "3": "730"
                                },
                                {
                                    "0": "Harry Potter and the Half-Blood Prince (Harry Potter, #6)",
                                    "1": "19974",
                                    "2": "middle-grade",
                                    "3": "718"
                                },
                                {
                                    "0": "Harry Potter and the Half-Blood Prince (Harry Potter, #6)",
                                    "1": "3392",
                                    "2": "audiobooks",
                                    "3": "701"
                                },
                                {
                                    "0": "Harry Potter and the Half-Blood Prince (Harry Potter, #6)",
                                    "1": "22973",
                                    "2": "paranormal",
                                    "3": "673"
                                },
                                {
                                    "0": "Harry Potter and the Half-Blood Prince (Harry Potter, #6)",
                                    "1": "25234",
                                    "2": "read-more-than-once",
                                    "3": "659"
                                },
                                {
                                    "0": "Harry Potter and the Half-Blood Prince (Harry Potter, #6)",
                                    "1": "20849",
                                    "2": "my-library",
                                    "3": "653"
                                },
                                {
                                    "0": "Harry Potter and the Half-Blood Prince (Harry Potter, #6)",
                                    "1": "33009",
                                    "2": "ya-fantasy",
                                    "3": "612"
                                },
                                {
                                    "0": "Harry Potter and the Half-Blood Prince (Harry Potter, #6)",
                                    "1": "29452",
                                    "2": "teen",
                                    "3": "600"
                                },
                                {
                                    "0": "Harry Potter and the Half-Blood Prince (Harry Potter, #6)",
                                    "1": "10644",
                                    "2": "english",
                                    "3": "552"
                                },
                                {
                                    "0": "Harry Potter and the Half-Blood Prince (Harry Potter, #6)",
                                    "1": "32623",
                                    "2": "witches",
                                    "3": "552"
                                },
                                {
                                    "0": "Harry Potter and the Half-Blood Prince (Harry Potter, #6)",
                                    "1": "31617",
                                    "2": "urban-fantasy",
                                    "3": "547"
                                },
                                {
                                    "0": "Harry Potter and the Half-Blood Prince (Harry Potter, #6)",
                                    "1": "5751",
                                    "2": "british",
                                    "3": "534"
                                },
                                {
                                    "0": "Harry Potter and the Half-Blood Prince (Harry Potter, #6)",
                                    "1": "16427",
                                    "2": "jk-rowling",
                                    "3": "532"
                                },
                                {
                                    "0": "Harry Potter and the Half-Blood Prince (Harry Potter, #6)",
                                    "1": "5090",
                                    "2": "books",
                                    "3": "522"
                                },
                                {
                                    "0": "Harry Potter and the Half-Blood Prince (Harry Potter, #6)",
                                    "1": "25152",
                                    "2": "read-in-2016",
                                    "3": "505"
                                },
                                {
                                    "0": "Harry Potter and the Half-Blood Prince (Harry Potter, #6)",
                                    "1": "29011",
                                    "2": "supernatural",
                                    "3": "484"
                                },
                                {
                                    "0": "Harry Potter and the Half-Blood Prince (Harry Potter, #6)",
                                    "1": "24964",
                                    "2": "re-reads",
                                    "3": "474"
                                },
                                {
                                    "0": "Harry Potter and the Half-Blood Prince (Harry Potter, #6)",
                                    "1": "20939",
                                    "2": "mystery",
                                    "3": "465"
                                },
                                {
                                    "0": "Harry Potter and the Half-Blood Prince (Harry Potter, #6)",
                                    "1": "33012",
                                    "2": "ya-fiction",
                                    "3": "464"
                                },
                                {
                                    "0": "Harry Potter and the Half-Blood Prince (Harry Potter, #6)",
                                    "1": "14024",
                                    "2": "harry-potter-series",
                                    "3": "450"
                                },
                                {
                                    "0": "Harry Potter and the Half-Blood Prince (Harry Potter, #6)",
                                    "1": "20824",
                                    "2": "my-favorites",
                                    "3": "449"
                                },
                                {
                                    "0": "Harry Potter and the Half-Blood Prince (Harry Potter, #6)",
                                    "1": "22689",
                                    "2": "own-it",
                                    "3": "446"
                                },
                                {
                                    "0": "Harry Potter and the Half-Blood Prince (Harry Potter, #6)",
                                    "1": "6960",
                                    "2": "childrens-books",
                                    "3": "445"
                                },
                                {
                                    "0": "Harry Potter and the Half-Blood Prince (Harry Potter, #6)",
                                    "1": "18045",
                                    "2": "library",
                                    "3": "440"
                                },
                                {
                                    "0": "Harry Potter and the Half-Blood Prince (Harry Potter, #6)",
                                    "1": "3371",
                                    "2": "audio",
                                    "3": "433"
                                },
                                {
                                    "0": "Harry Potter and the Half-Blood Prince (Harry Potter, #6)",
                                    "1": "33124",
                                    "2": "young-adult-fiction",
                                    "3": "416"
                                },
                                {
                                    "0": "Harry Potter and the Half-Blood Prince (Harry Potter, #6)",
                                    "1": "21989",
                                    "2": "novel",
                                    "3": "410"
                                },
                                {
                                    "0": "Harry Potter and the Half-Blood Prince (Harry Potter, #6)",
                                    "1": "615",
                                    "2": "2005",
                                    "3": "399"
                                },
                                {
                                    "0": "Harry Potter and the Half-Blood Prince (Harry Potter, #6)",
                                    "1": "26897",
                                    "2": "scifi-fantasy",
                                    "3": "392"
                                },
                                {
                                    "0": "Harry Potter and the Half-Blood Prince (Harry Potter, #6)",
                                    "1": "32654",
                                    "2": "wizards",
                                    "3": "386"
                                },
                                {
                                    "0": "Harry Potter and the Half-Blood Prince (Harry Potter, #6)",
                                    "1": "11491",
                                    "2": "faves",
                                    "3": "384"
                                },
                                {
                                    "0": "Harry Potter and the Half-Blood Prince (Harry Potter, #6)",
                                    "1": "11550",
                                    "2": "favorite-series",
                                    "3": "368"
                                },
                                {
                                    "0": "Harry Potter and the Half-Blood Prince (Harry Potter, #6)",
                                    "1": "25151",
                                    "2": "read-in-2015",
                                    "3": "364"
                                },
                                {
                                    "0": "Harry Potter and the Half-Blood Prince (Harry Potter, #6)",
                                    "1": "18851",
                                    "2": "made-me-cry",
                                    "3": "354"
                                },
                                {
                                    "0": "Harry Potter and the Half-Blood Prince (Harry Potter, #6)",
                                    "1": "16799",
                                    "2": "juvenile",
                                    "3": "351"
                                },
                                {
                                    "0": "Harry Potter and the Half-Blood Prince (Harry Potter, #6)",
                                    "1": "27535",
                                    "2": "shelfari-favorites",
                                    "3": "348"
                                },
                                {
                                    "0": "Harry Potter and the Half-Blood Prince (Harry Potter, #6)",
                                    "1": "17213",
                                    "2": "kindle",
                                    "3": "347"
                                },
                                {
                                    "0": "Harry Potter and the Half-Blood Prince (Harry Potter, #6)",
                                    "1": "33165",
                                    "2": "youth",
                                    "3": "338"
                                },
                                {
                                    "0": "Harry Potter and the Half-Blood Prince (Harry Potter, #6)",
                                    "1": "26138",
                                    "2": "romance",
                                    "3": "334"
                                },
                                {
                                    "0": "Harry Potter and the Half-Blood Prince (Harry Potter, #6)",
                                    "1": "11574",
                                    "2": "favourite",
                                    "3": "324"
                                },
                                {
                                    "0": "Harry Potter and the Half-Blood Prince (Harry Potter, #6)",
                                    "1": "30521",
                                    "2": "to-buy",
                                    "3": "324"
                                },
                                {
                                    "0": "Harry Potter and the Half-Blood Prince (Harry Potter, #6)",
                                    "1": "25150",
                                    "2": "read-in-2014",
                                    "3": "314"
                                },
                                {
                                    "0": "Harry Potter and the Half-Blood Prince (Harry Potter, #6)",
                                    "1": "30573",
                                    "2": "to-re-read",
                                    "3": "312"
                                },
                                {
                                    "0": "Harry Potter and the Half-Blood Prince (Harry Potter, #6)",
                                    "1": "2106",
                                    "2": "all-time-favourites",
                                    "3": "305"
                                },
                                {
                                    "0": "Harry Potter and the Half-Blood Prince (Harry Potter, #6)",
                                    "1": "6838",
                                    "2": "childhood-favorites",
                                    "3": "300"
                                },
                                {
                                    "0": "Harry Potter and the Half-Blood Prince (Harry Potter, #6)",
                                    "1": "17129",
                                    "2": "kids-books",
                                    "3": "297"
                                },
                                {
                                    "0": "Harry Potter and the Half-Blood Prince (Harry Potter, #6)",
                                    "1": "25770",
                                    "2": "rereads",
                                    "3": "294"
                                },
                                {
                                    "0": "Harry Potter and the Half-Blood Prince (Harry Potter, #6)",
                                    "1": "10197",
                                    "2": "ebook",
                                    "3": "294"
                                },
                                {
                                    "0": "Harry Potter and the Half-Blood Prince (Harry Potter, #6)",
                                    "1": "8055",
                                    "2": "contemporary",
                                    "3": "289"
                                },
                                {
                                    "0": "Harry Potter and the Half-Blood Prince (Harry Potter, #6)",
                                    "1": "25167",
                                    "2": "read-in-english",
                                    "3": "284"
                                },
                                {
                                    "0": "Harry Potter and the Half-Blood Prince (Harry Potter, #6)",
                                    "1": "1120",
                                    "2": "5-star",
                                    "3": "283"
                                },
                                {
                                    "0": "Harry Potter and the Half-Blood Prince (Harry Potter, #6)",
                                    "1": "26842",
                                    "2": "science-fiction-fantasy",
                                    "3": "281"
                                },
                                {
                                    "0": "Harry Potter and the Half-Blood Prince (Harry Potter, #6)",
                                    "1": "7852",
                                    "2": "coming-of-age",
                                    "3": "281"
                                },
                                {
                                    "0": "Harry Potter and the Half-Blood Prince (Harry Potter, #6)",
                                    "1": "25153",
                                    "2": "read-in-2017",
                                    "3": "279"
                                },
                                {
                                    "0": "Harry Potter and the Half-Blood Prince (Harry Potter, #6)",
                                    "1": "10641",
                                    "2": "england",
                                    "3": "279"
                                },
                                {
                                    "0": "Harry Potter and the Half-Blood Prince (Harry Potter, #6)",
                                    "1": "6920",
                                    "2": "children-s-literature",
                                    "3": "276"
                                },
                                {
                                    "0": "Harry Potter and the Half-Blood Prince (Harry Potter, #6)",
                                    "1": "11579",
                                    "2": "favourite-books",
                                    "3": "274"
                                },
                                {
                                    "0": "Harry Potter and the Half-Blood Prince (Harry Potter, #6)",
                                    "1": "22352",
                                    "2": "on-my-shelf",
                                    "3": "273"
                                },
                                {
                                    "0": "Harry Potter and the Half-Blood Prince (Harry Potter, #6)",
                                    "1": "20781",
                                    "2": "my-bookshelf",
                                    "3": "272"
                                },
                                {
                                    "0": "Harry Potter and the Half-Blood Prince (Harry Potter, #6)",
                                    "1": "6914",
                                    "2": "children-s-lit",
                                    "3": "268"
                                },
                                {
                                    "0": "Harry Potter and the Half-Blood Prince (Harry Potter, #6)",
                                    "1": "5444",
                                    "2": "bookshelf",
                                    "3": "266"
                                },
                                {
                                    "0": "Harry Potter and the Half-Blood Prince (Harry Potter, #6)",
                                    "1": "18913",
                                    "2": "magical",
                                    "3": "265"
                                },
                                {
                                    "0": "Harry Potter and the Half-Blood Prince (Harry Potter, #6)",
                                    "1": "11595",
                                    "2": "favs",
                                    "3": "264"
                                },
                                {
                                    "0": "Harry Potter and the Half-Blood Prince (Harry Potter, #6)",
                                    "1": "6829",
                                    "2": "childhood-books",
                                    "3": "263"
                                },
                                {
                                    "0": "Harry Potter and the Half-Blood Prince (Harry Potter, #6)",
                                    "1": "24092",
                                    "2": "potter",
                                    "3": "258"
                                }
                            ]
                        },
                        "text/html": [
                            "<table>",
                            "<tr><th>title</th><th>tag_id</th><th>tag_name</th><th>total_tag_used</th></tr>",
                            "<tr><td>Harry Potter and the Half-Blood Prince (Harry Potter, #6)</td><td>30574</td><td>to-read</td><td>167697</td></tr>",
                            "<tr><td>Harry Potter and the Half-Blood Prince (Harry Potter, #6)</td><td>11305</td><td>fantasy</td><td>37174</td></tr>",
                            "<tr><td>Harry Potter and the Half-Blood Prince (Harry Potter, #6)</td><td>11557</td><td>favorites</td><td>34173</td></tr>",
                            "<tr><td>Harry Potter and the Half-Blood Prince (Harry Potter, #6)</td><td>8717</td><td>currently-reading</td><td>12986</td></tr>",
                            "<tr><td>Harry Potter and the Half-Blood Prince (Harry Potter, #6)</td><td>33114</td><td>young-adult</td><td>12716</td></tr>",
                            "<tr><td>Harry Potter and the Half-Blood Prince (Harry Potter, #6)</td><td>11743</td><td>fiction</td><td>9954</td></tr>",
                            "<tr><td>Harry Potter and the Half-Blood Prince (Harry Potter, #6)</td><td>14017</td><td>harry-potter</td><td>7169</td></tr>",
                            "<tr><td>Harry Potter and the Half-Blood Prince (Harry Potter, #6)</td><td>5207</td><td>books-i-own</td><td>6221</td></tr>",
                            "<tr><td>Harry Potter and the Half-Blood Prince (Harry Potter, #6)</td><td>22743</td><td>owned</td><td>4974</td></tr>",
                            "<tr><td>Harry Potter and the Half-Blood Prince (Harry Potter, #6)</td><td>32989</td><td>ya</td><td>4364</td></tr>",
                            "<tr><td>Harry Potter and the Half-Blood Prince (Harry Potter, #6)</td><td>27199</td><td>series</td><td>3857</td></tr>",
                            "<tr><td>Harry Potter and the Half-Blood Prince (Harry Potter, #6)</td><td>11590</td><td>favourites</td><td>3456</td></tr>",
                            "<tr><td>Harry Potter and the Half-Blood Prince (Harry Potter, #6)</td><td>18886</td><td>magic</td><td>3374</td></tr>",
                            "<tr><td>Harry Potter and the Half-Blood Prince (Harry Potter, #6)</td><td>6953</td><td>childrens</td><td>2408</td></tr>",
                            "<tr><td>Harry Potter and the Half-Blood Prince (Harry Potter, #6)</td><td>22753</td><td>owned-books</td><td>1881</td></tr>",
                            "<tr><td>Harry Potter and the Half-Blood Prince (Harry Potter, #6)</td><td>24960</td><td>re-read</td><td>1821</td></tr>",
                            "<tr><td>Harry Potter and the Half-Blood Prince (Harry Potter, #6)</td><td>1691</td><td>adventure</td><td>1742</td></tr>",
                            "<tr><td>Harry Potter and the Half-Blood Prince (Harry Potter, #6)</td><td>6857</td><td>children</td><td>1560</td></tr>",
                            "<tr><td>Harry Potter and the Half-Blood Prince (Harry Potter, #6)</td><td>15965</td><td>j-k-rowling</td><td>1309</td></tr>",
                            "<tr><td>Harry Potter and the Half-Blood Prince (Harry Potter, #6)</td><td>6888</td><td>children-s</td><td>1095</td></tr>",
                            "<tr><td>Harry Potter and the Half-Blood Prince (Harry Potter, #6)</td><td>26785</td><td>sci-fi-fantasy</td><td>1093</td></tr>",
                            "<tr><td>Harry Potter and the Half-Blood Prince (Harry Potter, #6)</td><td>6828</td><td>childhood</td><td>1027</td></tr>",
                            "<tr><td>Harry Potter and the Half-Blood Prince (Harry Potter, #6)</td><td>2104</td><td>all-time-favorites</td><td>1022</td></tr>",
                            "<tr><td>Harry Potter and the Half-Blood Prince (Harry Potter, #6)</td><td>9221</td><td>default</td><td>987</td></tr>",
                            "<tr><td>Harry Potter and the Half-Blood Prince (Harry Potter, #6)</td><td>20774</td><td>my-books</td><td>984</td></tr>",
                            "<tr><td>Harry Potter and the Half-Blood Prince (Harry Potter, #6)</td><td>7457</td><td>classics</td><td>958</td></tr>",
                            "<tr><td>Harry Potter and the Half-Blood Prince (Harry Potter, #6)</td><td>25765</td><td>reread</td><td>858</td></tr>",
                            "<tr><td>Harry Potter and the Half-Blood Prince (Harry Potter, #6)</td><td>15169</td><td>i-own</td><td>853</td></tr>",
                            "<tr><td>Harry Potter and the Half-Blood Prince (Harry Potter, #6)</td><td>3389</td><td>audiobook</td><td>836</td></tr>",
                            "<tr><td>Harry Potter and the Half-Blood Prince (Harry Potter, #6)</td><td>1128</td><td>5-stars</td><td>828</td></tr>",
                            "<tr><td>Harry Potter and the Half-Blood Prince (Harry Potter, #6)</td><td>6895</td><td>children-s-books</td><td>798</td></tr>",
                            "<tr><td>Harry Potter and the Half-Blood Prince (Harry Potter, #6)</td><td>11505</td><td>favorite-books</td><td>792</td></tr>",
                            "<tr><td>Harry Potter and the Half-Blood Prince (Harry Potter, #6)</td><td>17124</td><td>kids</td><td>748</td></tr>",
                            "<tr><td>Harry Potter and the Half-Blood Prince (Harry Potter, #6)</td><td>22034</td><td>novels</td><td>744</td></tr>",
                            "<tr><td>Harry Potter and the Half-Blood Prince (Harry Potter, #6)</td><td>11370</td><td>fantasy-sci-fi</td><td>738</td></tr>",
                            "<tr><td>Harry Potter and the Half-Blood Prince (Harry Potter, #6)</td><td>11497</td><td>favorite</td><td>730</td></tr>",
                            "<tr><td>Harry Potter and the Half-Blood Prince (Harry Potter, #6)</td><td>19974</td><td>middle-grade</td><td>718</td></tr>",
                            "<tr><td>Harry Potter and the Half-Blood Prince (Harry Potter, #6)</td><td>3392</td><td>audiobooks</td><td>701</td></tr>",
                            "<tr><td>Harry Potter and the Half-Blood Prince (Harry Potter, #6)</td><td>22973</td><td>paranormal</td><td>673</td></tr>",
                            "<tr><td>Harry Potter and the Half-Blood Prince (Harry Potter, #6)</td><td>25234</td><td>read-more-than-once</td><td>659</td></tr>",
                            "<tr><td>Harry Potter and the Half-Blood Prince (Harry Potter, #6)</td><td>20849</td><td>my-library</td><td>653</td></tr>",
                            "<tr><td>Harry Potter and the Half-Blood Prince (Harry Potter, #6)</td><td>33009</td><td>ya-fantasy</td><td>612</td></tr>",
                            "<tr><td>Harry Potter and the Half-Blood Prince (Harry Potter, #6)</td><td>29452</td><td>teen</td><td>600</td></tr>",
                            "<tr><td>Harry Potter and the Half-Blood Prince (Harry Potter, #6)</td><td>10644</td><td>english</td><td>552</td></tr>",
                            "<tr><td>Harry Potter and the Half-Blood Prince (Harry Potter, #6)</td><td>32623</td><td>witches</td><td>552</td></tr>",
                            "<tr><td>Harry Potter and the Half-Blood Prince (Harry Potter, #6)</td><td>31617</td><td>urban-fantasy</td><td>547</td></tr>",
                            "<tr><td>Harry Potter and the Half-Blood Prince (Harry Potter, #6)</td><td>5751</td><td>british</td><td>534</td></tr>",
                            "<tr><td>Harry Potter and the Half-Blood Prince (Harry Potter, #6)</td><td>16427</td><td>jk-rowling</td><td>532</td></tr>",
                            "<tr><td>Harry Potter and the Half-Blood Prince (Harry Potter, #6)</td><td>5090</td><td>books</td><td>522</td></tr>",
                            "<tr><td>Harry Potter and the Half-Blood Prince (Harry Potter, #6)</td><td>25152</td><td>read-in-2016</td><td>505</td></tr>",
                            "<tr><td>Harry Potter and the Half-Blood Prince (Harry Potter, #6)</td><td>29011</td><td>supernatural</td><td>484</td></tr>",
                            "<tr><td>Harry Potter and the Half-Blood Prince (Harry Potter, #6)</td><td>24964</td><td>re-reads</td><td>474</td></tr>",
                            "<tr><td>Harry Potter and the Half-Blood Prince (Harry Potter, #6)</td><td>20939</td><td>mystery</td><td>465</td></tr>",
                            "<tr><td>Harry Potter and the Half-Blood Prince (Harry Potter, #6)</td><td>33012</td><td>ya-fiction</td><td>464</td></tr>",
                            "<tr><td>Harry Potter and the Half-Blood Prince (Harry Potter, #6)</td><td>14024</td><td>harry-potter-series</td><td>450</td></tr>",
                            "<tr><td>Harry Potter and the Half-Blood Prince (Harry Potter, #6)</td><td>20824</td><td>my-favorites</td><td>449</td></tr>",
                            "<tr><td>Harry Potter and the Half-Blood Prince (Harry Potter, #6)</td><td>22689</td><td>own-it</td><td>446</td></tr>",
                            "<tr><td>Harry Potter and the Half-Blood Prince (Harry Potter, #6)</td><td>6960</td><td>childrens-books</td><td>445</td></tr>",
                            "<tr><td>Harry Potter and the Half-Blood Prince (Harry Potter, #6)</td><td>18045</td><td>library</td><td>440</td></tr>",
                            "<tr><td>Harry Potter and the Half-Blood Prince (Harry Potter, #6)</td><td>3371</td><td>audio</td><td>433</td></tr>",
                            "<tr><td>Harry Potter and the Half-Blood Prince (Harry Potter, #6)</td><td>33124</td><td>young-adult-fiction</td><td>416</td></tr>",
                            "<tr><td>Harry Potter and the Half-Blood Prince (Harry Potter, #6)</td><td>21989</td><td>novel</td><td>410</td></tr>",
                            "<tr><td>Harry Potter and the Half-Blood Prince (Harry Potter, #6)</td><td>615</td><td>2005</td><td>399</td></tr>",
                            "<tr><td>Harry Potter and the Half-Blood Prince (Harry Potter, #6)</td><td>26897</td><td>scifi-fantasy</td><td>392</td></tr>",
                            "<tr><td>Harry Potter and the Half-Blood Prince (Harry Potter, #6)</td><td>32654</td><td>wizards</td><td>386</td></tr>",
                            "<tr><td>Harry Potter and the Half-Blood Prince (Harry Potter, #6)</td><td>11491</td><td>faves</td><td>384</td></tr>",
                            "<tr><td>Harry Potter and the Half-Blood Prince (Harry Potter, #6)</td><td>11550</td><td>favorite-series</td><td>368</td></tr>",
                            "<tr><td>Harry Potter and the Half-Blood Prince (Harry Potter, #6)</td><td>25151</td><td>read-in-2015</td><td>364</td></tr>",
                            "<tr><td>Harry Potter and the Half-Blood Prince (Harry Potter, #6)</td><td>18851</td><td>made-me-cry</td><td>354</td></tr>",
                            "<tr><td>Harry Potter and the Half-Blood Prince (Harry Potter, #6)</td><td>16799</td><td>juvenile</td><td>351</td></tr>",
                            "<tr><td>Harry Potter and the Half-Blood Prince (Harry Potter, #6)</td><td>27535</td><td>shelfari-favorites</td><td>348</td></tr>",
                            "<tr><td>Harry Potter and the Half-Blood Prince (Harry Potter, #6)</td><td>17213</td><td>kindle</td><td>347</td></tr>",
                            "<tr><td>Harry Potter and the Half-Blood Prince (Harry Potter, #6)</td><td>33165</td><td>youth</td><td>338</td></tr>",
                            "<tr><td>Harry Potter and the Half-Blood Prince (Harry Potter, #6)</td><td>26138</td><td>romance</td><td>334</td></tr>",
                            "<tr><td>Harry Potter and the Half-Blood Prince (Harry Potter, #6)</td><td>11574</td><td>favourite</td><td>324</td></tr>",
                            "<tr><td>Harry Potter and the Half-Blood Prince (Harry Potter, #6)</td><td>30521</td><td>to-buy</td><td>324</td></tr>",
                            "<tr><td>Harry Potter and the Half-Blood Prince (Harry Potter, #6)</td><td>25150</td><td>read-in-2014</td><td>314</td></tr>",
                            "<tr><td>Harry Potter and the Half-Blood Prince (Harry Potter, #6)</td><td>30573</td><td>to-re-read</td><td>312</td></tr>",
                            "<tr><td>Harry Potter and the Half-Blood Prince (Harry Potter, #6)</td><td>2106</td><td>all-time-favourites</td><td>305</td></tr>",
                            "<tr><td>Harry Potter and the Half-Blood Prince (Harry Potter, #6)</td><td>6838</td><td>childhood-favorites</td><td>300</td></tr>",
                            "<tr><td>Harry Potter and the Half-Blood Prince (Harry Potter, #6)</td><td>17129</td><td>kids-books</td><td>297</td></tr>",
                            "<tr><td>Harry Potter and the Half-Blood Prince (Harry Potter, #6)</td><td>25770</td><td>rereads</td><td>294</td></tr>",
                            "<tr><td>Harry Potter and the Half-Blood Prince (Harry Potter, #6)</td><td>10197</td><td>ebook</td><td>294</td></tr>",
                            "<tr><td>Harry Potter and the Half-Blood Prince (Harry Potter, #6)</td><td>8055</td><td>contemporary</td><td>289</td></tr>",
                            "<tr><td>Harry Potter and the Half-Blood Prince (Harry Potter, #6)</td><td>25167</td><td>read-in-english</td><td>284</td></tr>",
                            "<tr><td>Harry Potter and the Half-Blood Prince (Harry Potter, #6)</td><td>1120</td><td>5-star</td><td>283</td></tr>",
                            "<tr><td>Harry Potter and the Half-Blood Prince (Harry Potter, #6)</td><td>26842</td><td>science-fiction-fantasy</td><td>281</td></tr>",
                            "<tr><td>Harry Potter and the Half-Blood Prince (Harry Potter, #6)</td><td>7852</td><td>coming-of-age</td><td>281</td></tr>",
                            "<tr><td>Harry Potter and the Half-Blood Prince (Harry Potter, #6)</td><td>25153</td><td>read-in-2017</td><td>279</td></tr>",
                            "<tr><td>Harry Potter and the Half-Blood Prince (Harry Potter, #6)</td><td>10641</td><td>england</td><td>279</td></tr>",
                            "<tr><td>Harry Potter and the Half-Blood Prince (Harry Potter, #6)</td><td>6920</td><td>children-s-literature</td><td>276</td></tr>",
                            "<tr><td>Harry Potter and the Half-Blood Prince (Harry Potter, #6)</td><td>11579</td><td>favourite-books</td><td>274</td></tr>",
                            "<tr><td>Harry Potter and the Half-Blood Prince (Harry Potter, #6)</td><td>22352</td><td>on-my-shelf</td><td>273</td></tr>",
                            "<tr><td>Harry Potter and the Half-Blood Prince (Harry Potter, #6)</td><td>20781</td><td>my-bookshelf</td><td>272</td></tr>",
                            "<tr><td>Harry Potter and the Half-Blood Prince (Harry Potter, #6)</td><td>6914</td><td>children-s-lit</td><td>268</td></tr>",
                            "<tr><td>Harry Potter and the Half-Blood Prince (Harry Potter, #6)</td><td>5444</td><td>bookshelf</td><td>266</td></tr>",
                            "<tr><td>Harry Potter and the Half-Blood Prince (Harry Potter, #6)</td><td>18913</td><td>magical</td><td>265</td></tr>",
                            "<tr><td>Harry Potter and the Half-Blood Prince (Harry Potter, #6)</td><td>11595</td><td>favs</td><td>264</td></tr>",
                            "<tr><td>Harry Potter and the Half-Blood Prince (Harry Potter, #6)</td><td>6829</td><td>childhood-books</td><td>263</td></tr>",
                            "<tr><td>Harry Potter and the Half-Blood Prince (Harry Potter, #6)</td><td>24092</td><td>potter</td><td>258</td></tr>",
                            "</table>"
                        ]
                    }
                }
            ],
            "execution_count": 49
        },
        {
            "cell_type": "markdown",
            "source": [
                "## **QUESTION 6:** Find a book based on a tag of your choice using joins.\n",
                "\n",
                "Some suggestions: any hobbies you like? baking, drawing, etc. how about favorite holidays, subjects, animals, etc?\n",
                "\n",
                "**Part A:** Explore the tags table for a tag of your choice.  Suggested ideas, try searching for one of your hobbies, a favorite time of year, favorite animal, etc.  Start by querying the tag table for your chosen tag.  (_Hint:_ in order to make sure you find all combinations of your tags, use the wildcard).  If your query returns more than one result, pick your favorite.\n",
                "\n",
                "> > _Here is an example.  Alyce wanted to search for halloween books.  She used the wildcard, '%halloween%' and 8 different combinations were found.  Alyce selected '**halloween-storytime**', with a tag id of 13877._\n",
                "\n",
                "> _Minimum Desired Output:_ <span style=\"font-family: -apple-system, BlinkMacSystemFont, sans-serif; background-color: rgba(127, 127, 127, 0.1);\">tag name and tag id</span>\n",
                "\n",
                "> \\*\\*Your Tag and Tag Id:3008 art-drawing\n",
                "> \n",
                "> * * *\n",
                "> \n",
                "> Part B:\\*\\*  <span style=\"background-color: rgb(255, 255, 254); font-family: -apple-system, BlinkMacSystemFont, sans-serif;\">&nbsp;Now that you have the </span> **tag id**<span style=\"background-color: rgb(255, 255, 254); font-family: -apple-system, BlinkMacSystemFont, sans-serif;\">, find the title that was tagged the most with this tag by joining the books and books_tags tables.</span>\n",
                "\n",
                "> > _Alyce joined the book table with the tags table and discovered that <u>The Little Old Lady Who Was Not Afraid of Anything</u> was tagged as '**halloween-storytime**' the most._\n",
                "\n",
                "> _Minimum Desired Output:_ <span style=\"background-color: rgba(127, 127, 127, 0.1); font-family: -apple-system, BlinkMacSystemFont, sans-serif;\">title and tag count</span>\n",
                "\n",
                "> **Your Title and Number of times the tag was used: The Natural Way to Draw , 4**"
            ],
            "metadata": {
                "azdata_cell_guid": "df783e7e-3aff-4e63-9edb-f2e729c7d1c8"
            },
            "attachments": {}
        },
        {
            "cell_type": "code",
            "source": [
                "-- Code Here:S\n",
                "SELECT b.title,bt.tag_id,t.tag_name,bt.count\n",
                "FROM BooksDB.dbo.books AS b\n",
                "JOIN BooksDB.dbo.book_tags AS bt\n",
                "ON b.best_book_id = bt.goodreads_book_id\n",
                "inner join BooksDB.dbo.tags as t\n",
                "ON bt.tag_id=t.tag_id\n",
                "where bt.tag_id='3008'\n",
                "\n",
                "\n",
                ""
            ],
            "metadata": {
                "azdata_cell_guid": "c4b0b67c-7cfa-4f52-be97-ffe5cc28ed54",
                "tags": [],
                "language": "sql"
            },
            "outputs": [
                {
                    "output_type": "display_data",
                    "data": {
                        "text/html": "(6 rows affected)"
                    },
                    "metadata": {}
                },
                {
                    "output_type": "display_data",
                    "data": {
                        "text/html": "Total execution time: 00:00:00.123"
                    },
                    "metadata": {}
                },
                {
                    "output_type": "execute_result",
                    "metadata": {},
                    "execution_count": 58,
                    "data": {
                        "application/vnd.dataresource+json": {
                            "schema": {
                                "fields": [
                                    {
                                        "name": "title"
                                    },
                                    {
                                        "name": "tag_id"
                                    },
                                    {
                                        "name": "tag_name"
                                    },
                                    {
                                        "name": "count"
                                    }
                                ]
                            },
                            "data": [
                                {
                                    "0": "The Natural Way to Draw",
                                    "1": "3008",
                                    "2": "art-drawing",
                                    "3": "4"
                                },
                                {
                                    "0": "The Creative License: Giving Yourself Permission to Be The Artist You Truly Are",
                                    "1": "3008",
                                    "2": "art-drawing",
                                    "3": "4"
                                },
                                {
                                    "0": "Anatomy for the Artist",
                                    "1": "3008",
                                    "2": "art-drawing",
                                    "3": "3"
                                },
                                {
                                    "0": "Zen of Seeing: Seeing/Drawing as Meditation",
                                    "1": "3008",
                                    "2": "art-drawing",
                                    "3": "1"
                                },
                                {
                                    "0": "Figure Drawing for All It's Worth (How to draw and paint)",
                                    "1": "3008",
                                    "2": "art-drawing",
                                    "3": "2"
                                },
                                {
                                    "0": "Keys to Drawing",
                                    "1": "3008",
                                    "2": "art-drawing",
                                    "3": "4"
                                }
                            ]
                        },
                        "text/html": [
                            "<table>",
                            "<tr><th>title</th><th>tag_id</th><th>tag_name</th><th>count</th></tr>",
                            "<tr><td>The Natural Way to Draw</td><td>3008</td><td>art-drawing</td><td>4</td></tr>",
                            "<tr><td>The Creative License: Giving Yourself Permission to Be The Artist You Truly Are</td><td>3008</td><td>art-drawing</td><td>4</td></tr>",
                            "<tr><td>Anatomy for the Artist</td><td>3008</td><td>art-drawing</td><td>3</td></tr>",
                            "<tr><td>Zen of Seeing: Seeing/Drawing as Meditation</td><td>3008</td><td>art-drawing</td><td>1</td></tr>",
                            "<tr><td>Figure Drawing for All It's Worth (How to draw and paint)</td><td>3008</td><td>art-drawing</td><td>2</td></tr>",
                            "<tr><td>Keys to Drawing</td><td>3008</td><td>art-drawing</td><td>4</td></tr>",
                            "</table>"
                        ]
                    }
                }
            ],
            "execution_count": 58
        },
        {
            "cell_type": "markdown",
            "source": [
                "## **QUESTION 7:** What are the top 10 most popular book titles on the 'to read' list?\n",
                "\n",
                "**Part A:**  Explore how the **to\\_read** and **books** tables are organized, and then join them.  What will you use as a key?\n",
                "\n",
                "> Your Answer:book\\_id\n",
                "\n",
                "**Part B:** Organize your newly joined table in a way that groups popularity based on the title based on users.\n",
                "\n",
                "> _Hint:_ Suggest using an alias for the aggregation you will need to run on the **user\\_id**\n",
                "\n",
                "> _Minimum Desired Output:_ title and aliased column The Ultimate Hitchhiker's Guide to the Galaxy, 1812"
            ],
            "metadata": {
                "azdata_cell_guid": "4e5349b7-24f6-481a-9d88-bb4f86abc624"
            },
            "attachments": {}
        },
        {
            "cell_type": "code",
            "source": [
                "-- Code Here:\n",
                "select b.title,Count(tr.user_id) as user_count\n",
                "from BooksDB.dbo.books as B\n",
                "join BooksDB.dbo.to_read as TR\n",
                "on b.book_id=tr.book_id\n",
                "group by b.title\n",
                "order by user_count desc"
            ],
            "metadata": {
                "azdata_cell_guid": "8af25df1-ce61-4152-8198-0b53c17642d0",
                "language": "sql",
                "tags": []
            },
            "outputs": [
                {
                    "output_type": "display_data",
                    "data": {
                        "text/html": "(811 rows affected)"
                    },
                    "metadata": {}
                },
                {
                    "output_type": "display_data",
                    "data": {
                        "text/html": "Total execution time: 00:00:00.248"
                    },
                    "metadata": {}
                },
                {
                    "output_type": "execute_result",
                    "metadata": {},
                    "execution_count": 63,
                    "data": {
                        "application/vnd.dataresource+json": {
                            "schema": {
                                "fields": [
                                    {
                                        "name": "title"
                                    },
                                    {
                                        "name": "user_count"
                                    }
                                ]
                            },
                            "data": [
                                {
                                    "0": "The Ultimate Hitchhiker's Guide to the Galaxy",
                                    "1": "1812"
                                },
                                {
                                    "0": "The Hitchhiker's Guide to the Galaxy (Hitchhiker's Guide to the Galaxy, #1)",
                                    "1": "1767"
                                },
                                {
                                    "0": "The Lord of the Rings: The Art of The Fellowship of the Ring",
                                    "1": "1499"
                                },
                                {
                                    "0": "Harry Potter Boxed Set, Books 1-5 (Harry Potter, #1-5)",
                                    "1": "1498"
                                },
                                {
                                    "0": "Harry Potter and the Goblet of Fire (Harry Potter, #4)",
                                    "1": "1484"
                                },
                                {
                                    "0": "The Known World",
                                    "1": "1352"
                                },
                                {
                                    "0": "Harry Potter and the Prisoner of Azkaban (Harry Potter, #3)",
                                    "1": "1293"
                                },
                                {
                                    "0": "The Lord of the Rings: Weapons and Warfare",
                                    "1": "1211"
                                },
                                {
                                    "0": "Notes from a Small Island",
                                    "1": "1148"
                                },
                                {
                                    "0": "Harry Potter Collection (Harry Potter, #1-6)",
                                    "1": "1110"
                                },
                                {
                                    "0": "The Lord of the Rings (The Lord of the Rings, #1-3)",
                                    "1": "1094"
                                },
                                {
                                    "0": "The Salmon of Doubt (Dirk Gently, #3)",
                                    "1": "1069"
                                },
                                {
                                    "0": "Dune Messiah (Dune Chronicles #2)",
                                    "1": "1051"
                                },
                                {
                                    "0": "Treasure Island",
                                    "1": "1040"
                                },
                                {
                                    "0": "Tropic of Cancer",
                                    "1": "1007"
                                },
                                {
                                    "0": "Harry Potter and the Half-Blood Prince (Harry Potter, #6)",
                                    "1": "973"
                                },
                                {
                                    "0": "Children of Dune (Dune Chronicles #3)",
                                    "1": "913"
                                },
                                {
                                    "0": "The Power of One (The Power of One, #1)",
                                    "1": "866"
                                },
                                {
                                    "0": "Heretics of Dune (Dune Chronicles #5)",
                                    "1": "815"
                                },
                                {
                                    "0": "J.R.R. Tolkien 4-Book Boxed Set: The Hobbit and The Lord of the Rings",
                                    "1": "801"
                                },
                                {
                                    "0": "Job: A Comedy of Justice",
                                    "1": "737"
                                },
                                {
                                    "0": "The Door Into Summer",
                                    "1": "724"
                                },
                                {
                                    "0": "Mostly Harmless (Hitchhiker's Guide to the Galaxy, #5)",
                                    "1": "696"
                                },
                                {
                                    "0": "I am Charlotte Simmons",
                                    "1": "661"
                                },
                                {
                                    "0": "The Broken Wings",
                                    "1": "659"
                                },
                                {
                                    "0": "Killing Yourself to Live: 85% of a True Story",
                                    "1": "608"
                                },
                                {
                                    "0": "The Portrait of a Lady",
                                    "1": "580"
                                },
                                {
                                    "0": "The Lover",
                                    "1": "567"
                                },
                                {
                                    "0": "Slouching Towards Bethlehem",
                                    "1": "564"
                                },
                                {
                                    "0": "We the Living",
                                    "1": "563"
                                },
                                {
                                    "0": "Cryptonomicon",
                                    "1": "551"
                                },
                                {
                                    "0": "Fullmetal Alchemist, Vol. 1 (Fullmetal Alchemist, #1)",
                                    "1": "533"
                                },
                                {
                                    "0": "Libra",
                                    "1": "525"
                                },
                                {
                                    "0": "Maurice",
                                    "1": "525"
                                },
                                {
                                    "0": "The Elegant Universe: Superstrings, Hidden Dimensions, and the Quest for the Ultimate Theory",
                                    "1": "524"
                                },
                                {
                                    "0": "Chapterhouse: Dune (Dune Chronicles #6)",
                                    "1": "513"
                                },
                                {
                                    "0": "One Hundred Years of Solitude",
                                    "1": "504"
                                },
                                {
                                    "0": "What to Expect the First Year (What to Expect)",
                                    "1": "495"
                                },
                                {
                                    "0": "I'm a Stranger Here Myself: Notes on Returning to America after Twenty Years Away",
                                    "1": "484"
                                },
                                {
                                    "0": "The Fellowship of the Ring (The Lord of the Rings, #1)",
                                    "1": "450"
                                },
                                {
                                    "0": "The Lost Continent: Travels in Small Town America",
                                    "1": "447"
                                },
                                {
                                    "0": "Everyday Italian: 125 Simple and Delicious Recipes",
                                    "1": "445"
                                },
                                {
                                    "0": "Heidi",
                                    "1": "439"
                                },
                                {
                                    "0": "Dirk Gently's Holistic Detective Agency (Dirk Gently #1)",
                                    "1": "438"
                                },
                                {
                                    "0": "Tropic of Capricorn",
                                    "1": "438"
                                },
                                {
                                    "0": "Neither Here nor There: Travels in Europe",
                                    "1": "438"
                                },
                                {
                                    "0": "City of Glass (The New York Trilogy, #1)",
                                    "1": "435"
                                },
                                {
                                    "0": "In a Sunburned Country",
                                    "1": "431"
                                },
                                {
                                    "0": "The Virtue of Selfishness: A New Concept of Egoism",
                                    "1": "430"
                                },
                                {
                                    "0": "A Short History of Nearly Everything",
                                    "1": "427"
                                },
                                {
                                    "0": "Harry Potter and the Order of the Phoenix (Harry Potter, #5)",
                                    "1": "400"
                                },
                                {
                                    "0": "Sherlock Holmes: The Complete Novels and Stories, Volume I",
                                    "1": "387"
                                },
                                {
                                    "0": "Daniel Deronda",
                                    "1": "385"
                                },
                                {
                                    "0": "Madame Bovary",
                                    "1": "384"
                                },
                                {
                                    "0": "Stranger in a Strange Land",
                                    "1": "374"
                                },
                                {
                                    "0": "Digging to America",
                                    "1": "373"
                                },
                                {
                                    "0": "The Da Vinci Code (Robert Langdon, #2)",
                                    "1": "372"
                                },
                                {
                                    "0": "The Mother Tongue: English and How It Got That Way",
                                    "1": "348"
                                },
                                {
                                    "0": "The Phantom Tollbooth",
                                    "1": "346"
                                },
                                {
                                    "0": "The Long Dark Tea-Time of the Soul (Dirk Gently, #2)",
                                    "1": "343"
                                },
                                {
                                    "0": "The Game: Penetrating the Secret Society of Pickup Artists",
                                    "1": "319"
                                },
                                {
                                    "0": "Breaking the Spell: Religion as a Natural Phenomenon",
                                    "1": "316"
                                },
                                {
                                    "0": "The Tipping Point: How Little Things Can Make a Big Difference",
                                    "1": "315"
                                },
                                {
                                    "0": "Robinson Crusoe",
                                    "1": "309"
                                },
                                {
                                    "0": "Agamemnon (Oresteia, #1)",
                                    "1": "306"
                                },
                                {
                                    "0": "Collapse: How Societies Choose to Fail or Succeed",
                                    "1": "306"
                                },
                                {
                                    "0": "Trump: The Art of the Deal",
                                    "1": "305"
                                },
                                {
                                    "0": "Harry Potter and the Sorcerer's Stone (Harry Potter, #1)",
                                    "1": "287"
                                },
                                {
                                    "0": "Fire Sea (The Death Gate Cycle, #3)",
                                    "1": "286"
                                },
                                {
                                    "0": "Wild Swans: Three Daughters of China",
                                    "1": "279"
                                },
                                {
                                    "0": "Metamorphoses",
                                    "1": "277"
                                },
                                {
                                    "0": "Think and Grow Rich: The Landmark Bestseller - Now Revised and Updated for the 21st Century",
                                    "1": "273"
                                },
                                {
                                    "0": "Hatchet (Brian's Saga, #1)",
                                    "1": "269"
                                },
                                {
                                    "0": "Middlesex",
                                    "1": "268"
                                },
                                {
                                    "0": "The Confusion (The Baroque Cycle, #2)",
                                    "1": "267"
                                },
                                {
                                    "0": "Hamlet",
                                    "1": "265"
                                },
                                {
                                    "0": "Atlas Shrugged",
                                    "1": "262"
                                },
                                {
                                    "0": "Snow Crash",
                                    "1": "261"
                                },
                                {
                                    "0": "Pompeii",
                                    "1": "260"
                                },
                                {
                                    "0": "The Odyssey",
                                    "1": "250"
                                },
                                {
                                    "0": "Leviathan",
                                    "1": "249"
                                },
                                {
                                    "0": "The Iliad/The Odyssey",
                                    "1": "240"
                                },
                                {
                                    "0": "Zodiac",
                                    "1": "240"
                                },
                                {
                                    "0": "The Diamond Age: or, A Young Lady's Illustrated Primer",
                                    "1": "239"
                                },
                                {
                                    "0": "Fahrenheit 451",
                                    "1": "236"
                                },
                                {
                                    "0": "Play It as It Lays",
                                    "1": "232"
                                },
                                {
                                    "0": "The Iliad",
                                    "1": "220"
                                },
                                {
                                    "0": "Corelli's Mandolin",
                                    "1": "219"
                                },
                                {
                                    "0": "The Brooklyn Follies",
                                    "1": "217"
                                },
                                {
                                    "0": "Gravity's Rainbow",
                                    "1": "217"
                                },
                                {
                                    "0": "Memoirs of a Geisha",
                                    "1": "213"
                                },
                                {
                                    "0": "Time Enough for Love",
                                    "1": "208"
                                },
                                {
                                    "0": "Moon Palace",
                                    "1": "207"
                                },
                                {
                                    "0": "The Design of Everyday Things",
                                    "1": "206"
                                },
                                {
                                    "0": "The Restaurant at the End of the Universe (Hitchhiker's Guide, #2)",
                                    "1": "202"
                                },
                                {
                                    "0": "Wild Fire (John Corey, #4)",
                                    "1": "198"
                                },
                                {
                                    "0": "Nickel and Dimed: On (Not) Getting By in America",
                                    "1": "195"
                                },
                                {
                                    "0": "Falling Angels",
                                    "1": "194"
                                },
                                {
                                    "0": "Martin Chuzzlewit",
                                    "1": "189"
                                },
                                {
                                    "0": "Giada's Family Dinners",
                                    "1": "189"
                                },
                                {
                                    "0": "Wild at Heart: Discovering the Secret of a Man's Soul",
                                    "1": "184"
                                },
                                {
                                    "0": "The New York Trilogy",
                                    "1": "182"
                                },
                                {
                                    "0": "Surely You're Joking, Mr. Feynman!: Adventures of a Curious Character",
                                    "1": "182"
                                },
                                {
                                    "0": "Sailing Alone Around the Room: New and Selected Poems",
                                    "1": "180"
                                },
                                {
                                    "0": "The Broker",
                                    "1": "180"
                                },
                                {
                                    "0": "A Separate Peace",
                                    "1": "178"
                                },
                                {
                                    "0": "Blue Ocean Strategy: How To Create Uncontested Market Space And Make The Competition Irrelevant",
                                    "1": "176"
                                },
                                {
                                    "0": "Liar's Poker",
                                    "1": "174"
                                },
                                {
                                    "0": "The War of Art: Break Through the Blocks & Win Your Inner Creative Battles",
                                    "1": "174"
                                },
                                {
                                    "0": "War and Peace",
                                    "1": "174"
                                },
                                {
                                    "0": "A Million Little Pieces",
                                    "1": "172"
                                },
                                {
                                    "0": "A Home at the End of the World",
                                    "1": "169"
                                },
                                {
                                    "0": "The Crying of Lot 49",
                                    "1": "168"
                                },
                                {
                                    "0": "Another Bullshit Night in Suck City",
                                    "1": "166"
                                },
                                {
                                    "0": "Angels & Demons  (Robert Langdon, #1)",
                                    "1": "166"
                                },
                                {
                                    "0": "West with the Night",
                                    "1": "164"
                                },
                                {
                                    "0": "The Natural Way to Draw",
                                    "1": "164"
                                },
                                {
                                    "0": "An Ideal Husband",
                                    "1": "162"
                                },
                                {
                                    "0": "A Painted House",
                                    "1": "162"
                                },
                                {
                                    "0": "Sentimental Education",
                                    "1": "161"
                                },
                                {
                                    "0": "Little Women (Little Women, #1)",
                                    "1": "157"
                                },
                                {
                                    "0": "The Oresteia  (Ορέστεια, #1-3)",
                                    "1": "157"
                                },
                                {
                                    "0": "Forever Amber ",
                                    "1": "157"
                                },
                                {
                                    "0": "The Partner",
                                    "1": "156"
                                },
                                {
                                    "0": "I Like You: Hospitality Under the Influence",
                                    "1": "156"
                                },
                                {
                                    "0": "Brief Interviews with Hideous Men",
                                    "1": "154"
                                },
                                {
                                    "0": "Into the Wild",
                                    "1": "152"
                                },
                                {
                                    "0": "America (The Book): A Citizen's Guide to Democracy Inaction",
                                    "1": "152"
                                },
                                {
                                    "0": "Hard Eight (Stephanie Plum, #8)",
                                    "1": "149"
                                },
                                {
                                    "0": "The Zahir",
                                    "1": "149"
                                },
                                {
                                    "0": "Live and Let Die (James Bond, #2)",
                                    "1": "149"
                                },
                                {
                                    "0": "A Tale of Two Cities",
                                    "1": "148"
                                },
                                {
                                    "0": "The Deep End of the Ocean (Cappadora Family, #1)",
                                    "1": "147"
                                },
                                {
                                    "0": "Persuasion",
                                    "1": "147"
                                },
                                {
                                    "0": "Way of the Peaceful Warrior: A Book That Changes Lives",
                                    "1": "145"
                                },
                                {
                                    "0": "Howards End",
                                    "1": "143"
                                },
                                {
                                    "0": "The Innocent Man: Murder and Injustice in a Small Town",
                                    "1": "142"
                                },
                                {
                                    "0": "Anthem",
                                    "1": "142"
                                },
                                {
                                    "0": "White Teeth",
                                    "1": "142"
                                },
                                {
                                    "0": "The Book of Ruth",
                                    "1": "139"
                                },
                                {
                                    "0": "Snow Flower and the Secret Fan",
                                    "1": "139"
                                },
                                {
                                    "0": "The Taste of Home Cookbook",
                                    "1": "139"
                                },
                                {
                                    "0": "Lipstick Jungle",
                                    "1": "137"
                                },
                                {
                                    "0": "Shalimar the Clown",
                                    "1": "134"
                                },
                                {
                                    "0": "The Amazing Adventures of Kavalier & Clay",
                                    "1": "129"
                                },
                                {
                                    "0": "Baltasar and Blimunda",
                                    "1": "129"
                                },
                                {
                                    "0": "The Innovator's Dilemma: The Revolutionary Book that Will Change the Way You Do Business (Collins Business Essentials)",
                                    "1": "127"
                                },
                                {
                                    "0": "Black Beauty",
                                    "1": "127"
                                },
                                {
                                    "0": "The Good Earth (House of Earth, #1)",
                                    "1": "126"
                                },
                                {
                                    "0": "The Hungry Tide",
                                    "1": "126"
                                },
                                {
                                    "0": "Zen and the Art of Motorcycle Maintenance: An Inquiry Into Values",
                                    "1": "125"
                                },
                                {
                                    "0": "The Richest Man in Babylon",
                                    "1": "123"
                                },
                                {
                                    "0": "Memories of My Melancholy Whores",
                                    "1": "123"
                                },
                                {
                                    "0": "Slaughterhouse-Five",
                                    "1": "123"
                                },
                                {
                                    "0": "The Plot Against America",
                                    "1": "118"
                                },
                                {
                                    "0": "Interpreter of Maladies",
                                    "1": "116"
                                },
                                {
                                    "0": "Quicksilver (The Baroque Cycle, #1)",
                                    "1": "116"
                                },
                                {
                                    "0": "The Heart of the Matter",
                                    "1": "116"
                                },
                                {
                                    "0": "Villa Incognito",
                                    "1": "115"
                                },
                                {
                                    "0": "The Automatic Millionaire: A Powerful One-Step Plan to Live and Finish Rich",
                                    "1": "114"
                                },
                                {
                                    "0": "From Beirut to Jerusalem",
                                    "1": "114"
                                },
                                {
                                    "0": "Freakonomics: A Rogue Economist Explores the Hidden Side of Everything (Freakonomics, #1)",
                                    "1": "113"
                                },
                                {
                                    "0": "From the Mixed-Up Files of Mrs. Basil E. Frankweiler",
                                    "1": "112"
                                },
                                {
                                    "0": "High Five (Stephanie Plum, #5)",
                                    "1": "111"
                                },
                                {
                                    "0": "Truman",
                                    "1": "110"
                                },
                                {
                                    "0": "The History of Love",
                                    "1": "110"
                                },
                                {
                                    "0": "The List",
                                    "1": "110"
                                },
                                {
                                    "0": "The Westing Game",
                                    "1": "109"
                                },
                                {
                                    "0": "Sex, Drugs, and Cocoa Puffs: A Low Culture Manifesto",
                                    "1": "108"
                                },
                                {
                                    "0": "The Way the Crow Flies",
                                    "1": "108"
                                },
                                {
                                    "0": "One Fish, Two Fish, Red Fish, Blue Fish",
                                    "1": "107"
                                },
                                {
                                    "0": "Lost Horizon",
                                    "1": "107"
                                },
                                {
                                    "0": "The Wedding (The Notebook, #2)",
                                    "1": "107"
                                },
                                {
                                    "0": "The Johnstown Flood",
                                    "1": "106"
                                },
                                {
                                    "0": "A Room with a View",
                                    "1": "106"
                                },
                                {
                                    "0": "Perfume: The Story of a Murderer",
                                    "1": "105"
                                },
                                {
                                    "0": "The Complete Sherlock Holmes, Vol 2",
                                    "1": "105"
                                },
                                {
                                    "0": "The World Is Flat: A Brief History of the Twenty-first Century",
                                    "1": "105"
                                },
                                {
                                    "0": "Sex and the City",
                                    "1": "104"
                                },
                                {
                                    "0": "A Case of Need",
                                    "1": "104"
                                },
                                {
                                    "0": "The Bone Collector (Lincoln Rhyme, #1)",
                                    "1": "103"
                                },
                                {
                                    "0": "No Logo",
                                    "1": "102"
                                },
                                {
                                    "0": "A Little Princess",
                                    "1": "102"
                                },
                                {
                                    "0": "The Grapes of Wrath",
                                    "1": "100"
                                },
                                {
                                    "0": "So Long, and Thanks for All the Fish (Hitchhiker's Guide to the Galaxy, #4)",
                                    "1": "99"
                                },
                                {
                                    "0": "American Gods (American Gods, #1)",
                                    "1": "99"
                                },
                                {
                                    "0": "The Egypt Game (Game, #1)",
                                    "1": "99"
                                },
                                {
                                    "0": "The Rapture of Canaan",
                                    "1": "99"
                                },
                                {
                                    "0": "Hey Nostradamus!",
                                    "1": "98"
                                },
                                {
                                    "0": "Kurt Vonnegut's Cat's Cradle (Modern Critical Interpretations)",
                                    "1": "97"
                                },
                                {
                                    "0": "Economics in One Lesson: The Shortest & Surest Way to Understand Basic Economics",
                                    "1": "96"
                                },
                                {
                                    "0": "Until I Find You",
                                    "1": "96"
                                },
                                {
                                    "0": "Lysistrata",
                                    "1": "95"
                                },
                                {
                                    "0": "The Physician (Cole Family Trilogy, #1)",
                                    "1": "95"
                                },
                                {
                                    "0": "Guns, Germs, and Steel: The Fates of Human Societies",
                                    "1": "94"
                                },
                                {
                                    "0": "Of Mice and Men",
                                    "1": "93"
                                },
                                {
                                    "0": "Harry Potter Schoolbooks Box Set: Two Classic Books from the Library of Hogwarts School of Witchcraft and Wizardry",
                                    "1": "92"
                                },
                                {
                                    "0": "The River (Brian's Saga, #2)",
                                    "1": "92"
                                },
                                {
                                    "0": "Twenty Love Poems and a Song of Despair",
                                    "1": "92"
                                },
                                {
                                    "0": "A Great and Terrible Beauty (Gemma Doyle, #1)",
                                    "1": "92"
                                },
                                {
                                    "0": "Songs in Ordinary Time",
                                    "1": "91"
                                },
                                {
                                    "0": "Tunnels of Blood (Cirque Du Freak, #3)",
                                    "1": "90"
                                },
                                {
                                    "0": "Fast Food Nation: The Dark Side of the All-American Meal",
                                    "1": "90"
                                },
                                {
                                    "0": "Congo",
                                    "1": "90"
                                },
                                {
                                    "0": "The Complete Anne of Green Gables Boxed Set (Anne of Green Gables, #1-8)",
                                    "1": "89"
                                },
                                {
                                    "0": "The Hobbit",
                                    "1": "89"
                                },
                                {
                                    "0": "Into Thin Air: A Personal Account of the Mount Everest Disaster",
                                    "1": "88"
                                },
                                {
                                    "0": "Wolves of the Calla (The Dark Tower, #5)",
                                    "1": "88"
                                },
                                {
                                    "0": "Warrior of the Light",
                                    "1": "88"
                                },
                                {
                                    "0": "Ilium (Ilium, #1)",
                                    "1": "88"
                                },
                                {
                                    "0": "Sunshine",
                                    "1": "87"
                                },
                                {
                                    "0": "Prep",
                                    "1": "87"
                                },
                                {
                                    "0": "The Complete Short Novels",
                                    "1": "86"
                                },
                                {
                                    "0": "Kafka on the Shore",
                                    "1": "86"
                                },
                                {
                                    "0": "The Adventures of Sherlock Holmes",
                                    "1": "86"
                                },
                                {
                                    "0": "Heart of Darkness",
                                    "1": "84"
                                },
                                {
                                    "0": "Veronika Decides to Die",
                                    "1": "84"
                                },
                                {
                                    "0": "Moneyball: The Art of Winning an Unfair Game",
                                    "1": "83"
                                },
                                {
                                    "0": "The America's Test Kitchen Family Cookbook",
                                    "1": "83"
                                },
                                {
                                    "0": "The Fountainhead",
                                    "1": "83"
                                },
                                {
                                    "0": "Team of Rivals: The Political Genius of Abraham Lincoln",
                                    "1": "83"
                                },
                                {
                                    "0": "True Believer (Jeremy Marsh & Lexie Darnell, #1)",
                                    "1": "83"
                                },
                                {
                                    "0": "Complications: A Surgeon's Notes on an Imperfect Science",
                                    "1": "82"
                                },
                                {
                                    "0": "Stranger than Fiction",
                                    "1": "82"
                                },
                                {
                                    "0": "Brave New World / Brave New World Revisited",
                                    "1": "82"
                                },
                                {
                                    "0": "Like Water for Chocolate",
                                    "1": "81"
                                },
                                {
                                    "0": "All the Names",
                                    "1": "81"
                                },
                                {
                                    "0": "The 48 Laws of Power",
                                    "1": "81"
                                },
                                {
                                    "0": "A Midsummer Night's Dream",
                                    "1": "81"
                                },
                                {
                                    "0": "The Pilot's Wife",
                                    "1": "81"
                                },
                                {
                                    "0": "The Long Walk: The True Story of a Trek to Freedom",
                                    "1": "80"
                                },
                                {
                                    "0": "The View from Saturday",
                                    "1": "79"
                                },
                                {
                                    "0": "The Power and the Glory",
                                    "1": "79"
                                },
                                {
                                    "0": "The Histories",
                                    "1": "79"
                                },
                                {
                                    "0": "The Wonderful Story of Henry Sugar and Six More",
                                    "1": "79"
                                },
                                {
                                    "0": "The Amber Room",
                                    "1": "78"
                                },
                                {
                                    "0": "The Curious Incident of the Dog in the Night-Time",
                                    "1": "78"
                                },
                                {
                                    "0": "The Bellmaker (Redwall, #7)",
                                    "1": "77"
                                },
                                {
                                    "0": "Truth and Beauty",
                                    "1": "77"
                                },
                                {
                                    "0": "The Long Winter (Little House, #6)",
                                    "1": "77"
                                },
                                {
                                    "0": "All the King's Men",
                                    "1": "76"
                                },
                                {
                                    "0": "The Lost Boy (Dave Pelzer #2)",
                                    "1": "76"
                                },
                                {
                                    "0": "My Name is Red",
                                    "1": "75"
                                },
                                {
                                    "0": "Revolting Rhymes",
                                    "1": "74"
                                },
                                {
                                    "0": "The Rainmaker",
                                    "1": "74"
                                },
                                {
                                    "0": "Six Easy Pieces: Essentials of Physics By Its Most Brilliant Teacher",
                                    "1": "73"
                                },
                                {
                                    "0": "The Alchemist",
                                    "1": "73"
                                },
                                {
                                    "0": "A Widow for One Year",
                                    "1": "73"
                                },
                                {
                                    "0": "Pride and Prejudice",
                                    "1": "71"
                                },
                                {
                                    "0": "The Dark Tower (The Dark Tower, #7)",
                                    "1": "71"
                                },
                                {
                                    "0": "A Lesson Before Dying",
                                    "1": "71"
                                },
                                {
                                    "0": "The Summons",
                                    "1": "70"
                                },
                                {
                                    "0": "Girl with a Pearl Earring",
                                    "1": "70"
                                },
                                {
                                    "0": "Getting Things Done: The Art of Stress-Free Productivity",
                                    "1": "70"
                                },
                                {
                                    "0": "How to Win Friends and Influence People",
                                    "1": "69"
                                },
                                {
                                    "0": "Timbuktu",
                                    "1": "69"
                                },
                                {
                                    "0": "Narcissus and Goldmund",
                                    "1": "69"
                                },
                                {
                                    "0": "The War of the Worlds",
                                    "1": "69"
                                },
                                {
                                    "0": "A History of the World in 6 Glasses",
                                    "1": "69"
                                },
                                {
                                    "0": "Blind Willow, Sleeping Woman",
                                    "1": "68"
                                },
                                {
                                    "0": "It's Not About the Bike: My Journey Back to Life",
                                    "1": "68"
                                },
                                {
                                    "0": "The Rescue",
                                    "1": "68"
                                },
                                {
                                    "0": "The Picture of Dorian Gray",
                                    "1": "68"
                                },
                                {
                                    "0": "The Omnivore's Dilemma: A Natural History of Four Meals",
                                    "1": "68"
                                },
                                {
                                    "0": "The Testament",
                                    "1": "67"
                                },
                                {
                                    "0": "The Snows of Kilimanjaro and Other Stories",
                                    "1": "67"
                                },
                                {
                                    "0": "The Pilgrimage",
                                    "1": "67"
                                },
                                {
                                    "0": "Rachael Ray 365: No Repeats: A Year of Deliciously Different Dinners",
                                    "1": "67"
                                },
                                {
                                    "0": "A History of God: The 4,000-Year Quest of Judaism, Christianity, and Islam",
                                    "1": "67"
                                },
                                {
                                    "0": "The Barefoot Contessa Cookbook",
                                    "1": "66"
                                },
                                {
                                    "0": "The Autograph Man",
                                    "1": "65"
                                },
                                {
                                    "0": "Half Asleep in Frog Pajamas",
                                    "1": "65"
                                },
                                {
                                    "0": "Ways of Seeing",
                                    "1": "65"
                                },
                                {
                                    "0": "The Second Summer of the Sisterhood (Sisterhood, #2)",
                                    "1": "65"
                                },
                                {
                                    "0": "A House for Mr Biswas",
                                    "1": "65"
                                },
                                {
                                    "0": "Lolita",
                                    "1": "64"
                                },
                                {
                                    "0": "A Briefer History of Time",
                                    "1": "64"
                                },
                                {
                                    "0": "Horton Hears a Who!",
                                    "1": "64"
                                },
                                {
                                    "0": "The Brethren",
                                    "1": "64"
                                },
                                {
                                    "0": "Inés of My Soul",
                                    "1": "64"
                                },
                                {
                                    "0": "The Three Musketeers",
                                    "1": "64"
                                },
                                {
                                    "0": "Jailbird",
                                    "1": "63"
                                },
                                {
                                    "0": "Lunar Park",
                                    "1": "63"
                                },
                                {
                                    "0": "Beloved",
                                    "1": "63"
                                },
                                {
                                    "0": "The Shadow of the Wind (The Cemetery of Forgotten Books,  #1)",
                                    "1": "62"
                                },
                                {
                                    "0": "Great Expectations",
                                    "1": "62"
                                },
                                {
                                    "0": "His Excellency: George Washington",
                                    "1": "62"
                                },
                                {
                                    "0": "Founding Brothers: The Revolutionary Generation",
                                    "1": "62"
                                },
                                {
                                    "0": "Selected Stories",
                                    "1": "61"
                                },
                                {
                                    "0": "Built to Last: Successful Habits of Visionary Companies",
                                    "1": "61"
                                },
                                {
                                    "0": "The Virgin Blue",
                                    "1": "61"
                                },
                                {
                                    "0": "The Short Stories",
                                    "1": "61"
                                },
                                {
                                    "0": "Doctor No (James Bond, #6)",
                                    "1": "60"
                                },
                                {
                                    "0": "Do Androids Dream of Electric Sheep?",
                                    "1": "60"
                                },
                                {
                                    "0": "Fear and Loathing in Las Vegas",
                                    "1": "60"
                                },
                                {
                                    "0": "Charlie and the Great Glass Elevator (Charlie Bucket, #2)",
                                    "1": "60"
                                },
                                {
                                    "0": "Timequake",
                                    "1": "60"
                                },
                                {
                                    "0": "The Fortress of Solitude",
                                    "1": "60"
                                },
                                {
                                    "0": "Mariel of Redwall (Redwall, #4)",
                                    "1": "60"
                                },
                                {
                                    "0": "Don't Make Me Think: A Common Sense Approach to Web Usability",
                                    "1": "60"
                                },
                                {
                                    "0": "1776",
                                    "1": "59"
                                },
                                {
                                    "0": "Burmese Days",
                                    "1": "59"
                                },
                                {
                                    "0": "Man's Search for Meaning",
                                    "1": "59"
                                },
                                {
                                    "0": "What Looks Like Crazy on an Ordinary Day (Idlewild, #1)",
                                    "1": "59"
                                },
                                {
                                    "0": "The Devil and Miss Prym (On the Seventh Day, #3)",
                                    "1": "59"
                                },
                                {
                                    "0": "The Man From St. Petersburg",
                                    "1": "59"
                                },
                                {
                                    "0": "A Moveable Feast",
                                    "1": "58"
                                },
                                {
                                    "0": "Going After Cacciato",
                                    "1": "58"
                                },
                                {
                                    "0": "The Smoke Jumper",
                                    "1": "58"
                                },
                                {
                                    "0": "The Valkyries",
                                    "1": "58"
                                },
                                {
                                    "0": "The Five Love Languages of Children",
                                    "1": "58"
                                },
                                {
                                    "0": "Vampire Mountain (Cirque Du Freak, #4)",
                                    "1": "58"
                                },
                                {
                                    "0": "Carter Beats the Devil",
                                    "1": "58"
                                },
                                {
                                    "0": "Oedipus Rex  (The Theban Plays, #1)",
                                    "1": "57"
                                },
                                {
                                    "0": "The Firm (Penguin Readers, Level 5)",
                                    "1": "57"
                                },
                                {
                                    "0": "The Road",
                                    "1": "57"
                                },
                                {
                                    "0": "My Life in France",
                                    "1": "57"
                                },
                                {
                                    "0": "The Path Between the Seas: The Creation of the Panama Canal, 1870-1914",
                                    "1": "57"
                                },
                                {
                                    "0": "Night (The Night Trilogy #1)",
                                    "1": "57"
                                },
                                {
                                    "0": "Anil's Ghost",
                                    "1": "57"
                                },
                                {
                                    "0": "Salt: A World History",
                                    "1": "57"
                                },
                                {
                                    "0": "The Beach House",
                                    "1": "56"
                                },
                                {
                                    "0": "Portrait of a Killer: Jack the Ripper - Case Closed",
                                    "1": "56"
                                },
                                {
                                    "0": "In Our Time",
                                    "1": "56"
                                },
                                {
                                    "0": "Anansi Boys",
                                    "1": "56"
                                },
                                {
                                    "0": "Deerskin",
                                    "1": "56"
                                },
                                {
                                    "0": "Morality for Beautiful Girls (No. 1 Ladies' Detective Agency, #3)",
                                    "1": "56"
                                },
                                {
                                    "0": "Eleven Minutes",
                                    "1": "55"
                                },
                                {
                                    "0": "Longitude: The True Story of a Lone Genius Who Solved the Greatest Scientific Problem of His Time",
                                    "1": "55"
                                },
                                {
                                    "0": "A Christmas Carol",
                                    "1": "55"
                                },
                                {
                                    "0": "The First Four Years  (Little House, #9)",
                                    "1": "55"
                                },
                                {
                                    "0": "Love in the Time of Cholera",
                                    "1": "54"
                                },
                                {
                                    "0": "My Friend Leonard",
                                    "1": "54"
                                },
                                {
                                    "0": "The Brothers Karamazov",
                                    "1": "54"
                                },
                                {
                                    "0": "The Clan of the Cave Bear (Earth's Children, #1)",
                                    "1": "53"
                                },
                                {
                                    "0": "A Man Without a Country",
                                    "1": "53"
                                },
                                {
                                    "0": "The Corrections",
                                    "1": "53"
                                },
                                {
                                    "0": "The Aleph and Other Stories ",
                                    "1": "53"
                                },
                                {
                                    "0": "The Shadow Rising (Wheel of Time, #4)",
                                    "1": "53"
                                },
                                {
                                    "0": "Charlie and the Chocolate Factory (Charlie Bucket, #1)",
                                    "1": "53"
                                },
                                {
                                    "0": "In the Lake of the Woods",
                                    "1": "53"
                                },
                                {
                                    "0": "Blink",
                                    "1": "52"
                                },
                                {
                                    "0": "Me Talk Pretty One Day",
                                    "1": "52"
                                },
                                {
                                    "0": "The Fifth Mountain",
                                    "1": "51"
                                },
                                {
                                    "0": "Suffer the Children",
                                    "1": "51"
                                },
                                {
                                    "0": "Pearls of Lutra (Redwall, #9)",
                                    "1": "50"
                                },
                                {
                                    "0": "Persepolis: The Story of a Childhood (Persepolis, #1)",
                                    "1": "50"
                                },
                                {
                                    "0": "To Kill a Mockingbird",
                                    "1": "50"
                                },
                                {
                                    "0": "Paradise",
                                    "1": "50"
                                },
                                {
                                    "0": "Eaters of the Dead",
                                    "1": "50"
                                },
                                {
                                    "0": "The Club Dumas",
                                    "1": "50"
                                },
                                {
                                    "0": "Special Topics in Calamity Physics",
                                    "1": "50"
                                },
                                {
                                    "0": "The Winter of Our Discontent",
                                    "1": "49"
                                },
                                {
                                    "0": "How to Be Good",
                                    "1": "49"
                                },
                                {
                                    "0": "The Call of the Wild",
                                    "1": "49"
                                },
                                {
                                    "0": "Timeline",
                                    "1": "48"
                                },
                                {
                                    "0": "The Cement Garden",
                                    "1": "48"
                                },
                                {
                                    "0": "Icy Sparks",
                                    "1": "48"
                                },
                                {
                                    "0": "Mornings on Horseback",
                                    "1": "48"
                                },
                                {
                                    "0": "A Walk in the Woods",
                                    "1": "48"
                                },
                                {
                                    "0": "The Great Gatsby",
                                    "1": "48"
                                },
                                {
                                    "0": "Outcast of Redwall (Redwall, #8)",
                                    "1": "48"
                                },
                                {
                                    "0": "The Ground Beneath Her Feet",
                                    "1": "48"
                                },
                                {
                                    "0": "Twelfth Night",
                                    "1": "48"
                                },
                                {
                                    "0": "Travels with Charley: In Search of America",
                                    "1": "48"
                                },
                                {
                                    "0": "Life of Pi",
                                    "1": "48"
                                },
                                {
                                    "0": "Black and Blue",
                                    "1": "47"
                                },
                                {
                                    "0": "The Doors of Perception & Heaven and Hell",
                                    "1": "47"
                                },
                                {
                                    "0": "The Poisonwood Bible",
                                    "1": "47"
                                },
                                {
                                    "0": "Unfinished Tales of Númenor and Middle-Earth",
                                    "1": "47"
                                },
                                {
                                    "0": "The Good Soldier",
                                    "1": "47"
                                },
                                {
                                    "0": "Gates of Fire: An Epic Novel of the Battle of Thermopylae",
                                    "1": "47"
                                },
                                {
                                    "0": "The Andromeda Strain",
                                    "1": "47"
                                },
                                {
                                    "0": "The Witches",
                                    "1": "47"
                                },
                                {
                                    "0": "A Heartbreaking Work of Staggering Genius",
                                    "1": "46"
                                },
                                {
                                    "0": "Brokeback Mountain",
                                    "1": "46"
                                },
                                {
                                    "0": "Motor Mouth (Alex Barnaby #2)",
                                    "1": "46"
                                },
                                {
                                    "0": "A Brief History of Time",
                                    "1": "46"
                                },
                                {
                                    "0": "Confessions of an Economic Hit Man",
                                    "1": "45"
                                },
                                {
                                    "0": "The Pragmatic Programmer: From Journeyman to Master",
                                    "1": "45"
                                },
                                {
                                    "0": "In Search of Excellence: Lessons from America's Best-Run Companies",
                                    "1": "45"
                                },
                                {
                                    "0": "Women in Love (Brangwen Family, #2)",
                                    "1": "45"
                                },
                                {
                                    "0": "A Walk to Remember",
                                    "1": "45"
                                },
                                {
                                    "0": "The Devil Wears Prada (The Devil Wears Prada, #1)",
                                    "1": "45"
                                },
                                {
                                    "0": "Wizard and Glass (The Dark Tower, #4)",
                                    "1": "44"
                                },
                                {
                                    "0": "The Thorn Birds",
                                    "1": "44"
                                },
                                {
                                    "0": "The Time Machine",
                                    "1": "44"
                                },
                                {
                                    "0": "Skinny Legs and All",
                                    "1": "44"
                                },
                                {
                                    "0": "Who Moved My Cheese?",
                                    "1": "44"
                                },
                                {
                                    "0": "The Terminal Man",
                                    "1": "44"
                                },
                                {
                                    "0": "A Supposedly Fun Thing I'll Never Do Again:  Essays and Arguments",
                                    "1": "44"
                                },
                                {
                                    "0": "The First World War",
                                    "1": "44"
                                },
                                {
                                    "0": "About a Boy",
                                    "1": "44"
                                },
                                {
                                    "0": "Paris to the Moon",
                                    "1": "44"
                                },
                                {
                                    "0": "The Prophet",
                                    "1": "43"
                                },
                                {
                                    "0": "The Catcher in the Rye",
                                    "1": "43"
                                },
                                {
                                    "0": "The Oedipus Cycle: Oedipus Rex/Oedipus at Colonus/Antigone (The Theban Plays, #1–3)",
                                    "1": "43"
                                },
                                {
                                    "0": "Invisible Cities",
                                    "1": "43"
                                },
                                {
                                    "0": "The Great Train Robbery",
                                    "1": "43"
                                },
                                {
                                    "0": "The Big Sleep (Philip Marlowe, #1)",
                                    "1": "43"
                                },
                                {
                                    "0": "La Dame aux Camélias",
                                    "1": "43"
                                },
                                {
                                    "0": "Holidays on Ice",
                                    "1": "43"
                                },
                                {
                                    "0": "The Magic Finger (Young Puffin Developing Reader)",
                                    "1": "43"
                                },
                                {
                                    "0": "The 158-Pound Marriage",
                                    "1": "43"
                                },
                                {
                                    "0": "Tara Road",
                                    "1": "43"
                                },
                                {
                                    "0": "Persepolis, Volume 1",
                                    "1": "42"
                                },
                                {
                                    "0": "Papillon",
                                    "1": "42"
                                },
                                {
                                    "0": "All-of-a-Kind Family (All-of-a-Kind Family, #1)",
                                    "1": "42"
                                },
                                {
                                    "0": "One for the Money (Stephanie Plum, #1)",
                                    "1": "42"
                                },
                                {
                                    "0": "Anne Frank Remembered: The Story of the Woman Who Helped to Hide the Frank Family",
                                    "1": "42"
                                },
                                {
                                    "0": "Barrel Fever: Stories and Essays",
                                    "1": "42"
                                },
                                {
                                    "0": "The Woman in White",
                                    "1": "41"
                                },
                                {
                                    "0": "Shopaholic Takes Manhattan (Shopaholic, #2)",
                                    "1": "41"
                                },
                                {
                                    "0": "Waiting for the Barbarians",
                                    "1": "41"
                                },
                                {
                                    "0": "A Christmas Carol and Other Christmas Writings",
                                    "1": "41"
                                },
                                {
                                    "0": "Maximum City: Bombay Lost and Found",
                                    "1": "41"
                                },
                                {
                                    "0": "Girlfriend in a Coma",
                                    "1": "41"
                                },
                                {
                                    "0": "Twelve Sharp (Stephanie Plum, #12)",
                                    "1": "41"
                                },
                                {
                                    "0": "A Prayer for Owen Meany",
                                    "1": "40"
                                },
                                {
                                    "0": "Disgrace",
                                    "1": "40"
                                },
                                {
                                    "0": "Marina",
                                    "1": "40"
                                },
                                {
                                    "0": "Anne Frank: Beyond the Diary - A Photographic Remembrance",
                                    "1": "40"
                                },
                                {
                                    "0": "Fever Pitch",
                                    "1": "40"
                                },
                                {
                                    "0": "Seven Up (Stephanie Plum, #7)",
                                    "1": "40"
                                },
                                {
                                    "0": "The Last Juror",
                                    "1": "40"
                                },
                                {
                                    "0": "Little House in the Big Woods (Little House, #1)",
                                    "1": "39"
                                },
                                {
                                    "0": "Fantastic Mr. Fox",
                                    "1": "39"
                                },
                                {
                                    "0": "Breath, Eyes, Memory",
                                    "1": "39"
                                },
                                {
                                    "0": "The Pearl",
                                    "1": "39"
                                },
                                {
                                    "0": "Complete Works of Oscar Wilde",
                                    "1": "39"
                                },
                                {
                                    "0": "Anne of Green Gables (Anne of Green Gables, #1)",
                                    "1": "38"
                                },
                                {
                                    "0": "Shopaholic Ties the Knot (Shopaholic, #3)",
                                    "1": "38"
                                },
                                {
                                    "0": "Tuesdays with Morrie",
                                    "1": "38"
                                },
                                {
                                    "0": "A People's History of the United States",
                                    "1": "38"
                                },
                                {
                                    "0": "Animal Farm / 1984",
                                    "1": "38"
                                },
                                {
                                    "0": "Howl's Moving Castle (Howl's Moving Castle, #1)",
                                    "1": "38"
                                },
                                {
                                    "0": "Generation X: Tales for an Accelerated Culture",
                                    "1": "37"
                                },
                                {
                                    "0": "Cradle to Cradle: Remaking the Way We Make Things",
                                    "1": "37"
                                },
                                {
                                    "0": "The Long Goodbye (Philip Marlowe, #6)",
                                    "1": "37"
                                },
                                {
                                    "0": "The Pillars of Creation (Sword of Truth, #7)",
                                    "1": "37"
                                },
                                {
                                    "0": "V.",
                                    "1": "37"
                                },
                                {
                                    "0": "Open House",
                                    "1": "37"
                                },
                                {
                                    "0": "Olivia Joules and the Overactive Imagination",
                                    "1": "37"
                                },
                                {
                                    "0": "Dragonfly in Amber (Outlander, #2)",
                                    "1": "37"
                                },
                                {
                                    "0": "The People of Sparks (Book of Ember, #2)",
                                    "1": "36"
                                },
                                {
                                    "0": "QED: The Strange Theory of Light and Matter",
                                    "1": "36"
                                },
                                {
                                    "0": "Code to Zero",
                                    "1": "36"
                                },
                                {
                                    "0": "Moo, Baa, La La La!",
                                    "1": "36"
                                },
                                {
                                    "0": "Islands in the Stream",
                                    "1": "36"
                                },
                                {
                                    "0": "The Legend of Luke (Redwall, #12)",
                                    "1": "36"
                                },
                                {
                                    "0": "Antigone (The Theban Plays, #3)",
                                    "1": "36"
                                },
                                {
                                    "0": "A Woman of Substance (Emma Harte Saga #1)",
                                    "1": "36"
                                },
                                {
                                    "0": "First They Killed My Father: A Daughter of Cambodia Remembers",
                                    "1": "36"
                                },
                                {
                                    "0": "Moloka'i",
                                    "1": "35"
                                },
                                {
                                    "0": "From Russia With Love (James Bond, #5)",
                                    "1": "35"
                                },
                                {
                                    "0": "Bleachers",
                                    "1": "35"
                                },
                                {
                                    "0": "All Families are Psychotic",
                                    "1": "35"
                                },
                                {
                                    "0": "The Stories of Eva Luna",
                                    "1": "35"
                                },
                                {
                                    "0": "Fight Club",
                                    "1": "35"
                                },
                                {
                                    "0": "Darwin's Dangerous Idea: Evolution and the Meanings of Life",
                                    "1": "35"
                                },
                                {
                                    "0": "Last Orders",
                                    "1": "35"
                                },
                                {
                                    "0": "Message in a Bottle",
                                    "1": "34"
                                },
                                {
                                    "0": "A Bend in the Road",
                                    "1": "34"
                                },
                                {
                                    "0": "Macbeth",
                                    "1": "34"
                                },
                                {
                                    "0": "Postmortem (Kay Scarpetta, #1)",
                                    "1": "34"
                                },
                                {
                                    "0": "Shadows of the Empire (Star Wars)",
                                    "1": "34"
                                },
                                {
                                    "0": "Boy: Tales of Childhood",
                                    "1": "34"
                                },
                                {
                                    "0": "Midwives",
                                    "1": "33"
                                },
                                {
                                    "0": "Speaker for the Dead (Ender's Saga, #2)",
                                    "1": "33"
                                },
                                {
                                    "0": "Ethan Frome",
                                    "1": "33"
                                },
                                {
                                    "0": "Sir Gawain and the Green Knight ",
                                    "1": "33"
                                },
                                {
                                    "0": "Breakfast of Champions",
                                    "1": "33"
                                },
                                {
                                    "0": "You Shall Know Our Velocity!",
                                    "1": "33"
                                },
                                {
                                    "0": "God Bless You, Mr. Rosewater",
                                    "1": "33"
                                },
                                {
                                    "0": "Prophet",
                                    "1": "33"
                                },
                                {
                                    "0": "'Tis (Frank McCourt, #2)",
                                    "1": "33"
                                },
                                {
                                    "0": "'Salem's Lot",
                                    "1": "33"
                                },
                                {
                                    "0": "The Old Man and the Sea",
                                    "1": "33"
                                },
                                {
                                    "0": "Trials of Death (Cirque Du Freak, #5)",
                                    "1": "32"
                                },
                                {
                                    "0": "Night Over Water",
                                    "1": "32"
                                },
                                {
                                    "0": "Four Blondes",
                                    "1": "32"
                                },
                                {
                                    "0": "Amsterdam",
                                    "1": "32"
                                },
                                {
                                    "0": "Four to Score (Stephanie Plum, #4)",
                                    "1": "32"
                                },
                                {
                                    "0": "Mayflower: A Story of Courage, Community, and War",
                                    "1": "32"
                                },
                                {
                                    "0": "The Giver (The Giver, #1)",
                                    "1": "32"
                                },
                                {
                                    "0": "The Drama of the Gifted Child: The Search for the True Self",
                                    "1": "32"
                                },
                                {
                                    "0": "The Burden of Proof",
                                    "1": "32"
                                },
                                {
                                    "0": "Cane River",
                                    "1": "32"
                                },
                                {
                                    "0": "Holy Cow: An Indian Adventure",
                                    "1": "31"
                                },
                                {
                                    "0": "How to Make Love Like a Porn Star: A Cautionary Tale",
                                    "1": "31"
                                },
                                {
                                    "0": "The Broom of the System",
                                    "1": "31"
                                },
                                {
                                    "0": "Howl and Other Poems",
                                    "1": "31"
                                },
                                {
                                    "0": "The Great Book of Amber (The Chronicles of Amber, #1-10)",
                                    "1": "31"
                                },
                                {
                                    "0": "Franny and Zooey",
                                    "1": "30"
                                },
                                {
                                    "0": "The Secret Garden",
                                    "1": "30"
                                },
                                {
                                    "0": "Naked",
                                    "1": "30"
                                },
                                {
                                    "0": "A Bend in the River",
                                    "1": "30"
                                },
                                {
                                    "0": "Jack: Straight from the Gut",
                                    "1": "30"
                                },
                                {
                                    "0": "The Millionaire Next Door: The Surprising Secrets of Americas Wealthy",
                                    "1": "30"
                                },
                                {
                                    "0": "Path of the Assassin (Scot Harvath, #2)",
                                    "1": "30"
                                },
                                {
                                    "0": "The Year of Magical Thinking",
                                    "1": "30"
                                },
                                {
                                    "0": "Rising Sun",
                                    "1": "29"
                                },
                                {
                                    "0": "Casino Royale (James Bond, #1)",
                                    "1": "29"
                                },
                                {
                                    "0": "By the River Piedra I Sat Down and Wept",
                                    "1": "29"
                                },
                                {
                                    "0": "The Unbearable Lightness of Being",
                                    "1": "29"
                                },
                                {
                                    "0": "Jackdaws",
                                    "1": "29"
                                },
                                {
                                    "0": "John Adams",
                                    "1": "29"
                                },
                                {
                                    "0": "Jurassic Park (Jurassic Park, #1)",
                                    "1": "29"
                                },
                                {
                                    "0": "To Have and Have Not",
                                    "1": "29"
                                },
                                {
                                    "0": "Unlimited Power : The New Science Of Personal Achievement",
                                    "1": "29"
                                },
                                {
                                    "0": "Another Roadside Attraction",
                                    "1": "29"
                                },
                                {
                                    "0": "A Modest Proposal and Other Satirical Works",
                                    "1": "29"
                                },
                                {
                                    "0": "Forever in Blue: The Fourth Summer of the Sisterhood (Sisterhood, #4)",
                                    "1": "29"
                                },
                                {
                                    "0": "Naked Lunch",
                                    "1": "29"
                                },
                                {
                                    "0": "The Secret Art of Dr. Seuss",
                                    "1": "29"
                                },
                                {
                                    "0": "Fried Green Tomatoes at the Whistle Stop Cafe",
                                    "1": "29"
                                },
                                {
                                    "0": "The King of Torts",
                                    "1": "28"
                                },
                                {
                                    "0": "The Big Bad Wolf  (Alex Cross, #9)",
                                    "1": "28"
                                },
                                {
                                    "0": "The Giraffe and the Pelly and Me",
                                    "1": "28"
                                },
                                {
                                    "0": "Killers of the Dawn (Cirque Du Freak, #9)",
                                    "1": "28"
                                },
                                {
                                    "0": "Life and Times of Michael K",
                                    "1": "28"
                                },
                                {
                                    "0": "Practicing the Power of Now: Essential Teachings, Meditations, and Exercises from the Power of Now",
                                    "1": "28"
                                },
                                {
                                    "0": "Marlfox (Redwall, #11)",
                                    "1": "28"
                                },
                                {
                                    "0": "Saturday",
                                    "1": "28"
                                },
                                {
                                    "0": "Reading Lolita in Tehran",
                                    "1": "28"
                                },
                                {
                                    "0": "The Pillars of the Earth (The Kingsbridge Series, #1)",
                                    "1": "28"
                                },
                                {
                                    "0": "East of Eden",
                                    "1": "27"
                                },
                                {
                                    "0": "The Jane Austen Book Club",
                                    "1": "27"
                                },
                                {
                                    "0": "Cry, the Beloved Country",
                                    "1": "27"
                                },
                                {
                                    "0": "Them: Adventures with Extremists",
                                    "1": "27"
                                },
                                {
                                    "0": "Lucy Sullivan Is Getting Married",
                                    "1": "27"
                                },
                                {
                                    "0": "Pygmalion",
                                    "1": "27"
                                },
                                {
                                    "0": "Three to Get Deadly (Stephanie Plum, #3)",
                                    "1": "27"
                                },
                                {
                                    "0": "Crow Lake",
                                    "1": "27"
                                },
                                {
                                    "0": "Twenty Years After (The D'Artagnan Romances, #2)",
                                    "1": "27"
                                },
                                {
                                    "0": "A Son of the Circus",
                                    "1": "26"
                                },
                                {
                                    "0": "The Man Who Listens to Horses",
                                    "1": "26"
                                },
                                {
                                    "0": "Dr. Seuss's ABC: An Amazing Alphabet Book! (Bright and Early Board Books)",
                                    "1": "26"
                                },
                                {
                                    "0": "The Language Instinct: How the Mind Creates Language",
                                    "1": "26"
                                },
                                {
                                    "0": "1984",
                                    "1": "26"
                                },
                                {
                                    "0": "Dispatches",
                                    "1": "26"
                                },
                                {
                                    "0": "number9dream",
                                    "1": "26"
                                },
                                {
                                    "0": "Blindness",
                                    "1": "26"
                                },
                                {
                                    "0": "Genome: the Autobiography of a Species in 23 Chapters",
                                    "1": "26"
                                },
                                {
                                    "0": "Brave New World",
                                    "1": "26"
                                },
                                {
                                    "0": "Danny the Champion of the World",
                                    "1": "26"
                                },
                                {
                                    "0": "Endymion (Hyperion Cantos, #3)",
                                    "1": "25"
                                },
                                {
                                    "0": "Lord of the Shadows (Cirque Du Freak, #11)",
                                    "1": "25"
                                },
                                {
                                    "0": "The House of the Spirits",
                                    "1": "25"
                                },
                                {
                                    "0": "The Good Husband of Zebra Drive (No. 1 Ladies' Detective Agency, #8)",
                                    "1": "25"
                                },
                                {
                                    "0": "From Potter's Field (Kay Scarpetta, #6)",
                                    "1": "25"
                                },
                                {
                                    "0": "Peter and the Shadow Thieves (Peter and the Starcatchers, #2)",
                                    "1": "25"
                                },
                                {
                                    "0": "Tears of the Giraffe (No. 1 Ladies' Detective Agency, #2)",
                                    "1": "25"
                                },
                                {
                                    "0": "The Vampire Prince (Cirque Du Freak, #6)",
                                    "1": "25"
                                },
                                {
                                    "0": "Microserfs",
                                    "1": "25"
                                },
                                {
                                    "0": "The Four Agreements: A Practical Guide to Personal Freedom",
                                    "1": "24"
                                },
                                {
                                    "0": "Cause of Death (Kay Scarpetta, #7)",
                                    "1": "24"
                                },
                                {
                                    "0": "Enchantment",
                                    "1": "24"
                                },
                                {
                                    "0": "Rainbow Six (Jack Ryan Universe, #10)",
                                    "1": "24"
                                },
                                {
                                    "0": "Goldfinger (James Bond, #7)",
                                    "1": "24"
                                },
                                {
                                    "0": "The Universe in a Nutshell",
                                    "1": "24"
                                },
                                {
                                    "0": "The Android's Dream",
                                    "1": "24"
                                },
                                {
                                    "0": "Dear John",
                                    "1": "24"
                                },
                                {
                                    "0": "Three Men in a Boat (Three Men, #1)",
                                    "1": "24"
                                },
                                {
                                    "0": "I Feel Bad about My Neck: And Other Thoughts on Being a Woman",
                                    "1": "24"
                                },
                                {
                                    "0": "The Men Who Stare at Goats",
                                    "1": "23"
                                },
                                {
                                    "0": "The Very Hungry Caterpillar Board Book",
                                    "1": "23"
                                },
                                {
                                    "0": "Airframe",
                                    "1": "23"
                                },
                                {
                                    "0": "The Drawing of the Three (The Dark Tower, #2)",
                                    "1": "23"
                                },
                                {
                                    "0": "Extremely Loud and Incredibly Close",
                                    "1": "23"
                                },
                                {
                                    "0": "Eiger Dreams: Ventures Among Men and Mountains",
                                    "1": "23"
                                },
                                {
                                    "0": "Mother Night",
                                    "1": "23"
                                },
                                {
                                    "0": "Reservation Blues",
                                    "1": "23"
                                },
                                {
                                    "0": "The Red Tent",
                                    "1": "23"
                                },
                                {
                                    "0": "Messenger of Truth (Maisie Dobbs, #4)",
                                    "1": "23"
                                },
                                {
                                    "0": "Farewell, My Lovely (Philip Marlowe, #2)",
                                    "1": "23"
                                },
                                {
                                    "0": "The Bourne Identity (Jason Bourne, #1)",
                                    "1": "23"
                                },
                                {
                                    "0": "Saving Fish from Drowning",
                                    "1": "22"
                                },
                                {
                                    "0": "The Idiot Girls' Action-Adventure Club: True Tales from a Magnificent and Clumsy Life",
                                    "1": "22"
                                },
                                {
                                    "0": "Enduring Love",
                                    "1": "22"
                                },
                                {
                                    "0": "The Fourth Hand",
                                    "1": "22"
                                },
                                {
                                    "0": "Hard Times",
                                    "1": "22"
                                },
                                {
                                    "0": "God Bless You, Dr. Kevorkian",
                                    "1": "22"
                                },
                                {
                                    "0": "A Fine Balance",
                                    "1": "22"
                                },
                                {
                                    "0": "Blue Like Jazz: Nonreligious Thoughts on Christian Spirituality",
                                    "1": "22"
                                },
                                {
                                    "0": "The Emperor's Children",
                                    "1": "22"
                                },
                                {
                                    "0": "Crime and Punishment",
                                    "1": "22"
                                },
                                {
                                    "0": "The Adventures of Huckleberry Finn",
                                    "1": "22"
                                },
                                {
                                    "0": "A Portrait of the Artist as a Young Man",
                                    "1": "22"
                                },
                                {
                                    "0": "Farmer Boy (Little House, #3)",
                                    "1": "22"
                                },
                                {
                                    "0": "The Chamber",
                                    "1": "22"
                                },
                                {
                                    "0": "The Silmarillion (Middle-Earth Universe)",
                                    "1": "21"
                                },
                                {
                                    "0": "Trace (Kay Scarpetta, #13)",
                                    "1": "21"
                                },
                                {
                                    "0": "Regeneration (Regeneration, #1)",
                                    "1": "21"
                                },
                                {
                                    "0": "The Elephant Vanishes",
                                    "1": "21"
                                },
                                {
                                    "0": "Cover Her Face (Adam Dalgliesh #1)",
                                    "1": "21"
                                },
                                {
                                    "0": "The Sea",
                                    "1": "21"
                                },
                                {
                                    "0": "Ten Apples Up On Top!",
                                    "1": "21"
                                },
                                {
                                    "0": "City of the Beasts (Eagle and Jaguar, #1)",
                                    "1": "21"
                                },
                                {
                                    "0": "Moonraker (James Bond, #3)",
                                    "1": "21"
                                },
                                {
                                    "0": "The Other Side of the Story",
                                    "1": "21"
                                },
                                {
                                    "0": "The BFG",
                                    "1": "21"
                                },
                                {
                                    "0": "The History of Sexuality, Volume 1: An Introduction",
                                    "1": "21"
                                },
                                {
                                    "0": "Ivanhoe",
                                    "1": "21"
                                },
                                {
                                    "0": "Eats, Shoots & Leaves: The Zero Tolerance Approach to Punctuation",
                                    "1": "21"
                                },
                                {
                                    "0": "Comfort Me with Apples: More Adventures at the Table",
                                    "1": "21"
                                },
                                {
                                    "0": "The No. 1 Ladies' Detective Agency  (No. 1 Ladies' Detective Agency, #1)",
                                    "1": "21"
                                },
                                {
                                    "0": "Confessions of a Shopaholic (Shopaholic, #1)",
                                    "1": "21"
                                },
                                {
                                    "0": "Three Weeks With My Brother",
                                    "1": "21"
                                },
                                {
                                    "0": "On Beauty",
                                    "1": "21"
                                },
                                {
                                    "0": "Olympos (Ilium, #2)",
                                    "1": "21"
                                },
                                {
                                    "0": "The Joy Luck Club",
                                    "1": "21"
                                },
                                {
                                    "0": "Little Town on the Prairie  (Little House, #7)",
                                    "1": "20"
                                },
                                {
                                    "0": "The Water-Method Man",
                                    "1": "20"
                                },
                                {
                                    "0": "Atonement",
                                    "1": "20"
                                },
                                {
                                    "0": "Drowning Ruth",
                                    "1": "20"
                                },
                                {
                                    "0": "Witches Abroad (Discworld, #12; Witches #3)",
                                    "1": "20"
                                },
                                {
                                    "0": "Gulliver's Travels",
                                    "1": "20"
                                },
                                {
                                    "0": "Shadow of the Giant (Ender's Shadow, #4)",
                                    "1": "20"
                                },
                                {
                                    "0": "The Five People You Meet in Heaven",
                                    "1": "20"
                                },
                                {
                                    "0": "Sickened: The Memoir of a Munchausen by Proxy Childhood",
                                    "1": "20"
                                },
                                {
                                    "0": "Allies of the Night (Cirque du Freak, #8)",
                                    "1": "20"
                                },
                                {
                                    "0": "The End of Poverty",
                                    "1": "20"
                                },
                                {
                                    "0": "Visions of Sugar Plums (Stephanie Plum, #8.5)",
                                    "1": "20"
                                },
                                {
                                    "0": "The Kalahari Typing School for Men (No. 1 Ladies' Detective Agency, #4)",
                                    "1": "19"
                                },
                                {
                                    "0": "Nine Stories",
                                    "1": "19"
                                },
                                {
                                    "0": "The Cat in the Hat and Other Dr. Seuss Favorites",
                                    "1": "19"
                                },
                                {
                                    "0": "Pardonable Lies (Maisie Dobbs, #3)",
                                    "1": "19"
                                },
                                {
                                    "0": "The Bonfire of the Vanities",
                                    "1": "19"
                                },
                                {
                                    "0": "The High Window (Philip Marlowe, #3)",
                                    "1": "19"
                                },
                                {
                                    "0": "Infinite Jest",
                                    "1": "19"
                                },
                                {
                                    "0": "Plum Lovin' (Stephanie Plum, #12.5)",
                                    "1": "19"
                                },
                                {
                                    "0": "Point of Origin (Kay Scarpetta, #9)",
                                    "1": "19"
                                },
                                {
                                    "0": "The Big Over Easy (Nursery Crime, #1)",
                                    "1": "19"
                                },
                                {
                                    "0": "Men Are from Mars, Women Are from Venus",
                                    "1": "19"
                                },
                                {
                                    "0": "Bridge to Terabithia",
                                    "1": "19"
                                },
                                {
                                    "0": "A Raisin in the Sun",
                                    "1": "19"
                                },
                                {
                                    "0": "Carrie / 'Salem's Lot / The Shining",
                                    "1": "18"
                                },
                                {
                                    "0": "The Body Farm (Kay Scarpetta, #5)",
                                    "1": "18"
                                },
                                {
                                    "0": "The Beautiful and Damned",
                                    "1": "18"
                                },
                                {
                                    "0": "Keep the Aspidistra Flying",
                                    "1": "18"
                                },
                                {
                                    "0": "Brave New World Revisited ",
                                    "1": "18"
                                },
                                {
                                    "0": "The Mermaid Chair",
                                    "1": "18"
                                },
                                {
                                    "0": "Execution: The Discipline of Getting Things Done",
                                    "1": "18"
                                },
                                {
                                    "0": "Girls in Pants: The Third Summer of the Sisterhood (Sisterhood, #3)",
                                    "1": "18"
                                },
                                {
                                    "0": "The Wind in the Willows",
                                    "1": "18"
                                },
                                {
                                    "0": "Shopaholic & Baby (Shopaholic, #5)",
                                    "1": "18"
                                },
                                {
                                    "0": "Glamorama",
                                    "1": "18"
                                },
                                {
                                    "0": "While I Was Gone",
                                    "1": "18"
                                },
                                {
                                    "0": "Cloudy With a Chance of Meatballs",
                                    "1": "18"
                                },
                                {
                                    "0": "Mother of Pearl",
                                    "1": "18"
                                },
                                {
                                    "0": "A Living Nightmare (Cirque Du Freak, #1)",
                                    "1": "18"
                                },
                                {
                                    "0": "Bagombo Snuff Box",
                                    "1": "18"
                                },
                                {
                                    "0": "V for Vendetta",
                                    "1": "17"
                                },
                                {
                                    "0": "Welcome to the Monkey House",
                                    "1": "17"
                                },
                                {
                                    "0": "Fall on Your Knees",
                                    "1": "17"
                                },
                                {
                                    "0": "Persepolis 2: The Story of a Return (Persepolis, #2)",
                                    "1": "17"
                                },
                                {
                                    "0": "The Glass Castle",
                                    "1": "17"
                                },
                                {
                                    "0": "Disclosure",
                                    "1": "17"
                                },
                                {
                                    "0": "Survival in Auschwitz",
                                    "1": "17"
                                },
                                {
                                    "0": "Last Chance to See",
                                    "1": "17"
                                },
                                {
                                    "0": "Suzanne's Diary for Nicholas",
                                    "1": "17"
                                },
                                {
                                    "0": "Animal Farm",
                                    "1": "17"
                                },
                                {
                                    "0": "The Metamorphosis and Other Stories",
                                    "1": "16"
                                },
                                {
                                    "0": "1421: The Year China Discovered America",
                                    "1": "16"
                                },
                                {
                                    "0": "Even Cowgirls Get the Blues",
                                    "1": "16"
                                },
                                {
                                    "0": "The Sun Also Rises",
                                    "1": "16"
                                },
                                {
                                    "0": "The Lake of Souls (Cirque Du Freak, #10)",
                                    "1": "16"
                                },
                                {
                                    "0": "The Informers",
                                    "1": "16"
                                },
                                {
                                    "0": "The Electric Kool-Aid Acid Test",
                                    "1": "16"
                                },
                                {
                                    "0": "Song of Susannah (The Dark Tower, #6)",
                                    "1": "16"
                                },
                                {
                                    "0": "World Without End (The Kingsbridge Series, #2)",
                                    "1": "16"
                                },
                                {
                                    "0": "Less Than Zero",
                                    "1": "16"
                                },
                                {
                                    "0": "The Red Pony",
                                    "1": "16"
                                },
                                {
                                    "0": "Player Piano",
                                    "1": "15"
                                },
                                {
                                    "0": "The Terror",
                                    "1": "15"
                                },
                                {
                                    "0": "By the Shores of Silver Lake  (Little House, #5)",
                                    "1": "15"
                                },
                                {
                                    "0": "Fear and Loathing on the Campaign Trail '72",
                                    "1": "15"
                                },
                                {
                                    "0": "Lord of the Flies",
                                    "1": "15"
                                },
                                {
                                    "0": "Don Quixote",
                                    "1": "15"
                                },
                                {
                                    "0": "Hocus Pocus",
                                    "1": "15"
                                },
                                {
                                    "0": "Dreamland",
                                    "1": "15"
                                },
                                {
                                    "0": "The Cider House Rules",
                                    "1": "15"
                                },
                                {
                                    "0": "The Poetry of Pablo Neruda",
                                    "1": "15"
                                },
                                {
                                    "0": "A Spot of Bother",
                                    "1": "15"
                                },
                                {
                                    "0": "Emma",
                                    "1": "15"
                                },
                                {
                                    "0": "Jewel",
                                    "1": "15"
                                },
                                {
                                    "0": "Jesus Freaks: Stories of Those Who Stood for Jesus, the Ultimate Jesus Freaks (Jesus Freaks, #1)",
                                    "1": "15"
                                },
                                {
                                    "0": "Five Little Peppers and How They Grew",
                                    "1": "15"
                                },
                                {
                                    "0": "Fear of Flying",
                                    "1": "14"
                                },
                                {
                                    "0": "Homage to Catalonia",
                                    "1": "14"
                                },
                                {
                                    "0": "Teacher Man (Frank McCourt, #3)",
                                    "1": "14"
                                },
                                {
                                    "0": "The Rules of Attraction",
                                    "1": "14"
                                },
                                {
                                    "0": "World War Z: An Oral History of the Zombie War",
                                    "1": "14"
                                },
                                {
                                    "0": "Diamonds Are Forever (James Bond, #4)",
                                    "1": "14"
                                },
                                {
                                    "0": "Where the Heart Is",
                                    "1": "14"
                                },
                                {
                                    "0": "In the Skin of a Lion",
                                    "1": "14"
                                },
                                {
                                    "0": "Oblivion",
                                    "1": "14"
                                },
                                {
                                    "0": "The Shipping News",
                                    "1": "14"
                                },
                                {
                                    "0": "In the Company of Cheerful Ladies (No. 1 Ladies' Detective Agency, #6)",
                                    "1": "14"
                                },
                                {
                                    "0": "The Long Patrol (Redwall, #10)",
                                    "1": "14"
                                },
                                {
                                    "0": "We Were the Mulvaneys",
                                    "1": "14"
                                },
                                {
                                    "0": "The Lost World (Jurassic Park, #2)",
                                    "1": "14"
                                },
                                {
                                    "0": "The Moonstone",
                                    "1": "14"
                                },
                                {
                                    "0": "Watermelon (Walsh Family, #1)",
                                    "1": "14"
                                },
                                {
                                    "0": "Bluebeard",
                                    "1": "13"
                                },
                                {
                                    "0": "What Do You Care What Other People Think?",
                                    "1": "13"
                                },
                                {
                                    "0": "Rose Daughter",
                                    "1": "13"
                                },
                                {
                                    "0": "Life, the Universe and Everything (Hitchhiker's Guide, #3)",
                                    "1": "12"
                                },
                                {
                                    "0": "Emily of New Moon (Emily, #1)",
                                    "1": "12"
                                },
                                {
                                    "0": "Two for the Dough (Stephanie Plum, #2)",
                                    "1": "12"
                                },
                                {
                                    "0": "Ender's Shadow (Ender's Shadow, #1)",
                                    "1": "12"
                                },
                                {
                                    "0": "Crossing to Safety",
                                    "1": "12"
                                },
                                {
                                    "0": "Rachel's Holiday (Walsh Family, #2)",
                                    "1": "12"
                                },
                                {
                                    "0": "Raise High the Roof Beam, Carpenters & Seymour: An Introduction",
                                    "1": "12"
                                },
                                {
                                    "0": "Redwall (Redwall, #1)",
                                    "1": "12"
                                },
                                {
                                    "0": "Salamandastron (Redwall, #5)",
                                    "1": "12"
                                },
                                {
                                    "0": "Book of the Dead (Kay Scarpetta, #15)",
                                    "1": "12"
                                },
                                {
                                    "0": "The Sirens of Titan",
                                    "1": "12"
                                },
                                {
                                    "0": "How to Stop Worrying and Start Living",
                                    "1": "12"
                                },
                                {
                                    "0": "Hot Six (Stephanie Plum, #6)",
                                    "1": "12"
                                },
                                {
                                    "0": "The Audacity of Hope: Thoughts on Reclaiming the American Dream",
                                    "1": "12"
                                },
                                {
                                    "0": "Year of Wonders",
                                    "1": "12"
                                },
                                {
                                    "0": "The Long Walk",
                                    "1": "12"
                                },
                                {
                                    "0": "Consider the Lobster and Other Essays",
                                    "1": "11"
                                },
                                {
                                    "0": "Phenomenology of Spirit",
                                    "1": "11"
                                },
                                {
                                    "0": "Demons",
                                    "1": "11"
                                },
                                {
                                    "0": "Birdsong",
                                    "1": "11"
                                },
                                {
                                    "0": "The Baron in the Trees",
                                    "1": "11"
                                },
                                {
                                    "0": "A Map of the World",
                                    "1": "11"
                                },
                                {
                                    "0": "Jitterbug Perfume",
                                    "1": "11"
                                },
                                {
                                    "0": "The Hound of the Baskervilles",
                                    "1": "11"
                                },
                                {
                                    "0": "What Is the What",
                                    "1": "10"
                                },
                                {
                                    "0": "On the Banks of Plum Creek  (Little House, #4)",
                                    "1": "10"
                                },
                                {
                                    "0": "Bleach, Volume 15",
                                    "1": "10"
                                },
                                {
                                    "0": "The Blank Slate: The Modern Denial of Human Nature",
                                    "1": "10"
                                },
                                {
                                    "0": "As the Crow Flies",
                                    "1": "10"
                                },
                                {
                                    "0": "The Client",
                                    "1": "10"
                                },
                                {
                                    "0": "Going Solo",
                                    "1": "10"
                                },
                                {
                                    "0": "James and the Giant Peach",
                                    "1": "9"
                                },
                                {
                                    "0": "Here on Earth",
                                    "1": "9"
                                },
                                {
                                    "0": "Desert Flower",
                                    "1": "9"
                                },
                                {
                                    "0": "The Vampire's Assistant (Cirque Du Freak, #2)",
                                    "1": "9"
                                },
                                {
                                    "0": "Red Prophet (Tales of Alvin Maker, #2)",
                                    "1": "9"
                                },
                                {
                                    "0": "Slapstick, or Lonesome No More!",
                                    "1": "9"
                                },
                                {
                                    "0": "Songbook",
                                    "1": "9"
                                },
                                {
                                    "0": "Bleach, Volume 01",
                                    "1": "9"
                                },
                                {
                                    "0": "Betsy-Tacy (Betsy-Tacy, #1)",
                                    "1": "9"
                                },
                                {
                                    "0": "Assassination Vacation",
                                    "1": "9"
                                },
                                {
                                    "0": "Wuthering Heights",
                                    "1": "9"
                                },
                                {
                                    "0": "The Moor's Last Sigh",
                                    "1": "9"
                                },
                                {
                                    "0": "Vanity Fair",
                                    "1": "8"
                                },
                                {
                                    "0": "Deception Point",
                                    "1": "8"
                                },
                                {
                                    "0": "Darkness",
                                    "1": "8"
                                },
                                {
                                    "0": "Awakening the Buddha Within: Tibetan Wisdom for the Western World",
                                    "1": "8"
                                },
                                {
                                    "0": "Fierce Invalids Home from Hot Climates",
                                    "1": "8"
                                },
                                {
                                    "0": "Xenocide (Ender's Saga, #3)",
                                    "1": "8"
                                },
                                {
                                    "0": "How We Are Hungry",
                                    "1": "8"
                                },
                                {
                                    "0": "Last Chance Saloon",
                                    "1": "8"
                                },
                                {
                                    "0": "The Comfort of Strangers",
                                    "1": "8"
                                },
                                {
                                    "0": "Midnight for Charlie Bone (The Children of the Red King, #1)",
                                    "1": "8"
                                },
                                {
                                    "0": "On Her Majesty's Secret Service (James Bond, #11)",
                                    "1": "8"
                                },
                                {
                                    "0": "Runaways, Vol. 1: Pride and Joy (Runaways, #1)",
                                    "1": "8"
                                },
                                {
                                    "0": "Shadow Divers",
                                    "1": "8"
                                },
                                {
                                    "0": "Shadow of the Hegemon (Ender's Shadow, #2)",
                                    "1": "8"
                                },
                                {
                                    "0": "She's Come Undone",
                                    "1": "8"
                                },
                                {
                                    "0": "Galápagos",
                                    "1": "7"
                                },
                                {
                                    "0": "The Count of Monte Cristo",
                                    "1": "7"
                                },
                                {
                                    "0": "Mrs. Frisby and the Rats of NIMH (Rats of NIMH, #1)",
                                    "1": "7"
                                },
                                {
                                    "0": "Bel Canto",
                                    "1": "7"
                                },
                                {
                                    "0": "Pale Fire",
                                    "1": "7"
                                },
                                {
                                    "0": "Predator (Kay Scarpetta, #14)",
                                    "1": "7"
                                },
                                {
                                    "0": "Skipping Christmas",
                                    "1": "7"
                                },
                                {
                                    "0": "Sons of Destiny (Cirque Du Freak, #12)",
                                    "1": "7"
                                },
                                {
                                    "0": "The Woman in the Dunes",
                                    "1": "6"
                                },
                                {
                                    "0": "Little Altars Everywhere",
                                    "1": "6"
                                },
                                {
                                    "0": "Shopaholic and Sister (Shopaholic, #4)",
                                    "1": "6"
                                },
                                {
                                    "0": "The Lorax",
                                    "1": "5"
                                },
                                {
                                    "0": "The Heart of a Woman",
                                    "1": "5"
                                },
                                {
                                    "0": "Hunters of the Dusk (Cirque Du Freak, #7)",
                                    "1": "5"
                                },
                                {
                                    "0": "I Can Read With My Eyes Shut!",
                                    "1": "5"
                                },
                                {
                                    "0": "King Rat (Asian Saga, #4)",
                                    "1": "5"
                                },
                                {
                                    "0": "A Virtuous Woman",
                                    "1": "5"
                                },
                                {
                                    "0": "The Quiet American",
                                    "1": "5"
                                },
                                {
                                    "0": "Pygmalion & My Fair Lady",
                                    "1": "5"
                                },
                                {
                                    "0": "Cradle and All",
                                    "1": "5"
                                },
                                {
                                    "0": "Superman: Birthright",
                                    "1": "5"
                                },
                                {
                                    "0": "The God of Small Things",
                                    "1": "4"
                                },
                                {
                                    "0": "The Complete Short Stories",
                                    "1": "4"
                                },
                                {
                                    "0": "The Power of Now: A Guide to Spiritual Enlightenment",
                                    "1": "4"
                                },
                                {
                                    "0": "Ahab's Wife, or The Star-Gazer",
                                    "1": "4"
                                },
                                {
                                    "0": "The Atonement Child",
                                    "1": "4"
                                },
                                {
                                    "0": "Still Life with Woodpecker",
                                    "1": "4"
                                },
                                {
                                    "0": "Cannery Row",
                                    "1": "4"
                                },
                                {
                                    "0": "Next",
                                    "1": "4"
                                },
                                {
                                    "0": "Never Let Me Go",
                                    "1": "4"
                                },
                                {
                                    "0": "Loving What Is: Four Questions That Can Change Your Life",
                                    "1": "4"
                                },
                                {
                                    "0": "Embroideries",
                                    "1": "4"
                                },
                                {
                                    "0": "I Hope They Serve Beer in Hell (Tucker Max, #1)",
                                    "1": "4"
                                },
                                {
                                    "0": "Freak the Mighty (Freak The Mighty, #1)",
                                    "1": "4"
                                },
                                {
                                    "0": "The Street Lawyer",
                                    "1": "3"
                                },
                                {
                                    "0": "The Bell Jar",
                                    "1": "3"
                                },
                                {
                                    "0": "The Canterbury Tales",
                                    "1": "3"
                                },
                                {
                                    "0": "Herzog",
                                    "1": "3"
                                },
                                {
                                    "0": "Haroun and the Sea of Stories (Khalifa Brothers, #1)",
                                    "1": "3"
                                },
                                {
                                    "0": "Sputnik Sweetheart",
                                    "1": "2"
                                },
                                {
                                    "0": "Deadeye Dick",
                                    "1": "2"
                                },
                                {
                                    "0": "The World According to Garp",
                                    "1": "2"
                                },
                                {
                                    "0": "Ghostwritten",
                                    "1": "2"
                                },
                                {
                                    "0": "The Bookseller of Kabul",
                                    "1": "1"
                                },
                                {
                                    "0": "The Divine Comedy",
                                    "1": "1"
                                }
                            ]
                        },
                        "text/html": [
                            "<table>",
                            "<tr><th>title</th><th>user_count</th></tr>",
                            "<tr><td>The Ultimate Hitchhiker's Guide to the Galaxy</td><td>1812</td></tr>",
                            "<tr><td>The Hitchhiker's Guide to the Galaxy (Hitchhiker's Guide to the Galaxy, #1)</td><td>1767</td></tr>",
                            "<tr><td>The Lord of the Rings: The Art of The Fellowship of the Ring</td><td>1499</td></tr>",
                            "<tr><td>Harry Potter Boxed Set, Books 1-5 (Harry Potter, #1-5)</td><td>1498</td></tr>",
                            "<tr><td>Harry Potter and the Goblet of Fire (Harry Potter, #4)</td><td>1484</td></tr>",
                            "<tr><td>The Known World</td><td>1352</td></tr>",
                            "<tr><td>Harry Potter and the Prisoner of Azkaban (Harry Potter, #3)</td><td>1293</td></tr>",
                            "<tr><td>The Lord of the Rings: Weapons and Warfare</td><td>1211</td></tr>",
                            "<tr><td>Notes from a Small Island</td><td>1148</td></tr>",
                            "<tr><td>Harry Potter Collection (Harry Potter, #1-6)</td><td>1110</td></tr>",
                            "<tr><td>The Lord of the Rings (The Lord of the Rings, #1-3)</td><td>1094</td></tr>",
                            "<tr><td>The Salmon of Doubt (Dirk Gently, #3)</td><td>1069</td></tr>",
                            "<tr><td>Dune Messiah (Dune Chronicles #2)</td><td>1051</td></tr>",
                            "<tr><td>Treasure Island</td><td>1040</td></tr>",
                            "<tr><td>Tropic of Cancer</td><td>1007</td></tr>",
                            "<tr><td>Harry Potter and the Half-Blood Prince (Harry Potter, #6)</td><td>973</td></tr>",
                            "<tr><td>Children of Dune (Dune Chronicles #3)</td><td>913</td></tr>",
                            "<tr><td>The Power of One (The Power of One, #1)</td><td>866</td></tr>",
                            "<tr><td>Heretics of Dune (Dune Chronicles #5)</td><td>815</td></tr>",
                            "<tr><td>J.R.R. Tolkien 4-Book Boxed Set: The Hobbit and The Lord of the Rings</td><td>801</td></tr>",
                            "<tr><td>Job: A Comedy of Justice</td><td>737</td></tr>",
                            "<tr><td>The Door Into Summer</td><td>724</td></tr>",
                            "<tr><td>Mostly Harmless (Hitchhiker's Guide to the Galaxy, #5)</td><td>696</td></tr>",
                            "<tr><td>I am Charlotte Simmons</td><td>661</td></tr>",
                            "<tr><td>The Broken Wings</td><td>659</td></tr>",
                            "<tr><td>Killing Yourself to Live: 85% of a True Story</td><td>608</td></tr>",
                            "<tr><td>The Portrait of a Lady</td><td>580</td></tr>",
                            "<tr><td>The Lover</td><td>567</td></tr>",
                            "<tr><td>Slouching Towards Bethlehem</td><td>564</td></tr>",
                            "<tr><td>We the Living</td><td>563</td></tr>",
                            "<tr><td>Cryptonomicon</td><td>551</td></tr>",
                            "<tr><td>Fullmetal Alchemist, Vol. 1 (Fullmetal Alchemist, #1)</td><td>533</td></tr>",
                            "<tr><td>Libra</td><td>525</td></tr>",
                            "<tr><td>Maurice</td><td>525</td></tr>",
                            "<tr><td>The Elegant Universe: Superstrings, Hidden Dimensions, and the Quest for the Ultimate Theory</td><td>524</td></tr>",
                            "<tr><td>Chapterhouse: Dune (Dune Chronicles #6)</td><td>513</td></tr>",
                            "<tr><td>One Hundred Years of Solitude</td><td>504</td></tr>",
                            "<tr><td>What to Expect the First Year (What to Expect)</td><td>495</td></tr>",
                            "<tr><td>I'm a Stranger Here Myself: Notes on Returning to America after Twenty Years Away</td><td>484</td></tr>",
                            "<tr><td>The Fellowship of the Ring (The Lord of the Rings, #1)</td><td>450</td></tr>",
                            "<tr><td>The Lost Continent: Travels in Small Town America</td><td>447</td></tr>",
                            "<tr><td>Everyday Italian: 125 Simple and Delicious Recipes</td><td>445</td></tr>",
                            "<tr><td>Heidi</td><td>439</td></tr>",
                            "<tr><td>Dirk Gently's Holistic Detective Agency (Dirk Gently #1)</td><td>438</td></tr>",
                            "<tr><td>Tropic of Capricorn</td><td>438</td></tr>",
                            "<tr><td>Neither Here nor There: Travels in Europe</td><td>438</td></tr>",
                            "<tr><td>City of Glass (The New York Trilogy, #1)</td><td>435</td></tr>",
                            "<tr><td>In a Sunburned Country</td><td>431</td></tr>",
                            "<tr><td>The Virtue of Selfishness: A New Concept of Egoism</td><td>430</td></tr>",
                            "<tr><td>A Short History of Nearly Everything</td><td>427</td></tr>",
                            "<tr><td>Harry Potter and the Order of the Phoenix (Harry Potter, #5)</td><td>400</td></tr>",
                            "<tr><td>Sherlock Holmes: The Complete Novels and Stories, Volume I</td><td>387</td></tr>",
                            "<tr><td>Daniel Deronda</td><td>385</td></tr>",
                            "<tr><td>Madame Bovary</td><td>384</td></tr>",
                            "<tr><td>Stranger in a Strange Land</td><td>374</td></tr>",
                            "<tr><td>Digging to America</td><td>373</td></tr>",
                            "<tr><td>The Da Vinci Code (Robert Langdon, #2)</td><td>372</td></tr>",
                            "<tr><td>The Mother Tongue: English and How It Got That Way</td><td>348</td></tr>",
                            "<tr><td>The Phantom Tollbooth</td><td>346</td></tr>",
                            "<tr><td>The Long Dark Tea-Time of the Soul (Dirk Gently, #2)</td><td>343</td></tr>",
                            "<tr><td>The Game: Penetrating the Secret Society of Pickup Artists</td><td>319</td></tr>",
                            "<tr><td>Breaking the Spell: Religion as a Natural Phenomenon</td><td>316</td></tr>",
                            "<tr><td>The Tipping Point: How Little Things Can Make a Big Difference</td><td>315</td></tr>",
                            "<tr><td>Robinson Crusoe</td><td>309</td></tr>",
                            "<tr><td>Agamemnon (Oresteia, #1)</td><td>306</td></tr>",
                            "<tr><td>Collapse: How Societies Choose to Fail or Succeed</td><td>306</td></tr>",
                            "<tr><td>Trump: The Art of the Deal</td><td>305</td></tr>",
                            "<tr><td>Harry Potter and the Sorcerer's Stone (Harry Potter, #1)</td><td>287</td></tr>",
                            "<tr><td>Fire Sea (The Death Gate Cycle, #3)</td><td>286</td></tr>",
                            "<tr><td>Wild Swans: Three Daughters of China</td><td>279</td></tr>",
                            "<tr><td>Metamorphoses</td><td>277</td></tr>",
                            "<tr><td>Think and Grow Rich: The Landmark Bestseller - Now Revised and Updated for the 21st Century</td><td>273</td></tr>",
                            "<tr><td>Hatchet (Brian's Saga, #1)</td><td>269</td></tr>",
                            "<tr><td>Middlesex</td><td>268</td></tr>",
                            "<tr><td>The Confusion (The Baroque Cycle, #2)</td><td>267</td></tr>",
                            "<tr><td>Hamlet</td><td>265</td></tr>",
                            "<tr><td>Atlas Shrugged</td><td>262</td></tr>",
                            "<tr><td>Snow Crash</td><td>261</td></tr>",
                            "<tr><td>Pompeii</td><td>260</td></tr>",
                            "<tr><td>The Odyssey</td><td>250</td></tr>",
                            "<tr><td>Leviathan</td><td>249</td></tr>",
                            "<tr><td>The Iliad/The Odyssey</td><td>240</td></tr>",
                            "<tr><td>Zodiac</td><td>240</td></tr>",
                            "<tr><td>The Diamond Age: or, A Young Lady's Illustrated Primer</td><td>239</td></tr>",
                            "<tr><td>Fahrenheit 451</td><td>236</td></tr>",
                            "<tr><td>Play It as It Lays</td><td>232</td></tr>",
                            "<tr><td>The Iliad</td><td>220</td></tr>",
                            "<tr><td>Corelli's Mandolin</td><td>219</td></tr>",
                            "<tr><td>The Brooklyn Follies</td><td>217</td></tr>",
                            "<tr><td>Gravity's Rainbow</td><td>217</td></tr>",
                            "<tr><td>Memoirs of a Geisha</td><td>213</td></tr>",
                            "<tr><td>Time Enough for Love</td><td>208</td></tr>",
                            "<tr><td>Moon Palace</td><td>207</td></tr>",
                            "<tr><td>The Design of Everyday Things</td><td>206</td></tr>",
                            "<tr><td>The Restaurant at the End of the Universe (Hitchhiker's Guide, #2)</td><td>202</td></tr>",
                            "<tr><td>Wild Fire (John Corey, #4)</td><td>198</td></tr>",
                            "<tr><td>Nickel and Dimed: On (Not) Getting By in America</td><td>195</td></tr>",
                            "<tr><td>Falling Angels</td><td>194</td></tr>",
                            "<tr><td>Martin Chuzzlewit</td><td>189</td></tr>",
                            "<tr><td>Giada's Family Dinners</td><td>189</td></tr>",
                            "<tr><td>Wild at Heart: Discovering the Secret of a Man's Soul</td><td>184</td></tr>",
                            "<tr><td>The New York Trilogy</td><td>182</td></tr>",
                            "<tr><td>Surely You're Joking, Mr. Feynman!: Adventures of a Curious Character</td><td>182</td></tr>",
                            "<tr><td>Sailing Alone Around the Room: New and Selected Poems</td><td>180</td></tr>",
                            "<tr><td>The Broker</td><td>180</td></tr>",
                            "<tr><td>A Separate Peace</td><td>178</td></tr>",
                            "<tr><td>Blue Ocean Strategy: How To Create Uncontested Market Space And Make The Competition Irrelevant</td><td>176</td></tr>",
                            "<tr><td>Liar's Poker</td><td>174</td></tr>",
                            "<tr><td>The War of Art: Break Through the Blocks &amp; Win Your Inner Creative Battles</td><td>174</td></tr>",
                            "<tr><td>War and Peace</td><td>174</td></tr>",
                            "<tr><td>A Million Little Pieces</td><td>172</td></tr>",
                            "<tr><td>A Home at the End of the World</td><td>169</td></tr>",
                            "<tr><td>The Crying of Lot 49</td><td>168</td></tr>",
                            "<tr><td>Another Bullshit Night in Suck City</td><td>166</td></tr>",
                            "<tr><td>Angels &amp; Demons  (Robert Langdon, #1)</td><td>166</td></tr>",
                            "<tr><td>West with the Night</td><td>164</td></tr>",
                            "<tr><td>The Natural Way to Draw</td><td>164</td></tr>",
                            "<tr><td>An Ideal Husband</td><td>162</td></tr>",
                            "<tr><td>A Painted House</td><td>162</td></tr>",
                            "<tr><td>Sentimental Education</td><td>161</td></tr>",
                            "<tr><td>Little Women (Little Women, #1)</td><td>157</td></tr>",
                            "<tr><td>The Oresteia  (Ορέστεια, #1-3)</td><td>157</td></tr>",
                            "<tr><td>Forever Amber </td><td>157</td></tr>",
                            "<tr><td>The Partner</td><td>156</td></tr>",
                            "<tr><td>I Like You: Hospitality Under the Influence</td><td>156</td></tr>",
                            "<tr><td>Brief Interviews with Hideous Men</td><td>154</td></tr>",
                            "<tr><td>Into the Wild</td><td>152</td></tr>",
                            "<tr><td>America (The Book): A Citizen's Guide to Democracy Inaction</td><td>152</td></tr>",
                            "<tr><td>Hard Eight (Stephanie Plum, #8)</td><td>149</td></tr>",
                            "<tr><td>The Zahir</td><td>149</td></tr>",
                            "<tr><td>Live and Let Die (James Bond, #2)</td><td>149</td></tr>",
                            "<tr><td>A Tale of Two Cities</td><td>148</td></tr>",
                            "<tr><td>The Deep End of the Ocean (Cappadora Family, #1)</td><td>147</td></tr>",
                            "<tr><td>Persuasion</td><td>147</td></tr>",
                            "<tr><td>Way of the Peaceful Warrior: A Book That Changes Lives</td><td>145</td></tr>",
                            "<tr><td>Howards End</td><td>143</td></tr>",
                            "<tr><td>The Innocent Man: Murder and Injustice in a Small Town</td><td>142</td></tr>",
                            "<tr><td>Anthem</td><td>142</td></tr>",
                            "<tr><td>White Teeth</td><td>142</td></tr>",
                            "<tr><td>The Book of Ruth</td><td>139</td></tr>",
                            "<tr><td>Snow Flower and the Secret Fan</td><td>139</td></tr>",
                            "<tr><td>The Taste of Home Cookbook</td><td>139</td></tr>",
                            "<tr><td>Lipstick Jungle</td><td>137</td></tr>",
                            "<tr><td>Shalimar the Clown</td><td>134</td></tr>",
                            "<tr><td>The Amazing Adventures of Kavalier &amp; Clay</td><td>129</td></tr>",
                            "<tr><td>Baltasar and Blimunda</td><td>129</td></tr>",
                            "<tr><td>The Innovator's Dilemma: The Revolutionary Book that Will Change the Way You Do Business (Collins Business Essentials)</td><td>127</td></tr>",
                            "<tr><td>Black Beauty</td><td>127</td></tr>",
                            "<tr><td>The Good Earth (House of Earth, #1)</td><td>126</td></tr>",
                            "<tr><td>The Hungry Tide</td><td>126</td></tr>",
                            "<tr><td>Zen and the Art of Motorcycle Maintenance: An Inquiry Into Values</td><td>125</td></tr>",
                            "<tr><td>The Richest Man in Babylon</td><td>123</td></tr>",
                            "<tr><td>Memories of My Melancholy Whores</td><td>123</td></tr>",
                            "<tr><td>Slaughterhouse-Five</td><td>123</td></tr>",
                            "<tr><td>The Plot Against America</td><td>118</td></tr>",
                            "<tr><td>Interpreter of Maladies</td><td>116</td></tr>",
                            "<tr><td>Quicksilver (The Baroque Cycle, #1)</td><td>116</td></tr>",
                            "<tr><td>The Heart of the Matter</td><td>116</td></tr>",
                            "<tr><td>Villa Incognito</td><td>115</td></tr>",
                            "<tr><td>The Automatic Millionaire: A Powerful One-Step Plan to Live and Finish Rich</td><td>114</td></tr>",
                            "<tr><td>From Beirut to Jerusalem</td><td>114</td></tr>",
                            "<tr><td>Freakonomics: A Rogue Economist Explores the Hidden Side of Everything (Freakonomics, #1)</td><td>113</td></tr>",
                            "<tr><td>From the Mixed-Up Files of Mrs. Basil E. Frankweiler</td><td>112</td></tr>",
                            "<tr><td>High Five (Stephanie Plum, #5)</td><td>111</td></tr>",
                            "<tr><td>Truman</td><td>110</td></tr>",
                            "<tr><td>The History of Love</td><td>110</td></tr>",
                            "<tr><td>The List</td><td>110</td></tr>",
                            "<tr><td>The Westing Game</td><td>109</td></tr>",
                            "<tr><td>Sex, Drugs, and Cocoa Puffs: A Low Culture Manifesto</td><td>108</td></tr>",
                            "<tr><td>The Way the Crow Flies</td><td>108</td></tr>",
                            "<tr><td>One Fish, Two Fish, Red Fish, Blue Fish</td><td>107</td></tr>",
                            "<tr><td>Lost Horizon</td><td>107</td></tr>",
                            "<tr><td>The Wedding (The Notebook, #2)</td><td>107</td></tr>",
                            "<tr><td>The Johnstown Flood</td><td>106</td></tr>",
                            "<tr><td>A Room with a View</td><td>106</td></tr>",
                            "<tr><td>Perfume: The Story of a Murderer</td><td>105</td></tr>",
                            "<tr><td>The Complete Sherlock Holmes, Vol 2</td><td>105</td></tr>",
                            "<tr><td>The World Is Flat: A Brief History of the Twenty-first Century</td><td>105</td></tr>",
                            "<tr><td>Sex and the City</td><td>104</td></tr>",
                            "<tr><td>A Case of Need</td><td>104</td></tr>",
                            "<tr><td>The Bone Collector (Lincoln Rhyme, #1)</td><td>103</td></tr>",
                            "<tr><td>No Logo</td><td>102</td></tr>",
                            "<tr><td>A Little Princess</td><td>102</td></tr>",
                            "<tr><td>The Grapes of Wrath</td><td>100</td></tr>",
                            "<tr><td>So Long, and Thanks for All the Fish (Hitchhiker's Guide to the Galaxy, #4)</td><td>99</td></tr>",
                            "<tr><td>American Gods (American Gods, #1)</td><td>99</td></tr>",
                            "<tr><td>The Egypt Game (Game, #1)</td><td>99</td></tr>",
                            "<tr><td>The Rapture of Canaan</td><td>99</td></tr>",
                            "<tr><td>Hey Nostradamus!</td><td>98</td></tr>",
                            "<tr><td>Kurt Vonnegut's Cat's Cradle (Modern Critical Interpretations)</td><td>97</td></tr>",
                            "<tr><td>Economics in One Lesson: The Shortest &amp; Surest Way to Understand Basic Economics</td><td>96</td></tr>",
                            "<tr><td>Until I Find You</td><td>96</td></tr>",
                            "<tr><td>Lysistrata</td><td>95</td></tr>",
                            "<tr><td>The Physician (Cole Family Trilogy, #1)</td><td>95</td></tr>",
                            "<tr><td>Guns, Germs, and Steel: The Fates of Human Societies</td><td>94</td></tr>",
                            "<tr><td>Of Mice and Men</td><td>93</td></tr>",
                            "<tr><td>Harry Potter Schoolbooks Box Set: Two Classic Books from the Library of Hogwarts School of Witchcraft and Wizardry</td><td>92</td></tr>",
                            "<tr><td>The River (Brian's Saga, #2)</td><td>92</td></tr>",
                            "<tr><td>Twenty Love Poems and a Song of Despair</td><td>92</td></tr>",
                            "<tr><td>A Great and Terrible Beauty (Gemma Doyle, #1)</td><td>92</td></tr>",
                            "<tr><td>Songs in Ordinary Time</td><td>91</td></tr>",
                            "<tr><td>Tunnels of Blood (Cirque Du Freak, #3)</td><td>90</td></tr>",
                            "<tr><td>Fast Food Nation: The Dark Side of the All-American Meal</td><td>90</td></tr>",
                            "<tr><td>Congo</td><td>90</td></tr>",
                            "<tr><td>The Complete Anne of Green Gables Boxed Set (Anne of Green Gables, #1-8)</td><td>89</td></tr>",
                            "<tr><td>The Hobbit</td><td>89</td></tr>",
                            "<tr><td>Into Thin Air: A Personal Account of the Mount Everest Disaster</td><td>88</td></tr>",
                            "<tr><td>Wolves of the Calla (The Dark Tower, #5)</td><td>88</td></tr>",
                            "<tr><td>Warrior of the Light</td><td>88</td></tr>",
                            "<tr><td>Ilium (Ilium, #1)</td><td>88</td></tr>",
                            "<tr><td>Sunshine</td><td>87</td></tr>",
                            "<tr><td>Prep</td><td>87</td></tr>",
                            "<tr><td>The Complete Short Novels</td><td>86</td></tr>",
                            "<tr><td>Kafka on the Shore</td><td>86</td></tr>",
                            "<tr><td>The Adventures of Sherlock Holmes</td><td>86</td></tr>",
                            "<tr><td>Heart of Darkness</td><td>84</td></tr>",
                            "<tr><td>Veronika Decides to Die</td><td>84</td></tr>",
                            "<tr><td>Moneyball: The Art of Winning an Unfair Game</td><td>83</td></tr>",
                            "<tr><td>The America's Test Kitchen Family Cookbook</td><td>83</td></tr>",
                            "<tr><td>The Fountainhead</td><td>83</td></tr>",
                            "<tr><td>Team of Rivals: The Political Genius of Abraham Lincoln</td><td>83</td></tr>",
                            "<tr><td>True Believer (Jeremy Marsh &amp; Lexie Darnell, #1)</td><td>83</td></tr>",
                            "<tr><td>Complications: A Surgeon's Notes on an Imperfect Science</td><td>82</td></tr>",
                            "<tr><td>Stranger than Fiction</td><td>82</td></tr>",
                            "<tr><td>Brave New World / Brave New World Revisited</td><td>82</td></tr>",
                            "<tr><td>Like Water for Chocolate</td><td>81</td></tr>",
                            "<tr><td>All the Names</td><td>81</td></tr>",
                            "<tr><td>The 48 Laws of Power</td><td>81</td></tr>",
                            "<tr><td>A Midsummer Night's Dream</td><td>81</td></tr>",
                            "<tr><td>The Pilot's Wife</td><td>81</td></tr>",
                            "<tr><td>The Long Walk: The True Story of a Trek to Freedom</td><td>80</td></tr>",
                            "<tr><td>The View from Saturday</td><td>79</td></tr>",
                            "<tr><td>The Power and the Glory</td><td>79</td></tr>",
                            "<tr><td>The Histories</td><td>79</td></tr>",
                            "<tr><td>The Wonderful Story of Henry Sugar and Six More</td><td>79</td></tr>",
                            "<tr><td>The Amber Room</td><td>78</td></tr>",
                            "<tr><td>The Curious Incident of the Dog in the Night-Time</td><td>78</td></tr>",
                            "<tr><td>The Bellmaker (Redwall, #7)</td><td>77</td></tr>",
                            "<tr><td>Truth and Beauty</td><td>77</td></tr>",
                            "<tr><td>The Long Winter (Little House, #6)</td><td>77</td></tr>",
                            "<tr><td>All the King's Men</td><td>76</td></tr>",
                            "<tr><td>The Lost Boy (Dave Pelzer #2)</td><td>76</td></tr>",
                            "<tr><td>My Name is Red</td><td>75</td></tr>",
                            "<tr><td>Revolting Rhymes</td><td>74</td></tr>",
                            "<tr><td>The Rainmaker</td><td>74</td></tr>",
                            "<tr><td>Six Easy Pieces: Essentials of Physics By Its Most Brilliant Teacher</td><td>73</td></tr>",
                            "<tr><td>The Alchemist</td><td>73</td></tr>",
                            "<tr><td>A Widow for One Year</td><td>73</td></tr>",
                            "<tr><td>Pride and Prejudice</td><td>71</td></tr>",
                            "<tr><td>The Dark Tower (The Dark Tower, #7)</td><td>71</td></tr>",
                            "<tr><td>A Lesson Before Dying</td><td>71</td></tr>",
                            "<tr><td>The Summons</td><td>70</td></tr>",
                            "<tr><td>Girl with a Pearl Earring</td><td>70</td></tr>",
                            "<tr><td>Getting Things Done: The Art of Stress-Free Productivity</td><td>70</td></tr>",
                            "<tr><td>How to Win Friends and Influence People</td><td>69</td></tr>",
                            "<tr><td>Timbuktu</td><td>69</td></tr>",
                            "<tr><td>Narcissus and Goldmund</td><td>69</td></tr>",
                            "<tr><td>The War of the Worlds</td><td>69</td></tr>",
                            "<tr><td>A History of the World in 6 Glasses</td><td>69</td></tr>",
                            "<tr><td>Blind Willow, Sleeping Woman</td><td>68</td></tr>",
                            "<tr><td>It's Not About the Bike: My Journey Back to Life</td><td>68</td></tr>",
                            "<tr><td>The Rescue</td><td>68</td></tr>",
                            "<tr><td>The Picture of Dorian Gray</td><td>68</td></tr>",
                            "<tr><td>The Omnivore's Dilemma: A Natural History of Four Meals</td><td>68</td></tr>",
                            "<tr><td>The Testament</td><td>67</td></tr>",
                            "<tr><td>The Snows of Kilimanjaro and Other Stories</td><td>67</td></tr>",
                            "<tr><td>The Pilgrimage</td><td>67</td></tr>",
                            "<tr><td>Rachael Ray 365: No Repeats: A Year of Deliciously Different Dinners</td><td>67</td></tr>",
                            "<tr><td>A History of God: The 4,000-Year Quest of Judaism, Christianity, and Islam</td><td>67</td></tr>",
                            "<tr><td>The Barefoot Contessa Cookbook</td><td>66</td></tr>",
                            "<tr><td>The Autograph Man</td><td>65</td></tr>",
                            "<tr><td>Half Asleep in Frog Pajamas</td><td>65</td></tr>",
                            "<tr><td>Ways of Seeing</td><td>65</td></tr>",
                            "<tr><td>The Second Summer of the Sisterhood (Sisterhood, #2)</td><td>65</td></tr>",
                            "<tr><td>A House for Mr Biswas</td><td>65</td></tr>",
                            "<tr><td>Lolita</td><td>64</td></tr>",
                            "<tr><td>A Briefer History of Time</td><td>64</td></tr>",
                            "<tr><td>Horton Hears a Who!</td><td>64</td></tr>",
                            "<tr><td>The Brethren</td><td>64</td></tr>",
                            "<tr><td>Inés of My Soul</td><td>64</td></tr>",
                            "<tr><td>The Three Musketeers</td><td>64</td></tr>",
                            "<tr><td>Jailbird</td><td>63</td></tr>",
                            "<tr><td>Lunar Park</td><td>63</td></tr>",
                            "<tr><td>Beloved</td><td>63</td></tr>",
                            "<tr><td>The Shadow of the Wind (The Cemetery of Forgotten Books,  #1)</td><td>62</td></tr>",
                            "<tr><td>Great Expectations</td><td>62</td></tr>",
                            "<tr><td>His Excellency: George Washington</td><td>62</td></tr>",
                            "<tr><td>Founding Brothers: The Revolutionary Generation</td><td>62</td></tr>",
                            "<tr><td>Selected Stories</td><td>61</td></tr>",
                            "<tr><td>Built to Last: Successful Habits of Visionary Companies</td><td>61</td></tr>",
                            "<tr><td>The Virgin Blue</td><td>61</td></tr>",
                            "<tr><td>The Short Stories</td><td>61</td></tr>",
                            "<tr><td>Doctor No (James Bond, #6)</td><td>60</td></tr>",
                            "<tr><td>Do Androids Dream of Electric Sheep?</td><td>60</td></tr>",
                            "<tr><td>Fear and Loathing in Las Vegas</td><td>60</td></tr>",
                            "<tr><td>Charlie and the Great Glass Elevator (Charlie Bucket, #2)</td><td>60</td></tr>",
                            "<tr><td>Timequake</td><td>60</td></tr>",
                            "<tr><td>The Fortress of Solitude</td><td>60</td></tr>",
                            "<tr><td>Mariel of Redwall (Redwall, #4)</td><td>60</td></tr>",
                            "<tr><td>Don't Make Me Think: A Common Sense Approach to Web Usability</td><td>60</td></tr>",
                            "<tr><td>1776</td><td>59</td></tr>",
                            "<tr><td>Burmese Days</td><td>59</td></tr>",
                            "<tr><td>Man's Search for Meaning</td><td>59</td></tr>",
                            "<tr><td>What Looks Like Crazy on an Ordinary Day (Idlewild, #1)</td><td>59</td></tr>",
                            "<tr><td>The Devil and Miss Prym (On the Seventh Day, #3)</td><td>59</td></tr>",
                            "<tr><td>The Man From St. Petersburg</td><td>59</td></tr>",
                            "<tr><td>A Moveable Feast</td><td>58</td></tr>",
                            "<tr><td>Going After Cacciato</td><td>58</td></tr>",
                            "<tr><td>The Smoke Jumper</td><td>58</td></tr>",
                            "<tr><td>The Valkyries</td><td>58</td></tr>",
                            "<tr><td>The Five Love Languages of Children</td><td>58</td></tr>",
                            "<tr><td>Vampire Mountain (Cirque Du Freak, #4)</td><td>58</td></tr>",
                            "<tr><td>Carter Beats the Devil</td><td>58</td></tr>",
                            "<tr><td>Oedipus Rex  (The Theban Plays, #1)</td><td>57</td></tr>",
                            "<tr><td>The Firm (Penguin Readers, Level 5)</td><td>57</td></tr>",
                            "<tr><td>The Road</td><td>57</td></tr>",
                            "<tr><td>My Life in France</td><td>57</td></tr>",
                            "<tr><td>The Path Between the Seas: The Creation of the Panama Canal, 1870-1914</td><td>57</td></tr>",
                            "<tr><td>Night (The Night Trilogy #1)</td><td>57</td></tr>",
                            "<tr><td>Anil's Ghost</td><td>57</td></tr>",
                            "<tr><td>Salt: A World History</td><td>57</td></tr>",
                            "<tr><td>The Beach House</td><td>56</td></tr>",
                            "<tr><td>Portrait of a Killer: Jack the Ripper - Case Closed</td><td>56</td></tr>",
                            "<tr><td>In Our Time</td><td>56</td></tr>",
                            "<tr><td>Anansi Boys</td><td>56</td></tr>",
                            "<tr><td>Deerskin</td><td>56</td></tr>",
                            "<tr><td>Morality for Beautiful Girls (No. 1 Ladies' Detective Agency, #3)</td><td>56</td></tr>",
                            "<tr><td>Eleven Minutes</td><td>55</td></tr>",
                            "<tr><td>Longitude: The True Story of a Lone Genius Who Solved the Greatest Scientific Problem of His Time</td><td>55</td></tr>",
                            "<tr><td>A Christmas Carol</td><td>55</td></tr>",
                            "<tr><td>The First Four Years  (Little House, #9)</td><td>55</td></tr>",
                            "<tr><td>Love in the Time of Cholera</td><td>54</td></tr>",
                            "<tr><td>My Friend Leonard</td><td>54</td></tr>",
                            "<tr><td>The Brothers Karamazov</td><td>54</td></tr>",
                            "<tr><td>The Clan of the Cave Bear (Earth's Children, #1)</td><td>53</td></tr>",
                            "<tr><td>A Man Without a Country</td><td>53</td></tr>",
                            "<tr><td>The Corrections</td><td>53</td></tr>",
                            "<tr><td>The Aleph and Other Stories </td><td>53</td></tr>",
                            "<tr><td>The Shadow Rising (Wheel of Time, #4)</td><td>53</td></tr>",
                            "<tr><td>Charlie and the Chocolate Factory (Charlie Bucket, #1)</td><td>53</td></tr>",
                            "<tr><td>In the Lake of the Woods</td><td>53</td></tr>",
                            "<tr><td>Blink</td><td>52</td></tr>",
                            "<tr><td>Me Talk Pretty One Day</td><td>52</td></tr>",
                            "<tr><td>The Fifth Mountain</td><td>51</td></tr>",
                            "<tr><td>Suffer the Children</td><td>51</td></tr>",
                            "<tr><td>Pearls of Lutra (Redwall, #9)</td><td>50</td></tr>",
                            "<tr><td>Persepolis: The Story of a Childhood (Persepolis, #1)</td><td>50</td></tr>",
                            "<tr><td>To Kill a Mockingbird</td><td>50</td></tr>",
                            "<tr><td>Paradise</td><td>50</td></tr>",
                            "<tr><td>Eaters of the Dead</td><td>50</td></tr>",
                            "<tr><td>The Club Dumas</td><td>50</td></tr>",
                            "<tr><td>Special Topics in Calamity Physics</td><td>50</td></tr>",
                            "<tr><td>The Winter of Our Discontent</td><td>49</td></tr>",
                            "<tr><td>How to Be Good</td><td>49</td></tr>",
                            "<tr><td>The Call of the Wild</td><td>49</td></tr>",
                            "<tr><td>Timeline</td><td>48</td></tr>",
                            "<tr><td>The Cement Garden</td><td>48</td></tr>",
                            "<tr><td>Icy Sparks</td><td>48</td></tr>",
                            "<tr><td>Mornings on Horseback</td><td>48</td></tr>",
                            "<tr><td>A Walk in the Woods</td><td>48</td></tr>",
                            "<tr><td>The Great Gatsby</td><td>48</td></tr>",
                            "<tr><td>Outcast of Redwall (Redwall, #8)</td><td>48</td></tr>",
                            "<tr><td>The Ground Beneath Her Feet</td><td>48</td></tr>",
                            "<tr><td>Twelfth Night</td><td>48</td></tr>",
                            "<tr><td>Travels with Charley: In Search of America</td><td>48</td></tr>",
                            "<tr><td>Life of Pi</td><td>48</td></tr>",
                            "<tr><td>Black and Blue</td><td>47</td></tr>",
                            "<tr><td>The Doors of Perception &amp; Heaven and Hell</td><td>47</td></tr>",
                            "<tr><td>The Poisonwood Bible</td><td>47</td></tr>",
                            "<tr><td>Unfinished Tales of Númenor and Middle-Earth</td><td>47</td></tr>",
                            "<tr><td>The Good Soldier</td><td>47</td></tr>",
                            "<tr><td>Gates of Fire: An Epic Novel of the Battle of Thermopylae</td><td>47</td></tr>",
                            "<tr><td>The Andromeda Strain</td><td>47</td></tr>",
                            "<tr><td>The Witches</td><td>47</td></tr>",
                            "<tr><td>A Heartbreaking Work of Staggering Genius</td><td>46</td></tr>",
                            "<tr><td>Brokeback Mountain</td><td>46</td></tr>",
                            "<tr><td>Motor Mouth (Alex Barnaby #2)</td><td>46</td></tr>",
                            "<tr><td>A Brief History of Time</td><td>46</td></tr>",
                            "<tr><td>Confessions of an Economic Hit Man</td><td>45</td></tr>",
                            "<tr><td>The Pragmatic Programmer: From Journeyman to Master</td><td>45</td></tr>",
                            "<tr><td>In Search of Excellence: Lessons from America's Best-Run Companies</td><td>45</td></tr>",
                            "<tr><td>Women in Love (Brangwen Family, #2)</td><td>45</td></tr>",
                            "<tr><td>A Walk to Remember</td><td>45</td></tr>",
                            "<tr><td>The Devil Wears Prada (The Devil Wears Prada, #1)</td><td>45</td></tr>",
                            "<tr><td>Wizard and Glass (The Dark Tower, #4)</td><td>44</td></tr>",
                            "<tr><td>The Thorn Birds</td><td>44</td></tr>",
                            "<tr><td>The Time Machine</td><td>44</td></tr>",
                            "<tr><td>Skinny Legs and All</td><td>44</td></tr>",
                            "<tr><td>Who Moved My Cheese?</td><td>44</td></tr>",
                            "<tr><td>The Terminal Man</td><td>44</td></tr>",
                            "<tr><td>A Supposedly Fun Thing I'll Never Do Again:  Essays and Arguments</td><td>44</td></tr>",
                            "<tr><td>The First World War</td><td>44</td></tr>",
                            "<tr><td>About a Boy</td><td>44</td></tr>",
                            "<tr><td>Paris to the Moon</td><td>44</td></tr>",
                            "<tr><td>The Prophet</td><td>43</td></tr>",
                            "<tr><td>The Catcher in the Rye</td><td>43</td></tr>",
                            "<tr><td>The Oedipus Cycle: Oedipus Rex/Oedipus at Colonus/Antigone (The Theban Plays, #1–3)</td><td>43</td></tr>",
                            "<tr><td>Invisible Cities</td><td>43</td></tr>",
                            "<tr><td>The Great Train Robbery</td><td>43</td></tr>",
                            "<tr><td>The Big Sleep (Philip Marlowe, #1)</td><td>43</td></tr>",
                            "<tr><td>La Dame aux Camélias</td><td>43</td></tr>",
                            "<tr><td>Holidays on Ice</td><td>43</td></tr>",
                            "<tr><td>The Magic Finger (Young Puffin Developing Reader)</td><td>43</td></tr>",
                            "<tr><td>The 158-Pound Marriage</td><td>43</td></tr>",
                            "<tr><td>Tara Road</td><td>43</td></tr>",
                            "<tr><td>Persepolis, Volume 1</td><td>42</td></tr>",
                            "<tr><td>Papillon</td><td>42</td></tr>",
                            "<tr><td>All-of-a-Kind Family (All-of-a-Kind Family, #1)</td><td>42</td></tr>",
                            "<tr><td>One for the Money (Stephanie Plum, #1)</td><td>42</td></tr>",
                            "<tr><td>Anne Frank Remembered: The Story of the Woman Who Helped to Hide the Frank Family</td><td>42</td></tr>",
                            "<tr><td>Barrel Fever: Stories and Essays</td><td>42</td></tr>",
                            "<tr><td>The Woman in White</td><td>41</td></tr>",
                            "<tr><td>Shopaholic Takes Manhattan (Shopaholic, #2)</td><td>41</td></tr>",
                            "<tr><td>Waiting for the Barbarians</td><td>41</td></tr>",
                            "<tr><td>A Christmas Carol and Other Christmas Writings</td><td>41</td></tr>",
                            "<tr><td>Maximum City: Bombay Lost and Found</td><td>41</td></tr>",
                            "<tr><td>Girlfriend in a Coma</td><td>41</td></tr>",
                            "<tr><td>Twelve Sharp (Stephanie Plum, #12)</td><td>41</td></tr>",
                            "<tr><td>A Prayer for Owen Meany</td><td>40</td></tr>",
                            "<tr><td>Disgrace</td><td>40</td></tr>",
                            "<tr><td>Marina</td><td>40</td></tr>",
                            "<tr><td>Anne Frank: Beyond the Diary - A Photographic Remembrance</td><td>40</td></tr>",
                            "<tr><td>Fever Pitch</td><td>40</td></tr>",
                            "<tr><td>Seven Up (Stephanie Plum, #7)</td><td>40</td></tr>",
                            "<tr><td>The Last Juror</td><td>40</td></tr>",
                            "<tr><td>Little House in the Big Woods (Little House, #1)</td><td>39</td></tr>",
                            "<tr><td>Fantastic Mr. Fox</td><td>39</td></tr>",
                            "<tr><td>Breath, Eyes, Memory</td><td>39</td></tr>",
                            "<tr><td>The Pearl</td><td>39</td></tr>",
                            "<tr><td>Complete Works of Oscar Wilde</td><td>39</td></tr>",
                            "<tr><td>Anne of Green Gables (Anne of Green Gables, #1)</td><td>38</td></tr>",
                            "<tr><td>Shopaholic Ties the Knot (Shopaholic, #3)</td><td>38</td></tr>",
                            "<tr><td>Tuesdays with Morrie</td><td>38</td></tr>",
                            "<tr><td>A People's History of the United States</td><td>38</td></tr>",
                            "<tr><td>Animal Farm / 1984</td><td>38</td></tr>",
                            "<tr><td>Howl's Moving Castle (Howl's Moving Castle, #1)</td><td>38</td></tr>",
                            "<tr><td>Generation X: Tales for an Accelerated Culture</td><td>37</td></tr>",
                            "<tr><td>Cradle to Cradle: Remaking the Way We Make Things</td><td>37</td></tr>",
                            "<tr><td>The Long Goodbye (Philip Marlowe, #6)</td><td>37</td></tr>",
                            "<tr><td>The Pillars of Creation (Sword of Truth, #7)</td><td>37</td></tr>",
                            "<tr><td>V.</td><td>37</td></tr>",
                            "<tr><td>Open House</td><td>37</td></tr>",
                            "<tr><td>Olivia Joules and the Overactive Imagination</td><td>37</td></tr>",
                            "<tr><td>Dragonfly in Amber (Outlander, #2)</td><td>37</td></tr>",
                            "<tr><td>The People of Sparks (Book of Ember, #2)</td><td>36</td></tr>",
                            "<tr><td>QED: The Strange Theory of Light and Matter</td><td>36</td></tr>",
                            "<tr><td>Code to Zero</td><td>36</td></tr>",
                            "<tr><td>Moo, Baa, La La La!</td><td>36</td></tr>",
                            "<tr><td>Islands in the Stream</td><td>36</td></tr>",
                            "<tr><td>The Legend of Luke (Redwall, #12)</td><td>36</td></tr>",
                            "<tr><td>Antigone (The Theban Plays, #3)</td><td>36</td></tr>",
                            "<tr><td>A Woman of Substance (Emma Harte Saga #1)</td><td>36</td></tr>",
                            "<tr><td>First They Killed My Father: A Daughter of Cambodia Remembers</td><td>36</td></tr>",
                            "<tr><td>Moloka'i</td><td>35</td></tr>",
                            "<tr><td>From Russia With Love (James Bond, #5)</td><td>35</td></tr>",
                            "<tr><td>Bleachers</td><td>35</td></tr>",
                            "<tr><td>All Families are Psychotic</td><td>35</td></tr>",
                            "<tr><td>The Stories of Eva Luna</td><td>35</td></tr>",
                            "<tr><td>Fight Club</td><td>35</td></tr>",
                            "<tr><td>Darwin's Dangerous Idea: Evolution and the Meanings of Life</td><td>35</td></tr>",
                            "<tr><td>Last Orders</td><td>35</td></tr>",
                            "<tr><td>Message in a Bottle</td><td>34</td></tr>",
                            "<tr><td>A Bend in the Road</td><td>34</td></tr>",
                            "<tr><td>Macbeth</td><td>34</td></tr>",
                            "<tr><td>Postmortem (Kay Scarpetta, #1)</td><td>34</td></tr>",
                            "<tr><td>Shadows of the Empire (Star Wars)</td><td>34</td></tr>",
                            "<tr><td>Boy: Tales of Childhood</td><td>34</td></tr>",
                            "<tr><td>Midwives</td><td>33</td></tr>",
                            "<tr><td>Speaker for the Dead (Ender's Saga, #2)</td><td>33</td></tr>",
                            "<tr><td>Ethan Frome</td><td>33</td></tr>",
                            "<tr><td>Sir Gawain and the Green Knight </td><td>33</td></tr>",
                            "<tr><td>Breakfast of Champions</td><td>33</td></tr>",
                            "<tr><td>You Shall Know Our Velocity!</td><td>33</td></tr>",
                            "<tr><td>God Bless You, Mr. Rosewater</td><td>33</td></tr>",
                            "<tr><td>Prophet</td><td>33</td></tr>",
                            "<tr><td>'Tis (Frank McCourt, #2)</td><td>33</td></tr>",
                            "<tr><td>'Salem's Lot</td><td>33</td></tr>",
                            "<tr><td>The Old Man and the Sea</td><td>33</td></tr>",
                            "<tr><td>Trials of Death (Cirque Du Freak, #5)</td><td>32</td></tr>",
                            "<tr><td>Night Over Water</td><td>32</td></tr>",
                            "<tr><td>Four Blondes</td><td>32</td></tr>",
                            "<tr><td>Amsterdam</td><td>32</td></tr>",
                            "<tr><td>Four to Score (Stephanie Plum, #4)</td><td>32</td></tr>",
                            "<tr><td>Mayflower: A Story of Courage, Community, and War</td><td>32</td></tr>",
                            "<tr><td>The Giver (The Giver, #1)</td><td>32</td></tr>",
                            "<tr><td>The Drama of the Gifted Child: The Search for the True Self</td><td>32</td></tr>",
                            "<tr><td>The Burden of Proof</td><td>32</td></tr>",
                            "<tr><td>Cane River</td><td>32</td></tr>",
                            "<tr><td>Holy Cow: An Indian Adventure</td><td>31</td></tr>",
                            "<tr><td>How to Make Love Like a Porn Star: A Cautionary Tale</td><td>31</td></tr>",
                            "<tr><td>The Broom of the System</td><td>31</td></tr>",
                            "<tr><td>Howl and Other Poems</td><td>31</td></tr>",
                            "<tr><td>The Great Book of Amber (The Chronicles of Amber, #1-10)</td><td>31</td></tr>",
                            "<tr><td>Franny and Zooey</td><td>30</td></tr>",
                            "<tr><td>The Secret Garden</td><td>30</td></tr>",
                            "<tr><td>Naked</td><td>30</td></tr>",
                            "<tr><td>A Bend in the River</td><td>30</td></tr>",
                            "<tr><td>Jack: Straight from the Gut</td><td>30</td></tr>",
                            "<tr><td>The Millionaire Next Door: The Surprising Secrets of Americas Wealthy</td><td>30</td></tr>",
                            "<tr><td>Path of the Assassin (Scot Harvath, #2)</td><td>30</td></tr>",
                            "<tr><td>The Year of Magical Thinking</td><td>30</td></tr>",
                            "<tr><td>Rising Sun</td><td>29</td></tr>",
                            "<tr><td>Casino Royale (James Bond, #1)</td><td>29</td></tr>",
                            "<tr><td>By the River Piedra I Sat Down and Wept</td><td>29</td></tr>",
                            "<tr><td>The Unbearable Lightness of Being</td><td>29</td></tr>",
                            "<tr><td>Jackdaws</td><td>29</td></tr>",
                            "<tr><td>John Adams</td><td>29</td></tr>",
                            "<tr><td>Jurassic Park (Jurassic Park, #1)</td><td>29</td></tr>",
                            "<tr><td>To Have and Have Not</td><td>29</td></tr>",
                            "<tr><td>Unlimited Power : The New Science Of Personal Achievement</td><td>29</td></tr>",
                            "<tr><td>Another Roadside Attraction</td><td>29</td></tr>",
                            "<tr><td>A Modest Proposal and Other Satirical Works</td><td>29</td></tr>",
                            "<tr><td>Forever in Blue: The Fourth Summer of the Sisterhood (Sisterhood, #4)</td><td>29</td></tr>",
                            "<tr><td>Naked Lunch</td><td>29</td></tr>",
                            "<tr><td>The Secret Art of Dr. Seuss</td><td>29</td></tr>",
                            "<tr><td>Fried Green Tomatoes at the Whistle Stop Cafe</td><td>29</td></tr>",
                            "<tr><td>The King of Torts</td><td>28</td></tr>",
                            "<tr><td>The Big Bad Wolf  (Alex Cross, #9)</td><td>28</td></tr>",
                            "<tr><td>The Giraffe and the Pelly and Me</td><td>28</td></tr>",
                            "<tr><td>Killers of the Dawn (Cirque Du Freak, #9)</td><td>28</td></tr>",
                            "<tr><td>Life and Times of Michael K</td><td>28</td></tr>",
                            "<tr><td>Practicing the Power of Now: Essential Teachings, Meditations, and Exercises from the Power of Now</td><td>28</td></tr>",
                            "<tr><td>Marlfox (Redwall, #11)</td><td>28</td></tr>",
                            "<tr><td>Saturday</td><td>28</td></tr>",
                            "<tr><td>Reading Lolita in Tehran</td><td>28</td></tr>",
                            "<tr><td>The Pillars of the Earth (The Kingsbridge Series, #1)</td><td>28</td></tr>",
                            "<tr><td>East of Eden</td><td>27</td></tr>",
                            "<tr><td>The Jane Austen Book Club</td><td>27</td></tr>",
                            "<tr><td>Cry, the Beloved Country</td><td>27</td></tr>",
                            "<tr><td>Them: Adventures with Extremists</td><td>27</td></tr>",
                            "<tr><td>Lucy Sullivan Is Getting Married</td><td>27</td></tr>",
                            "<tr><td>Pygmalion</td><td>27</td></tr>",
                            "<tr><td>Three to Get Deadly (Stephanie Plum, #3)</td><td>27</td></tr>",
                            "<tr><td>Crow Lake</td><td>27</td></tr>",
                            "<tr><td>Twenty Years After (The D'Artagnan Romances, #2)</td><td>27</td></tr>",
                            "<tr><td>A Son of the Circus</td><td>26</td></tr>",
                            "<tr><td>The Man Who Listens to Horses</td><td>26</td></tr>",
                            "<tr><td>Dr. Seuss's ABC: An Amazing Alphabet Book! (Bright and Early Board Books)</td><td>26</td></tr>",
                            "<tr><td>The Language Instinct: How the Mind Creates Language</td><td>26</td></tr>",
                            "<tr><td>1984</td><td>26</td></tr>",
                            "<tr><td>Dispatches</td><td>26</td></tr>",
                            "<tr><td>number9dream</td><td>26</td></tr>",
                            "<tr><td>Blindness</td><td>26</td></tr>",
                            "<tr><td>Genome: the Autobiography of a Species in 23 Chapters</td><td>26</td></tr>",
                            "<tr><td>Brave New World</td><td>26</td></tr>",
                            "<tr><td>Danny the Champion of the World</td><td>26</td></tr>",
                            "<tr><td>Endymion (Hyperion Cantos, #3)</td><td>25</td></tr>",
                            "<tr><td>Lord of the Shadows (Cirque Du Freak, #11)</td><td>25</td></tr>",
                            "<tr><td>The House of the Spirits</td><td>25</td></tr>",
                            "<tr><td>The Good Husband of Zebra Drive (No. 1 Ladies' Detective Agency, #8)</td><td>25</td></tr>",
                            "<tr><td>From Potter's Field (Kay Scarpetta, #6)</td><td>25</td></tr>",
                            "<tr><td>Peter and the Shadow Thieves (Peter and the Starcatchers, #2)</td><td>25</td></tr>",
                            "<tr><td>Tears of the Giraffe (No. 1 Ladies' Detective Agency, #2)</td><td>25</td></tr>",
                            "<tr><td>The Vampire Prince (Cirque Du Freak, #6)</td><td>25</td></tr>",
                            "<tr><td>Microserfs</td><td>25</td></tr>",
                            "<tr><td>The Four Agreements: A Practical Guide to Personal Freedom</td><td>24</td></tr>",
                            "<tr><td>Cause of Death (Kay Scarpetta, #7)</td><td>24</td></tr>",
                            "<tr><td>Enchantment</td><td>24</td></tr>",
                            "<tr><td>Rainbow Six (Jack Ryan Universe, #10)</td><td>24</td></tr>",
                            "<tr><td>Goldfinger (James Bond, #7)</td><td>24</td></tr>",
                            "<tr><td>The Universe in a Nutshell</td><td>24</td></tr>",
                            "<tr><td>The Android's Dream</td><td>24</td></tr>",
                            "<tr><td>Dear John</td><td>24</td></tr>",
                            "<tr><td>Three Men in a Boat (Three Men, #1)</td><td>24</td></tr>",
                            "<tr><td>I Feel Bad about My Neck: And Other Thoughts on Being a Woman</td><td>24</td></tr>",
                            "<tr><td>The Men Who Stare at Goats</td><td>23</td></tr>",
                            "<tr><td>The Very Hungry Caterpillar Board Book</td><td>23</td></tr>",
                            "<tr><td>Airframe</td><td>23</td></tr>",
                            "<tr><td>The Drawing of the Three (The Dark Tower, #2)</td><td>23</td></tr>",
                            "<tr><td>Extremely Loud and Incredibly Close</td><td>23</td></tr>",
                            "<tr><td>Eiger Dreams: Ventures Among Men and Mountains</td><td>23</td></tr>",
                            "<tr><td>Mother Night</td><td>23</td></tr>",
                            "<tr><td>Reservation Blues</td><td>23</td></tr>",
                            "<tr><td>The Red Tent</td><td>23</td></tr>",
                            "<tr><td>Messenger of Truth (Maisie Dobbs, #4)</td><td>23</td></tr>",
                            "<tr><td>Farewell, My Lovely (Philip Marlowe, #2)</td><td>23</td></tr>",
                            "<tr><td>The Bourne Identity (Jason Bourne, #1)</td><td>23</td></tr>",
                            "<tr><td>Saving Fish from Drowning</td><td>22</td></tr>",
                            "<tr><td>The Idiot Girls' Action-Adventure Club: True Tales from a Magnificent and Clumsy Life</td><td>22</td></tr>",
                            "<tr><td>Enduring Love</td><td>22</td></tr>",
                            "<tr><td>The Fourth Hand</td><td>22</td></tr>",
                            "<tr><td>Hard Times</td><td>22</td></tr>",
                            "<tr><td>God Bless You, Dr. Kevorkian</td><td>22</td></tr>",
                            "<tr><td>A Fine Balance</td><td>22</td></tr>",
                            "<tr><td>Blue Like Jazz: Nonreligious Thoughts on Christian Spirituality</td><td>22</td></tr>",
                            "<tr><td>The Emperor's Children</td><td>22</td></tr>",
                            "<tr><td>Crime and Punishment</td><td>22</td></tr>",
                            "<tr><td>The Adventures of Huckleberry Finn</td><td>22</td></tr>",
                            "<tr><td>A Portrait of the Artist as a Young Man</td><td>22</td></tr>",
                            "<tr><td>Farmer Boy (Little House, #3)</td><td>22</td></tr>",
                            "<tr><td>The Chamber</td><td>22</td></tr>",
                            "<tr><td>The Silmarillion (Middle-Earth Universe)</td><td>21</td></tr>",
                            "<tr><td>Trace (Kay Scarpetta, #13)</td><td>21</td></tr>",
                            "<tr><td>Regeneration (Regeneration, #1)</td><td>21</td></tr>",
                            "<tr><td>The Elephant Vanishes</td><td>21</td></tr>",
                            "<tr><td>Cover Her Face (Adam Dalgliesh #1)</td><td>21</td></tr>",
                            "<tr><td>The Sea</td><td>21</td></tr>",
                            "<tr><td>Ten Apples Up On Top!</td><td>21</td></tr>",
                            "<tr><td>City of the Beasts (Eagle and Jaguar, #1)</td><td>21</td></tr>",
                            "<tr><td>Moonraker (James Bond, #3)</td><td>21</td></tr>",
                            "<tr><td>The Other Side of the Story</td><td>21</td></tr>",
                            "<tr><td>The BFG</td><td>21</td></tr>",
                            "<tr><td>The History of Sexuality, Volume 1: An Introduction</td><td>21</td></tr>",
                            "<tr><td>Ivanhoe</td><td>21</td></tr>",
                            "<tr><td>Eats, Shoots &amp; Leaves: The Zero Tolerance Approach to Punctuation</td><td>21</td></tr>",
                            "<tr><td>Comfort Me with Apples: More Adventures at the Table</td><td>21</td></tr>",
                            "<tr><td>The No. 1 Ladies' Detective Agency  (No. 1 Ladies' Detective Agency, #1)</td><td>21</td></tr>",
                            "<tr><td>Confessions of a Shopaholic (Shopaholic, #1)</td><td>21</td></tr>",
                            "<tr><td>Three Weeks With My Brother</td><td>21</td></tr>",
                            "<tr><td>On Beauty</td><td>21</td></tr>",
                            "<tr><td>Olympos (Ilium, #2)</td><td>21</td></tr>",
                            "<tr><td>The Joy Luck Club</td><td>21</td></tr>",
                            "<tr><td>Little Town on the Prairie  (Little House, #7)</td><td>20</td></tr>",
                            "<tr><td>The Water-Method Man</td><td>20</td></tr>",
                            "<tr><td>Atonement</td><td>20</td></tr>",
                            "<tr><td>Drowning Ruth</td><td>20</td></tr>",
                            "<tr><td>Witches Abroad (Discworld, #12; Witches #3)</td><td>20</td></tr>",
                            "<tr><td>Gulliver's Travels</td><td>20</td></tr>",
                            "<tr><td>Shadow of the Giant (Ender's Shadow, #4)</td><td>20</td></tr>",
                            "<tr><td>The Five People You Meet in Heaven</td><td>20</td></tr>",
                            "<tr><td>Sickened: The Memoir of a Munchausen by Proxy Childhood</td><td>20</td></tr>",
                            "<tr><td>Allies of the Night (Cirque du Freak, #8)</td><td>20</td></tr>",
                            "<tr><td>The End of Poverty</td><td>20</td></tr>",
                            "<tr><td>Visions of Sugar Plums (Stephanie Plum, #8.5)</td><td>20</td></tr>",
                            "<tr><td>The Kalahari Typing School for Men (No. 1 Ladies' Detective Agency, #4)</td><td>19</td></tr>",
                            "<tr><td>Nine Stories</td><td>19</td></tr>",
                            "<tr><td>The Cat in the Hat and Other Dr. Seuss Favorites</td><td>19</td></tr>",
                            "<tr><td>Pardonable Lies (Maisie Dobbs, #3)</td><td>19</td></tr>",
                            "<tr><td>The Bonfire of the Vanities</td><td>19</td></tr>",
                            "<tr><td>The High Window (Philip Marlowe, #3)</td><td>19</td></tr>",
                            "<tr><td>Infinite Jest</td><td>19</td></tr>",
                            "<tr><td>Plum Lovin' (Stephanie Plum, #12.5)</td><td>19</td></tr>",
                            "<tr><td>Point of Origin (Kay Scarpetta, #9)</td><td>19</td></tr>",
                            "<tr><td>The Big Over Easy (Nursery Crime, #1)</td><td>19</td></tr>",
                            "<tr><td>Men Are from Mars, Women Are from Venus</td><td>19</td></tr>",
                            "<tr><td>Bridge to Terabithia</td><td>19</td></tr>",
                            "<tr><td>A Raisin in the Sun</td><td>19</td></tr>",
                            "<tr><td>Carrie / 'Salem's Lot / The Shining</td><td>18</td></tr>",
                            "<tr><td>The Body Farm (Kay Scarpetta, #5)</td><td>18</td></tr>",
                            "<tr><td>The Beautiful and Damned</td><td>18</td></tr>",
                            "<tr><td>Keep the Aspidistra Flying</td><td>18</td></tr>",
                            "<tr><td>Brave New World Revisited </td><td>18</td></tr>",
                            "<tr><td>The Mermaid Chair</td><td>18</td></tr>",
                            "<tr><td>Execution: The Discipline of Getting Things Done</td><td>18</td></tr>",
                            "<tr><td>Girls in Pants: The Third Summer of the Sisterhood (Sisterhood, #3)</td><td>18</td></tr>",
                            "<tr><td>The Wind in the Willows</td><td>18</td></tr>",
                            "<tr><td>Shopaholic &amp; Baby (Shopaholic, #5)</td><td>18</td></tr>",
                            "<tr><td>Glamorama</td><td>18</td></tr>",
                            "<tr><td>While I Was Gone</td><td>18</td></tr>",
                            "<tr><td>Cloudy With a Chance of Meatballs</td><td>18</td></tr>",
                            "<tr><td>Mother of Pearl</td><td>18</td></tr>",
                            "<tr><td>A Living Nightmare (Cirque Du Freak, #1)</td><td>18</td></tr>",
                            "<tr><td>Bagombo Snuff Box</td><td>18</td></tr>",
                            "<tr><td>V for Vendetta</td><td>17</td></tr>",
                            "<tr><td>Welcome to the Monkey House</td><td>17</td></tr>",
                            "<tr><td>Fall on Your Knees</td><td>17</td></tr>",
                            "<tr><td>Persepolis 2: The Story of a Return (Persepolis, #2)</td><td>17</td></tr>",
                            "<tr><td>The Glass Castle</td><td>17</td></tr>",
                            "<tr><td>Disclosure</td><td>17</td></tr>",
                            "<tr><td>Survival in Auschwitz</td><td>17</td></tr>",
                            "<tr><td>Last Chance to See</td><td>17</td></tr>",
                            "<tr><td>Suzanne's Diary for Nicholas</td><td>17</td></tr>",
                            "<tr><td>Animal Farm</td><td>17</td></tr>",
                            "<tr><td>The Metamorphosis and Other Stories</td><td>16</td></tr>",
                            "<tr><td>1421: The Year China Discovered America</td><td>16</td></tr>",
                            "<tr><td>Even Cowgirls Get the Blues</td><td>16</td></tr>",
                            "<tr><td>The Sun Also Rises</td><td>16</td></tr>",
                            "<tr><td>The Lake of Souls (Cirque Du Freak, #10)</td><td>16</td></tr>",
                            "<tr><td>The Informers</td><td>16</td></tr>",
                            "<tr><td>The Electric Kool-Aid Acid Test</td><td>16</td></tr>",
                            "<tr><td>Song of Susannah (The Dark Tower, #6)</td><td>16</td></tr>",
                            "<tr><td>World Without End (The Kingsbridge Series, #2)</td><td>16</td></tr>",
                            "<tr><td>Less Than Zero</td><td>16</td></tr>",
                            "<tr><td>The Red Pony</td><td>16</td></tr>",
                            "<tr><td>Player Piano</td><td>15</td></tr>",
                            "<tr><td>The Terror</td><td>15</td></tr>",
                            "<tr><td>By the Shores of Silver Lake  (Little House, #5)</td><td>15</td></tr>",
                            "<tr><td>Fear and Loathing on the Campaign Trail '72</td><td>15</td></tr>",
                            "<tr><td>Lord of the Flies</td><td>15</td></tr>",
                            "<tr><td>Don Quixote</td><td>15</td></tr>",
                            "<tr><td>Hocus Pocus</td><td>15</td></tr>",
                            "<tr><td>Dreamland</td><td>15</td></tr>",
                            "<tr><td>The Cider House Rules</td><td>15</td></tr>",
                            "<tr><td>The Poetry of Pablo Neruda</td><td>15</td></tr>",
                            "<tr><td>A Spot of Bother</td><td>15</td></tr>",
                            "<tr><td>Emma</td><td>15</td></tr>",
                            "<tr><td>Jewel</td><td>15</td></tr>",
                            "<tr><td>Jesus Freaks: Stories of Those Who Stood for Jesus, the Ultimate Jesus Freaks (Jesus Freaks, #1)</td><td>15</td></tr>",
                            "<tr><td>Five Little Peppers and How They Grew</td><td>15</td></tr>",
                            "<tr><td>Fear of Flying</td><td>14</td></tr>",
                            "<tr><td>Homage to Catalonia</td><td>14</td></tr>",
                            "<tr><td>Teacher Man (Frank McCourt, #3)</td><td>14</td></tr>",
                            "<tr><td>The Rules of Attraction</td><td>14</td></tr>",
                            "<tr><td>World War Z: An Oral History of the Zombie War</td><td>14</td></tr>",
                            "<tr><td>Diamonds Are Forever (James Bond, #4)</td><td>14</td></tr>",
                            "<tr><td>Where the Heart Is</td><td>14</td></tr>",
                            "<tr><td>In the Skin of a Lion</td><td>14</td></tr>",
                            "<tr><td>Oblivion</td><td>14</td></tr>",
                            "<tr><td>The Shipping News</td><td>14</td></tr>",
                            "<tr><td>In the Company of Cheerful Ladies (No. 1 Ladies' Detective Agency, #6)</td><td>14</td></tr>",
                            "<tr><td>The Long Patrol (Redwall, #10)</td><td>14</td></tr>",
                            "<tr><td>We Were the Mulvaneys</td><td>14</td></tr>",
                            "<tr><td>The Lost World (Jurassic Park, #2)</td><td>14</td></tr>",
                            "<tr><td>The Moonstone</td><td>14</td></tr>",
                            "<tr><td>Watermelon (Walsh Family, #1)</td><td>14</td></tr>",
                            "<tr><td>Bluebeard</td><td>13</td></tr>",
                            "<tr><td>What Do You Care What Other People Think?</td><td>13</td></tr>",
                            "<tr><td>Rose Daughter</td><td>13</td></tr>",
                            "<tr><td>Life, the Universe and Everything (Hitchhiker's Guide, #3)</td><td>12</td></tr>",
                            "<tr><td>Emily of New Moon (Emily, #1)</td><td>12</td></tr>",
                            "<tr><td>Two for the Dough (Stephanie Plum, #2)</td><td>12</td></tr>",
                            "<tr><td>Ender's Shadow (Ender's Shadow, #1)</td><td>12</td></tr>",
                            "<tr><td>Crossing to Safety</td><td>12</td></tr>",
                            "<tr><td>Rachel's Holiday (Walsh Family, #2)</td><td>12</td></tr>",
                            "<tr><td>Raise High the Roof Beam, Carpenters &amp; Seymour: An Introduction</td><td>12</td></tr>",
                            "<tr><td>Redwall (Redwall, #1)</td><td>12</td></tr>",
                            "<tr><td>Salamandastron (Redwall, #5)</td><td>12</td></tr>",
                            "<tr><td>Book of the Dead (Kay Scarpetta, #15)</td><td>12</td></tr>",
                            "<tr><td>The Sirens of Titan</td><td>12</td></tr>",
                            "<tr><td>How to Stop Worrying and Start Living</td><td>12</td></tr>",
                            "<tr><td>Hot Six (Stephanie Plum, #6)</td><td>12</td></tr>",
                            "<tr><td>The Audacity of Hope: Thoughts on Reclaiming the American Dream</td><td>12</td></tr>",
                            "<tr><td>Year of Wonders</td><td>12</td></tr>",
                            "<tr><td>The Long Walk</td><td>12</td></tr>",
                            "<tr><td>Consider the Lobster and Other Essays</td><td>11</td></tr>",
                            "<tr><td>Phenomenology of Spirit</td><td>11</td></tr>",
                            "<tr><td>Demons</td><td>11</td></tr>",
                            "<tr><td>Birdsong</td><td>11</td></tr>",
                            "<tr><td>The Baron in the Trees</td><td>11</td></tr>",
                            "<tr><td>A Map of the World</td><td>11</td></tr>",
                            "<tr><td>Jitterbug Perfume</td><td>11</td></tr>",
                            "<tr><td>The Hound of the Baskervilles</td><td>11</td></tr>",
                            "<tr><td>What Is the What</td><td>10</td></tr>",
                            "<tr><td>On the Banks of Plum Creek  (Little House, #4)</td><td>10</td></tr>",
                            "<tr><td>Bleach, Volume 15</td><td>10</td></tr>",
                            "<tr><td>The Blank Slate: The Modern Denial of Human Nature</td><td>10</td></tr>",
                            "<tr><td>As the Crow Flies</td><td>10</td></tr>",
                            "<tr><td>The Client</td><td>10</td></tr>",
                            "<tr><td>Going Solo</td><td>10</td></tr>",
                            "<tr><td>James and the Giant Peach</td><td>9</td></tr>",
                            "<tr><td>Here on Earth</td><td>9</td></tr>",
                            "<tr><td>Desert Flower</td><td>9</td></tr>",
                            "<tr><td>The Vampire's Assistant (Cirque Du Freak, #2)</td><td>9</td></tr>",
                            "<tr><td>Red Prophet (Tales of Alvin Maker, #2)</td><td>9</td></tr>",
                            "<tr><td>Slapstick, or Lonesome No More!</td><td>9</td></tr>",
                            "<tr><td>Songbook</td><td>9</td></tr>",
                            "<tr><td>Bleach, Volume 01</td><td>9</td></tr>",
                            "<tr><td>Betsy-Tacy (Betsy-Tacy, #1)</td><td>9</td></tr>",
                            "<tr><td>Assassination Vacation</td><td>9</td></tr>",
                            "<tr><td>Wuthering Heights</td><td>9</td></tr>",
                            "<tr><td>The Moor's Last Sigh</td><td>9</td></tr>",
                            "<tr><td>Vanity Fair</td><td>8</td></tr>",
                            "<tr><td>Deception Point</td><td>8</td></tr>",
                            "<tr><td>Darkness</td><td>8</td></tr>",
                            "<tr><td>Awakening the Buddha Within: Tibetan Wisdom for the Western World</td><td>8</td></tr>",
                            "<tr><td>Fierce Invalids Home from Hot Climates</td><td>8</td></tr>",
                            "<tr><td>Xenocide (Ender's Saga, #3)</td><td>8</td></tr>",
                            "<tr><td>How We Are Hungry</td><td>8</td></tr>",
                            "<tr><td>Last Chance Saloon</td><td>8</td></tr>",
                            "<tr><td>The Comfort of Strangers</td><td>8</td></tr>",
                            "<tr><td>Midnight for Charlie Bone (The Children of the Red King, #1)</td><td>8</td></tr>",
                            "<tr><td>On Her Majesty's Secret Service (James Bond, #11)</td><td>8</td></tr>",
                            "<tr><td>Runaways, Vol. 1: Pride and Joy (Runaways, #1)</td><td>8</td></tr>",
                            "<tr><td>Shadow Divers</td><td>8</td></tr>",
                            "<tr><td>Shadow of the Hegemon (Ender's Shadow, #2)</td><td>8</td></tr>",
                            "<tr><td>She's Come Undone</td><td>8</td></tr>",
                            "<tr><td>Galápagos</td><td>7</td></tr>",
                            "<tr><td>The Count of Monte Cristo</td><td>7</td></tr>",
                            "<tr><td>Mrs. Frisby and the Rats of NIMH (Rats of NIMH, #1)</td><td>7</td></tr>",
                            "<tr><td>Bel Canto</td><td>7</td></tr>",
                            "<tr><td>Pale Fire</td><td>7</td></tr>",
                            "<tr><td>Predator (Kay Scarpetta, #14)</td><td>7</td></tr>",
                            "<tr><td>Skipping Christmas</td><td>7</td></tr>",
                            "<tr><td>Sons of Destiny (Cirque Du Freak, #12)</td><td>7</td></tr>",
                            "<tr><td>The Woman in the Dunes</td><td>6</td></tr>",
                            "<tr><td>Little Altars Everywhere</td><td>6</td></tr>",
                            "<tr><td>Shopaholic and Sister (Shopaholic, #4)</td><td>6</td></tr>",
                            "<tr><td>The Lorax</td><td>5</td></tr>",
                            "<tr><td>The Heart of a Woman</td><td>5</td></tr>",
                            "<tr><td>Hunters of the Dusk (Cirque Du Freak, #7)</td><td>5</td></tr>",
                            "<tr><td>I Can Read With My Eyes Shut!</td><td>5</td></tr>",
                            "<tr><td>King Rat (Asian Saga, #4)</td><td>5</td></tr>",
                            "<tr><td>A Virtuous Woman</td><td>5</td></tr>",
                            "<tr><td>The Quiet American</td><td>5</td></tr>",
                            "<tr><td>Pygmalion &amp; My Fair Lady</td><td>5</td></tr>",
                            "<tr><td>Cradle and All</td><td>5</td></tr>",
                            "<tr><td>Superman: Birthright</td><td>5</td></tr>",
                            "<tr><td>The God of Small Things</td><td>4</td></tr>",
                            "<tr><td>The Complete Short Stories</td><td>4</td></tr>",
                            "<tr><td>The Power of Now: A Guide to Spiritual Enlightenment</td><td>4</td></tr>",
                            "<tr><td>Ahab's Wife, or The Star-Gazer</td><td>4</td></tr>",
                            "<tr><td>The Atonement Child</td><td>4</td></tr>",
                            "<tr><td>Still Life with Woodpecker</td><td>4</td></tr>",
                            "<tr><td>Cannery Row</td><td>4</td></tr>",
                            "<tr><td>Next</td><td>4</td></tr>",
                            "<tr><td>Never Let Me Go</td><td>4</td></tr>",
                            "<tr><td>Loving What Is: Four Questions That Can Change Your Life</td><td>4</td></tr>",
                            "<tr><td>Embroideries</td><td>4</td></tr>",
                            "<tr><td>I Hope They Serve Beer in Hell (Tucker Max, #1)</td><td>4</td></tr>",
                            "<tr><td>Freak the Mighty (Freak The Mighty, #1)</td><td>4</td></tr>",
                            "<tr><td>The Street Lawyer</td><td>3</td></tr>",
                            "<tr><td>The Bell Jar</td><td>3</td></tr>",
                            "<tr><td>The Canterbury Tales</td><td>3</td></tr>",
                            "<tr><td>Herzog</td><td>3</td></tr>",
                            "<tr><td>Haroun and the Sea of Stories (Khalifa Brothers, #1)</td><td>3</td></tr>",
                            "<tr><td>Sputnik Sweetheart</td><td>2</td></tr>",
                            "<tr><td>Deadeye Dick</td><td>2</td></tr>",
                            "<tr><td>The World According to Garp</td><td>2</td></tr>",
                            "<tr><td>Ghostwritten</td><td>2</td></tr>",
                            "<tr><td>The Bookseller of Kabul</td><td>1</td></tr>",
                            "<tr><td>The Divine Comedy</td><td>1</td></tr>",
                            "</table>"
                        ]
                    }
                }
            ],
            "execution_count": 63
        },
        {
            "cell_type": "markdown",
            "source": [
                "## **QUESTION 8:** Largest 'To Read' Lists\n",
                "\n",
                "**Part A:**  Create a query that returns a table that contains the top 10 users with the most number of titles on their 'to read' list.    Group all the entries by user\\_id.  \n",
                "\n",
                "> _Hint:_ You might want an alias for the titles.\n",
                "> \n",
                "> _Minimum Desired Output:_  user\\_id and your aliased column of titles.\n",
                "\n",
                "**Part B:**  The longest list length is 15 titles total, and is shared by 4 different users.  Select one of the uses and print out their entire '**to read**' list."
            ],
            "metadata": {
                "azdata_cell_guid": "0b0090b0-2b28-44c6-8bb6-06b4c03c3ff1"
            },
            "attachments": {}
        },
        {
            "cell_type": "code",
            "source": [
                "-- Code Here:\n",
                "\n",
                "select top 10 count(b.title) as title_count,tr.user_id\n",
                "from BooksDB.dbo.books as B\n",
                "join BooksDB.dbo.to_read as TR\n",
                "on b.book_id=tr.book_id\n",
                "group by tr.user_id\n",
                "order by title_count desc\n",
                "\n",
                "SELECT b.title,tr.user_id\n",
                "from BooksDB.dbo.books as B\n",
                "join BooksDB.dbo.to_read as TR\n",
                "on b.book_id=tr.book_id\n",
                "where tr.user_id='14771'\n",
                ""
            ],
            "metadata": {
                "azdata_cell_guid": "c6c815f8-890d-4163-be63-3d300e320597",
                "tags": [],
                "language": "sql"
            },
            "outputs": [
                {
                    "output_type": "display_data",
                    "data": {
                        "text/html": "(10 rows affected)"
                    },
                    "metadata": {}
                },
                {
                    "output_type": "display_data",
                    "data": {
                        "text/html": "(15 rows affected)"
                    },
                    "metadata": {}
                },
                {
                    "output_type": "display_data",
                    "data": {
                        "text/html": "Total execution time: 00:00:00.211"
                    },
                    "metadata": {}
                },
                {
                    "output_type": "execute_result",
                    "metadata": {},
                    "execution_count": 66,
                    "data": {
                        "application/vnd.dataresource+json": {
                            "schema": {
                                "fields": [
                                    {
                                        "name": "title_count"
                                    },
                                    {
                                        "name": "user_id"
                                    }
                                ]
                            },
                            "data": [
                                {
                                    "0": "15",
                                    "1": "14771"
                                },
                                {
                                    "0": "15",
                                    "1": "12483"
                                },
                                {
                                    "0": "15",
                                    "1": "11932"
                                },
                                {
                                    "0": "15",
                                    "1": "38201"
                                },
                                {
                                    "0": "14",
                                    "1": "36923"
                                },
                                {
                                    "0": "14",
                                    "1": "41523"
                                },
                                {
                                    "0": "14",
                                    "1": "27933"
                                },
                                {
                                    "0": "14",
                                    "1": "37359"
                                },
                                {
                                    "0": "13",
                                    "1": "25734"
                                },
                                {
                                    "0": "13",
                                    "1": "51137"
                                }
                            ]
                        },
                        "text/html": [
                            "<table>",
                            "<tr><th>title_count</th><th>user_id</th></tr>",
                            "<tr><td>15</td><td>14771</td></tr>",
                            "<tr><td>15</td><td>12483</td></tr>",
                            "<tr><td>15</td><td>11932</td></tr>",
                            "<tr><td>15</td><td>38201</td></tr>",
                            "<tr><td>14</td><td>36923</td></tr>",
                            "<tr><td>14</td><td>41523</td></tr>",
                            "<tr><td>14</td><td>27933</td></tr>",
                            "<tr><td>14</td><td>37359</td></tr>",
                            "<tr><td>13</td><td>25734</td></tr>",
                            "<tr><td>13</td><td>51137</td></tr>",
                            "</table>"
                        ]
                    }
                },
                {
                    "output_type": "execute_result",
                    "metadata": {},
                    "execution_count": 66,
                    "data": {
                        "application/vnd.dataresource+json": {
                            "schema": {
                                "fields": [
                                    {
                                        "name": "title"
                                    },
                                    {
                                        "name": "user_id"
                                    }
                                ]
                            },
                            "data": [
                                {
                                    "0": "The Fellowship of the Ring (The Lord of the Rings, #1)",
                                    "1": "14771"
                                },
                                {
                                    "0": "Harry Potter and the Order of the Phoenix (Harry Potter, #5)",
                                    "1": "14771"
                                },
                                {
                                    "0": "Harry Potter and the Goblet of Fire (Harry Potter, #4)",
                                    "1": "14771"
                                },
                                {
                                    "0": "J.R.R. Tolkien 4-Book Boxed Set: The Hobbit and The Lord of the Rings",
                                    "1": "14771"
                                },
                                {
                                    "0": "In a Sunburned Country",
                                    "1": "14771"
                                },
                                {
                                    "0": "A Widow for One Year",
                                    "1": "14771"
                                },
                                {
                                    "0": "Tropic of Cancer",
                                    "1": "14771"
                                },
                                {
                                    "0": "The Iliad/The Odyssey",
                                    "1": "14771"
                                },
                                {
                                    "0": "The Lost Continent: Travels in Small Town America",
                                    "1": "14771"
                                },
                                {
                                    "0": "The New York Trilogy",
                                    "1": "14771"
                                },
                                {
                                    "0": "The Lord of the Rings: The Art of The Fellowship of the Ring",
                                    "1": "14771"
                                },
                                {
                                    "0": "The Known World",
                                    "1": "14771"
                                },
                                {
                                    "0": "Ten Apples Up On Top!",
                                    "1": "14771"
                                },
                                {
                                    "0": "Leviathan",
                                    "1": "14771"
                                },
                                {
                                    "0": "What to Expect the First Year (What to Expect)",
                                    "1": "14771"
                                }
                            ]
                        },
                        "text/html": [
                            "<table>",
                            "<tr><th>title</th><th>user_id</th></tr>",
                            "<tr><td>The Fellowship of the Ring (The Lord of the Rings, #1)</td><td>14771</td></tr>",
                            "<tr><td>Harry Potter and the Order of the Phoenix (Harry Potter, #5)</td><td>14771</td></tr>",
                            "<tr><td>Harry Potter and the Goblet of Fire (Harry Potter, #4)</td><td>14771</td></tr>",
                            "<tr><td>J.R.R. Tolkien 4-Book Boxed Set: The Hobbit and The Lord of the Rings</td><td>14771</td></tr>",
                            "<tr><td>In a Sunburned Country</td><td>14771</td></tr>",
                            "<tr><td>A Widow for One Year</td><td>14771</td></tr>",
                            "<tr><td>Tropic of Cancer</td><td>14771</td></tr>",
                            "<tr><td>The Iliad/The Odyssey</td><td>14771</td></tr>",
                            "<tr><td>The Lost Continent: Travels in Small Town America</td><td>14771</td></tr>",
                            "<tr><td>The New York Trilogy</td><td>14771</td></tr>",
                            "<tr><td>The Lord of the Rings: The Art of The Fellowship of the Ring</td><td>14771</td></tr>",
                            "<tr><td>The Known World</td><td>14771</td></tr>",
                            "<tr><td>Ten Apples Up On Top!</td><td>14771</td></tr>",
                            "<tr><td>Leviathan</td><td>14771</td></tr>",
                            "<tr><td>What to Expect the First Year (What to Expect)</td><td>14771</td></tr>",
                            "</table>"
                        ]
                    }
                }
            ],
            "execution_count": 66
        }
    ]
}